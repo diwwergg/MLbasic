{
  "nbformat": 4,
  "nbformat_minor": 0,
  "metadata": {
    "colab": {
      "provenance": [],
      "collapsed_sections": [
        "KNttOfnO9JzA",
        "GZ7Zl4MRzisC",
        "FBYkWrZp0Vc-",
        "exUbIPRbJpU1",
        "t0v4AJaTOY3t",
        "ZN57AJ_vOY3x",
        "aPX6Kjk7Q5cP",
        "wWxeNDLTwgzW",
        "-FRwy386Tqqs",
        "xSm49DzSxMTP",
        "KaytKbJCIbWN",
        "IFJX5Z1RP9JQ",
        "t6Qc1Y_MUhQr",
        "h1tqbAzDWDAD",
        "WD7SLFodJf3q",
        "mUghSvbBKhjX"
      ],
      "toc_visible": true
    },
    "kernelspec": {
      "name": "python3",
      "display_name": "Python 3"
    },
    "language_info": {
      "name": "python"
    }
  },
  "cells": [
    {
      "cell_type": "code",
      "source": [
        "import numpy as np\n",
        "import pandas as pd\n",
        "import seaborn as sns\n",
        "import matplotlib.pyplot as plt\n",
        "import sklearn\n",
        "import operator\n",
        "import random as rand"
      ],
      "metadata": {
        "id": "n4pj3f7Ev8bb"
      },
      "execution_count": null,
      "outputs": []
    },
    {
      "cell_type": "markdown",
      "source": [
        "#KNN"
      ],
      "metadata": {
        "id": "w1EeRqihuh6J"
      }
    },
    {
      "cell_type": "markdown",
      "source": [],
      "metadata": {
        "id": "wINuQ66g63my"
      }
    },
    {
      "cell_type": "markdown",
      "source": [
        "## KNN numpy only"
      ],
      "metadata": {
        "id": "KNttOfnO9JzA"
      }
    },
    {
      "cell_type": "markdown",
      "source": [],
      "metadata": {
        "id": "AgWFJwXS98bm"
      }
    },
    {
      "cell_type": "code",
      "source": [
        "data = sns.load_dataset('iris')"
      ],
      "metadata": {
        "id": "fR5oDInxFHE7"
      },
      "execution_count": null,
      "outputs": []
    },
    {
      "cell_type": "code",
      "source": [
        "indices = np.random.permutation(data.shape[0]) # random index\n",
        "print(indices)\n",
        "div = int(0.75 * len(indices))\n",
        "print(div)\n",
        "development_id =indices[:div]\n",
        "test_id =  indices[div:]\n",
        "\n",
        "development_set, test_set = data.loc[development_id,:], data.loc[test_id,:]\n",
        "print(\"Development Set:\\n\", development_set, \"\\n\\nTest Set:\\n\", test_set)"
      ],
      "metadata": {
        "colab": {
          "base_uri": "https://localhost:8080/"
        },
        "id": "9mYX1UdXFQWB",
        "outputId": "1eb586b8-e129-44ac-ce22-8dbd814ff6f8"
      },
      "execution_count": null,
      "outputs": [
        {
          "output_type": "stream",
          "name": "stdout",
          "text": [
            "[ 16  81  86  50  65  89  99  63  56  78 131 119  94   8 132  82  37   5\n",
            "  64  42 126 115 104  23 122 121 129 142 106  43  24  52 138  73  46 143\n",
            " 148  34  62  67  71  20  32  68  44  22  21  59  18  85 125   4  66  54\n",
            " 130   3  84  55  19  75  77  49  27  41  93 141 135  10  53  74 144   6\n",
            " 127 108 145  72 128  33  98 139 114 101  58 112  90  70   0 103  26   7\n",
            "  25  17  11 146  12 105  96 136 116 107  48   9  80 111 147  57 102 120\n",
            " 117 109  28  83 100  30 124   1  38  87  91  31  61  51 149 113  92  39\n",
            "  60  29  14 134  47  15  40  76 110 123 137  95   2 133 140  69  45  35\n",
            "  36  88 118  13  79  97]\n",
            "112\n",
            "Development Set:\n",
            "      sepal_length  sepal_width  petal_length  petal_width     species\n",
            "16            5.4          3.9           1.3          0.4      setosa\n",
            "81            5.5          2.4           3.7          1.0  versicolor\n",
            "86            6.7          3.1           4.7          1.5  versicolor\n",
            "50            7.0          3.2           4.7          1.4  versicolor\n",
            "65            6.7          3.1           4.4          1.4  versicolor\n",
            "..            ...          ...           ...          ...         ...\n",
            "120           6.9          3.2           5.7          2.3   virginica\n",
            "117           7.7          3.8           6.7          2.2   virginica\n",
            "109           7.2          3.6           6.1          2.5   virginica\n",
            "28            5.2          3.4           1.4          0.2      setosa\n",
            "83            6.0          2.7           5.1          1.6  versicolor\n",
            "\n",
            "[112 rows x 5 columns] \n",
            "\n",
            "Test Set:\n",
            "      sepal_length  sepal_width  petal_length  petal_width     species\n",
            "100           6.3          3.3           6.0          2.5   virginica\n",
            "30            4.8          3.1           1.6          0.2      setosa\n",
            "124           6.7          3.3           5.7          2.1   virginica\n",
            "1             4.9          3.0           1.4          0.2      setosa\n",
            "38            4.4          3.0           1.3          0.2      setosa\n",
            "87            6.3          2.3           4.4          1.3  versicolor\n",
            "91            6.1          3.0           4.6          1.4  versicolor\n",
            "31            5.4          3.4           1.5          0.4      setosa\n",
            "61            5.9          3.0           4.2          1.5  versicolor\n",
            "51            6.4          3.2           4.5          1.5  versicolor\n",
            "149           5.9          3.0           5.1          1.8   virginica\n",
            "113           5.7          2.5           5.0          2.0   virginica\n",
            "92            5.8          2.6           4.0          1.2  versicolor\n",
            "39            5.1          3.4           1.5          0.2      setosa\n",
            "60            5.0          2.0           3.5          1.0  versicolor\n",
            "29            4.7          3.2           1.6          0.2      setosa\n",
            "14            5.8          4.0           1.2          0.2      setosa\n",
            "134           6.1          2.6           5.6          1.4   virginica\n",
            "47            4.6          3.2           1.4          0.2      setosa\n",
            "15            5.7          4.4           1.5          0.4      setosa\n",
            "40            5.0          3.5           1.3          0.3      setosa\n",
            "76            6.8          2.8           4.8          1.4  versicolor\n",
            "110           6.5          3.2           5.1          2.0   virginica\n",
            "123           6.3          2.7           4.9          1.8   virginica\n",
            "137           6.4          3.1           5.5          1.8   virginica\n",
            "95            5.7          3.0           4.2          1.2  versicolor\n",
            "2             4.7          3.2           1.3          0.2      setosa\n",
            "133           6.3          2.8           5.1          1.5   virginica\n",
            "140           6.7          3.1           5.6          2.4   virginica\n",
            "69            5.6          2.5           3.9          1.1  versicolor\n",
            "45            4.8          3.0           1.4          0.3      setosa\n",
            "35            5.0          3.2           1.2          0.2      setosa\n",
            "36            5.5          3.5           1.3          0.2      setosa\n",
            "88            5.6          3.0           4.1          1.3  versicolor\n",
            "118           7.7          2.6           6.9          2.3   virginica\n",
            "13            4.3          3.0           1.1          0.1      setosa\n",
            "79            5.7          2.6           3.5          1.0  versicolor\n",
            "97            6.2          2.9           4.3          1.3  versicolor\n"
          ]
        }
      ]
    },
    {
      "cell_type": "code",
      "source": [
        "mean_development_set = development_set.mean()\n",
        "mean_test_set = test_set.mean()\n",
        "std_development_set = development_set.std()\n",
        "std_test_set = test_set.std()"
      ],
      "metadata": {
        "colab": {
          "base_uri": "https://localhost:8080/"
        },
        "id": "3F4i8RkDF1fy",
        "outputId": "d5c67ada-ccd8-493c-9bca-c9faf27b4cd7"
      },
      "execution_count": null,
      "outputs": [
        {
          "output_type": "stream",
          "name": "stderr",
          "text": [
            "<ipython-input-116-988ec2da53bc>:1: FutureWarning: Dropping of nuisance columns in DataFrame reductions (with 'numeric_only=None') is deprecated; in a future version this will raise TypeError.  Select only valid columns before calling the reduction.\n",
            "  mean_development_set = development_set.mean()\n",
            "<ipython-input-116-988ec2da53bc>:2: FutureWarning: Dropping of nuisance columns in DataFrame reductions (with 'numeric_only=None') is deprecated; in a future version this will raise TypeError.  Select only valid columns before calling the reduction.\n",
            "  mean_test_set = test_set.mean()\n",
            "<ipython-input-116-988ec2da53bc>:3: FutureWarning: Dropping of nuisance columns in DataFrame reductions (with 'numeric_only=None') is deprecated; in a future version this will raise TypeError.  Select only valid columns before calling the reduction.\n",
            "  std_development_set = development_set.std()\n",
            "<ipython-input-116-988ec2da53bc>:4: FutureWarning: Dropping of nuisance columns in DataFrame reductions (with 'numeric_only=None') is deprecated; in a future version this will raise TypeError.  Select only valid columns before calling the reduction.\n",
            "  std_test_set = test_set.std()\n"
          ]
        }
      ]
    },
    {
      "cell_type": "code",
      "source": [
        "test_class = list(test_set.iloc[:,-1])\n",
        "dev_class = list(development_set.iloc[:,-1])"
      ],
      "metadata": {
        "id": "PWowuy-9F_Mh"
      },
      "execution_count": null,
      "outputs": []
    },
    {
      "cell_type": "markdown",
      "source": [
        "#### การหาระยะห่างแบบต่างๆ"
      ],
      "metadata": {
        "id": "72eNsSFY9bC0"
      }
    },
    {
      "cell_type": "code",
      "source": [
        "def euclideanDistance(data_1, data_2, data_len):\n",
        "    dist = 0\n",
        "    for i in range(data_len):\n",
        "        dist = dist + np.square(data_1[i] - data_2[i])\n",
        "    return np.sqrt(dist)\n",
        "\n",
        "def normalizedEuclideanDistance(data_1, data_2, data_len, data_mean, data_std):\n",
        "    n_dist = 0\n",
        "    for i in range(data_len):\n",
        "        n_dist = n_dist + (np.square(((data_1[i] - data_mean[i])/data_std[i]) - ((data_2[i] - data_mean[i])/data_std[i])))\n",
        "    return np.sqrt(n_dist)\n",
        "\n",
        "def cosineSimilarity(data_1, data_2):\n",
        "    dot = np.dot(data_1, data_2[:-1])\n",
        "    norm_data_1 = np.linalg.norm(data_1)\n",
        "    norm_data_2 = np.linalg.norm(data_2[:-1])\n",
        "    cos = dot / (norm_data_1 * norm_data_2)\n",
        "    return (1-cos)"
      ],
      "metadata": {
        "id": "j0ciCyL39PZF"
      },
      "execution_count": null,
      "outputs": []
    },
    {
      "cell_type": "markdown",
      "source": [
        "knn"
      ],
      "metadata": {
        "id": "QIlDeL61HJfL"
      }
    },
    {
      "cell_type": "code",
      "source": [
        "def knn(dataset, testInstance, k, dist_method, dataset_mean, dataset_std): \n",
        "    distances = {}\n",
        "    length = testInstance.shape[1]\n",
        "    if dist_method == 'euclidean':\n",
        "        for x in range(len(dataset)):\n",
        "            dist_up = euclideanDistance(testInstance, dataset.iloc[x], length)\n",
        "            distances[x] = dist_up[0]\n",
        "    elif dist_method == 'normalized_euclidean':\n",
        "        for x in range(len(dataset)):\n",
        "            dist_up = normalizedEuclideanDistance(testInstance, dataset.iloc[x], length, dataset_mean, dataset_std)\n",
        "            distances[x] = dist_up[0]\n",
        "    elif dist_method == 'cosine':\n",
        "        for x in range(len(dataset)):\n",
        "            dist_up = cosineSimilarity(testInstance, dataset.iloc[x])\n",
        "            distances[x] = dist_up[0]\n",
        "    # Sort values based on distance\n",
        "    sort_distances = sorted(distances.items(), key=operator.itemgetter(1))\n",
        "    neighbors = []\n",
        "    # Extracting nearest k neighbors\n",
        "    for x in range(k):\n",
        "        neighbors.append(sort_distances[x][0])\n",
        "    # Initializing counts for 'class' labels counts as 0\n",
        "    counts = {\"Iris-setosa\" : 0, \"Iris-versicolor\" : 0, \"Iris-virginica\" : 0}\n",
        "    # Computing the most frequent class\n",
        "    for x in range(len(neighbors)):\n",
        "        response = dataset.iloc[neighbors[x]][-1] \n",
        "        if response in counts:\n",
        "            counts[response] += 1\n",
        "        else:\n",
        "            counts[response] = 1\n",
        "    # Sorting the class in reverse order to get the most frequest class\n",
        "    sort_counts = sorted(counts.items(), key=operator.itemgetter(1), reverse=True)\n",
        "    return(sort_counts[0][0])"
      ],
      "metadata": {
        "id": "4Dxf0CCsHIxh"
      },
      "execution_count": null,
      "outputs": []
    },
    {
      "cell_type": "code",
      "source": [
        "# Creating a list of list of all columns except 'class' by iterating through the development set\n",
        "row_list = []\n",
        "for index, rows in development_set.iterrows():\n",
        "    my_list =[rows.sepal_length, rows.sepal_width, rows.petal_length, rows.petal_width]       \n",
        "    row_list.append([my_list])\n",
        "# k values for the number of neighbors that need to be considered\n",
        "k_n = [1, 3, 5, 7]\n",
        "# Distance metrics\n",
        "distance_methods = ['euclidean', 'normalized_euclidean', 'cosine']\n",
        "# Performing kNN on the development set by iterating all of the development set data points and for each k and each distance metric\n",
        "obs_k = {}\n",
        "for dist_method in distance_methods:\n",
        "    development_set_obs_k = {}\n",
        "    for k in k_n:\n",
        "        development_set_obs = []\n",
        "        for i in range(len(row_list)):\n",
        "            development_set_obs.append(knn(development_set, pd.DataFrame(row_list[i]), k, dist_method, mean_development_set, std_development_set))\n",
        "        development_set_obs_k[k] = development_set_obs\n",
        "    # Nested Dictionary containing the observed class for each k and each distance metric (obs_k of the form obs_k[dist_method][k])\n",
        "    obs_k[dist_method] = development_set_obs_k\n",
        "#print(obs_k)"
      ],
      "metadata": {
        "id": "987kkM6LHN-K"
      },
      "execution_count": null,
      "outputs": []
    },
    {
      "cell_type": "code",
      "source": [
        "print(obs_k)"
      ],
      "metadata": {
        "colab": {
          "base_uri": "https://localhost:8080/"
        },
        "id": "maGWb11eH9Nt",
        "outputId": "e4b35c9e-aebe-4616-dffc-b143dff4a657"
      },
      "execution_count": null,
      "outputs": [
        {
          "output_type": "stream",
          "name": "stdout",
          "text": [
            "{'euclidean': {1: ['setosa', 'versicolor', 'versicolor', 'versicolor', 'versicolor', 'versicolor', 'versicolor', 'versicolor', 'versicolor', 'versicolor', 'virginica', 'virginica', 'versicolor', 'setosa', 'virginica', 'versicolor', 'setosa', 'setosa', 'versicolor', 'setosa', 'virginica', 'virginica', 'virginica', 'setosa', 'virginica', 'virginica', 'virginica', 'virginica', 'virginica', 'setosa', 'setosa', 'versicolor', 'virginica', 'versicolor', 'setosa', 'virginica', 'virginica', 'setosa', 'versicolor', 'versicolor', 'versicolor', 'setosa', 'setosa', 'versicolor', 'setosa', 'setosa', 'setosa', 'versicolor', 'setosa', 'versicolor', 'virginica', 'setosa', 'versicolor', 'versicolor', 'virginica', 'setosa', 'versicolor', 'versicolor', 'setosa', 'versicolor', 'versicolor', 'setosa', 'setosa', 'setosa', 'versicolor', 'virginica', 'virginica', 'setosa', 'versicolor', 'versicolor', 'virginica', 'setosa', 'virginica', 'virginica', 'virginica', 'versicolor', 'virginica', 'setosa', 'versicolor', 'virginica', 'virginica', 'virginica', 'versicolor', 'virginica', 'versicolor', 'versicolor', 'setosa', 'virginica', 'setosa', 'setosa', 'setosa', 'setosa', 'setosa', 'virginica', 'setosa', 'virginica', 'versicolor', 'virginica', 'virginica', 'virginica', 'setosa', 'setosa', 'versicolor', 'virginica', 'virginica', 'versicolor', 'virginica', 'virginica', 'virginica', 'virginica', 'setosa', 'versicolor'], 3: ['setosa', 'versicolor', 'versicolor', 'versicolor', 'versicolor', 'versicolor', 'versicolor', 'versicolor', 'versicolor', 'versicolor', 'virginica', 'versicolor', 'versicolor', 'setosa', 'virginica', 'versicolor', 'setosa', 'setosa', 'versicolor', 'setosa', 'virginica', 'virginica', 'virginica', 'setosa', 'virginica', 'virginica', 'virginica', 'virginica', 'versicolor', 'setosa', 'setosa', 'versicolor', 'virginica', 'versicolor', 'setosa', 'virginica', 'virginica', 'setosa', 'versicolor', 'versicolor', 'versicolor', 'setosa', 'setosa', 'versicolor', 'setosa', 'setosa', 'setosa', 'versicolor', 'setosa', 'versicolor', 'virginica', 'setosa', 'versicolor', 'versicolor', 'virginica', 'setosa', 'versicolor', 'versicolor', 'setosa', 'versicolor', 'versicolor', 'setosa', 'setosa', 'setosa', 'versicolor', 'virginica', 'virginica', 'setosa', 'versicolor', 'versicolor', 'virginica', 'setosa', 'virginica', 'virginica', 'virginica', 'versicolor', 'virginica', 'setosa', 'versicolor', 'virginica', 'virginica', 'virginica', 'versicolor', 'virginica', 'versicolor', 'virginica', 'setosa', 'virginica', 'setosa', 'setosa', 'setosa', 'setosa', 'setosa', 'virginica', 'setosa', 'virginica', 'versicolor', 'virginica', 'virginica', 'virginica', 'setosa', 'setosa', 'versicolor', 'virginica', 'virginica', 'versicolor', 'virginica', 'virginica', 'virginica', 'virginica', 'setosa', 'virginica'], 5: ['setosa', 'versicolor', 'versicolor', 'versicolor', 'versicolor', 'versicolor', 'versicolor', 'versicolor', 'versicolor', 'versicolor', 'virginica', 'versicolor', 'versicolor', 'setosa', 'virginica', 'versicolor', 'setosa', 'setosa', 'versicolor', 'setosa', 'virginica', 'virginica', 'virginica', 'setosa', 'virginica', 'virginica', 'virginica', 'virginica', 'versicolor', 'setosa', 'setosa', 'versicolor', 'virginica', 'versicolor', 'setosa', 'virginica', 'virginica', 'setosa', 'versicolor', 'versicolor', 'versicolor', 'setosa', 'setosa', 'versicolor', 'setosa', 'setosa', 'setosa', 'versicolor', 'setosa', 'versicolor', 'virginica', 'setosa', 'versicolor', 'versicolor', 'virginica', 'setosa', 'versicolor', 'versicolor', 'setosa', 'versicolor', 'versicolor', 'setosa', 'setosa', 'setosa', 'versicolor', 'virginica', 'virginica', 'setosa', 'versicolor', 'versicolor', 'virginica', 'setosa', 'virginica', 'virginica', 'virginica', 'virginica', 'virginica', 'setosa', 'versicolor', 'virginica', 'virginica', 'virginica', 'versicolor', 'virginica', 'versicolor', 'versicolor', 'setosa', 'virginica', 'setosa', 'setosa', 'setosa', 'setosa', 'setosa', 'virginica', 'setosa', 'virginica', 'versicolor', 'virginica', 'virginica', 'virginica', 'setosa', 'setosa', 'versicolor', 'virginica', 'virginica', 'versicolor', 'virginica', 'virginica', 'virginica', 'virginica', 'setosa', 'virginica'], 7: ['setosa', 'versicolor', 'versicolor', 'versicolor', 'versicolor', 'versicolor', 'versicolor', 'versicolor', 'versicolor', 'versicolor', 'virginica', 'virginica', 'versicolor', 'setosa', 'virginica', 'versicolor', 'setosa', 'setosa', 'versicolor', 'setosa', 'virginica', 'virginica', 'virginica', 'setosa', 'virginica', 'virginica', 'virginica', 'virginica', 'versicolor', 'setosa', 'setosa', 'versicolor', 'versicolor', 'versicolor', 'setosa', 'virginica', 'virginica', 'setosa', 'versicolor', 'versicolor', 'versicolor', 'setosa', 'setosa', 'versicolor', 'setosa', 'setosa', 'setosa', 'versicolor', 'setosa', 'versicolor', 'virginica', 'setosa', 'versicolor', 'versicolor', 'virginica', 'setosa', 'versicolor', 'versicolor', 'setosa', 'versicolor', 'versicolor', 'setosa', 'setosa', 'setosa', 'versicolor', 'virginica', 'virginica', 'setosa', 'versicolor', 'versicolor', 'virginica', 'setosa', 'versicolor', 'virginica', 'virginica', 'versicolor', 'virginica', 'setosa', 'versicolor', 'virginica', 'virginica', 'virginica', 'versicolor', 'virginica', 'versicolor', 'versicolor', 'setosa', 'virginica', 'setosa', 'setosa', 'setosa', 'setosa', 'setosa', 'virginica', 'setosa', 'virginica', 'versicolor', 'virginica', 'virginica', 'virginica', 'setosa', 'setosa', 'versicolor', 'virginica', 'virginica', 'versicolor', 'virginica', 'virginica', 'virginica', 'virginica', 'setosa', 'virginica']}, 'normalized_euclidean': {1: ['setosa', 'versicolor', 'versicolor', 'versicolor', 'versicolor', 'versicolor', 'versicolor', 'versicolor', 'versicolor', 'versicolor', 'virginica', 'virginica', 'versicolor', 'setosa', 'virginica', 'versicolor', 'setosa', 'setosa', 'versicolor', 'setosa', 'virginica', 'virginica', 'virginica', 'setosa', 'virginica', 'virginica', 'virginica', 'virginica', 'virginica', 'setosa', 'setosa', 'versicolor', 'virginica', 'versicolor', 'setosa', 'virginica', 'virginica', 'setosa', 'versicolor', 'versicolor', 'versicolor', 'setosa', 'setosa', 'versicolor', 'setosa', 'setosa', 'setosa', 'versicolor', 'setosa', 'versicolor', 'virginica', 'setosa', 'versicolor', 'versicolor', 'virginica', 'setosa', 'versicolor', 'versicolor', 'setosa', 'versicolor', 'versicolor', 'setosa', 'setosa', 'setosa', 'versicolor', 'virginica', 'virginica', 'setosa', 'versicolor', 'versicolor', 'virginica', 'setosa', 'virginica', 'virginica', 'virginica', 'versicolor', 'virginica', 'setosa', 'versicolor', 'virginica', 'virginica', 'virginica', 'versicolor', 'virginica', 'versicolor', 'versicolor', 'setosa', 'virginica', 'setosa', 'setosa', 'setosa', 'setosa', 'setosa', 'virginica', 'setosa', 'virginica', 'versicolor', 'virginica', 'virginica', 'virginica', 'setosa', 'setosa', 'versicolor', 'virginica', 'virginica', 'versicolor', 'virginica', 'virginica', 'virginica', 'virginica', 'setosa', 'versicolor'], 3: ['setosa', 'versicolor', 'versicolor', 'versicolor', 'versicolor', 'versicolor', 'versicolor', 'versicolor', 'versicolor', 'versicolor', 'virginica', 'versicolor', 'versicolor', 'setosa', 'virginica', 'versicolor', 'setosa', 'setosa', 'versicolor', 'setosa', 'virginica', 'virginica', 'virginica', 'setosa', 'virginica', 'virginica', 'virginica', 'virginica', 'versicolor', 'setosa', 'setosa', 'versicolor', 'virginica', 'versicolor', 'setosa', 'virginica', 'virginica', 'setosa', 'versicolor', 'versicolor', 'versicolor', 'setosa', 'setosa', 'versicolor', 'setosa', 'setosa', 'setosa', 'versicolor', 'setosa', 'versicolor', 'virginica', 'setosa', 'versicolor', 'versicolor', 'virginica', 'setosa', 'versicolor', 'versicolor', 'setosa', 'versicolor', 'versicolor', 'setosa', 'setosa', 'setosa', 'versicolor', 'virginica', 'virginica', 'setosa', 'versicolor', 'versicolor', 'virginica', 'setosa', 'virginica', 'virginica', 'virginica', 'versicolor', 'virginica', 'setosa', 'versicolor', 'virginica', 'virginica', 'virginica', 'versicolor', 'virginica', 'versicolor', 'virginica', 'setosa', 'virginica', 'setosa', 'setosa', 'setosa', 'setosa', 'setosa', 'virginica', 'setosa', 'virginica', 'versicolor', 'virginica', 'virginica', 'virginica', 'setosa', 'setosa', 'versicolor', 'virginica', 'virginica', 'versicolor', 'virginica', 'virginica', 'virginica', 'virginica', 'setosa', 'virginica'], 5: ['setosa', 'versicolor', 'versicolor', 'versicolor', 'versicolor', 'versicolor', 'versicolor', 'versicolor', 'versicolor', 'versicolor', 'virginica', 'versicolor', 'versicolor', 'setosa', 'virginica', 'versicolor', 'setosa', 'setosa', 'versicolor', 'setosa', 'virginica', 'virginica', 'virginica', 'setosa', 'virginica', 'virginica', 'virginica', 'virginica', 'versicolor', 'setosa', 'setosa', 'versicolor', 'virginica', 'versicolor', 'setosa', 'virginica', 'virginica', 'setosa', 'versicolor', 'versicolor', 'versicolor', 'setosa', 'setosa', 'versicolor', 'setosa', 'setosa', 'setosa', 'versicolor', 'setosa', 'versicolor', 'virginica', 'setosa', 'versicolor', 'versicolor', 'virginica', 'setosa', 'versicolor', 'versicolor', 'setosa', 'versicolor', 'versicolor', 'setosa', 'setosa', 'setosa', 'versicolor', 'virginica', 'virginica', 'setosa', 'versicolor', 'versicolor', 'virginica', 'setosa', 'virginica', 'virginica', 'virginica', 'versicolor', 'virginica', 'setosa', 'versicolor', 'virginica', 'virginica', 'virginica', 'versicolor', 'virginica', 'versicolor', 'versicolor', 'setosa', 'virginica', 'setosa', 'setosa', 'setosa', 'setosa', 'setosa', 'virginica', 'setosa', 'virginica', 'versicolor', 'virginica', 'virginica', 'virginica', 'setosa', 'setosa', 'versicolor', 'virginica', 'virginica', 'versicolor', 'virginica', 'virginica', 'virginica', 'virginica', 'setosa', 'virginica'], 7: ['setosa', 'versicolor', 'versicolor', 'versicolor', 'versicolor', 'versicolor', 'versicolor', 'versicolor', 'versicolor', 'versicolor', 'virginica', 'versicolor', 'versicolor', 'setosa', 'virginica', 'versicolor', 'setosa', 'setosa', 'versicolor', 'setosa', 'virginica', 'virginica', 'virginica', 'setosa', 'virginica', 'virginica', 'virginica', 'virginica', 'versicolor', 'setosa', 'setosa', 'versicolor', 'virginica', 'versicolor', 'setosa', 'virginica', 'virginica', 'setosa', 'versicolor', 'versicolor', 'versicolor', 'setosa', 'setosa', 'versicolor', 'setosa', 'setosa', 'setosa', 'versicolor', 'setosa', 'versicolor', 'virginica', 'setosa', 'versicolor', 'versicolor', 'virginica', 'setosa', 'versicolor', 'versicolor', 'setosa', 'versicolor', 'versicolor', 'setosa', 'setosa', 'setosa', 'versicolor', 'virginica', 'virginica', 'setosa', 'versicolor', 'versicolor', 'virginica', 'setosa', 'virginica', 'virginica', 'virginica', 'versicolor', 'virginica', 'setosa', 'versicolor', 'virginica', 'virginica', 'virginica', 'versicolor', 'virginica', 'versicolor', 'versicolor', 'setosa', 'virginica', 'setosa', 'setosa', 'setosa', 'setosa', 'setosa', 'virginica', 'setosa', 'virginica', 'versicolor', 'virginica', 'virginica', 'virginica', 'setosa', 'setosa', 'versicolor', 'virginica', 'virginica', 'versicolor', 'virginica', 'virginica', 'virginica', 'virginica', 'setosa', 'versicolor']}, 'cosine': {1: ['setosa', 'versicolor', 'versicolor', 'versicolor', 'versicolor', 'versicolor', 'versicolor', 'versicolor', 'versicolor', 'versicolor', 'virginica', 'virginica', 'versicolor', 'setosa', 'virginica', 'versicolor', 'setosa', 'setosa', 'versicolor', 'setosa', 'virginica', 'virginica', 'virginica', 'setosa', 'virginica', 'virginica', 'virginica', 'virginica', 'virginica', 'setosa', 'setosa', 'versicolor', 'virginica', 'versicolor', 'setosa', 'virginica', 'virginica', 'setosa', 'versicolor', 'versicolor', 'versicolor', 'setosa', 'setosa', 'versicolor', 'setosa', 'setosa', 'setosa', 'versicolor', 'setosa', 'versicolor', 'virginica', 'setosa', 'versicolor', 'versicolor', 'virginica', 'setosa', 'versicolor', 'versicolor', 'setosa', 'versicolor', 'versicolor', 'setosa', 'setosa', 'setosa', 'versicolor', 'virginica', 'virginica', 'setosa', 'versicolor', 'versicolor', 'virginica', 'setosa', 'virginica', 'virginica', 'virginica', 'versicolor', 'virginica', 'setosa', 'versicolor', 'virginica', 'virginica', 'virginica', 'versicolor', 'virginica', 'versicolor', 'versicolor', 'setosa', 'virginica', 'setosa', 'setosa', 'setosa', 'setosa', 'setosa', 'virginica', 'setosa', 'virginica', 'versicolor', 'virginica', 'virginica', 'virginica', 'setosa', 'setosa', 'versicolor', 'virginica', 'virginica', 'versicolor', 'virginica', 'virginica', 'virginica', 'virginica', 'setosa', 'versicolor'], 3: ['setosa', 'versicolor', 'versicolor', 'versicolor', 'versicolor', 'versicolor', 'versicolor', 'versicolor', 'versicolor', 'versicolor', 'versicolor', 'virginica', 'versicolor', 'setosa', 'virginica', 'versicolor', 'setosa', 'setosa', 'versicolor', 'setosa', 'virginica', 'virginica', 'virginica', 'setosa', 'virginica', 'virginica', 'virginica', 'virginica', 'virginica', 'setosa', 'setosa', 'versicolor', 'virginica', 'versicolor', 'setosa', 'virginica', 'virginica', 'setosa', 'versicolor', 'versicolor', 'versicolor', 'setosa', 'setosa', 'versicolor', 'setosa', 'setosa', 'setosa', 'versicolor', 'setosa', 'versicolor', 'virginica', 'setosa', 'versicolor', 'versicolor', 'virginica', 'setosa', 'versicolor', 'versicolor', 'setosa', 'versicolor', 'versicolor', 'setosa', 'setosa', 'setosa', 'versicolor', 'virginica', 'virginica', 'setosa', 'versicolor', 'versicolor', 'virginica', 'setosa', 'virginica', 'virginica', 'virginica', 'virginica', 'virginica', 'setosa', 'versicolor', 'virginica', 'virginica', 'virginica', 'versicolor', 'virginica', 'versicolor', 'versicolor', 'setosa', 'virginica', 'setosa', 'setosa', 'setosa', 'setosa', 'setosa', 'virginica', 'setosa', 'virginica', 'versicolor', 'virginica', 'virginica', 'virginica', 'setosa', 'setosa', 'versicolor', 'virginica', 'virginica', 'versicolor', 'virginica', 'virginica', 'virginica', 'virginica', 'setosa', 'virginica'], 5: ['setosa', 'versicolor', 'versicolor', 'versicolor', 'versicolor', 'versicolor', 'versicolor', 'versicolor', 'versicolor', 'versicolor', 'versicolor', 'virginica', 'versicolor', 'setosa', 'virginica', 'versicolor', 'setosa', 'setosa', 'versicolor', 'setosa', 'virginica', 'virginica', 'virginica', 'setosa', 'virginica', 'virginica', 'virginica', 'virginica', 'virginica', 'setosa', 'setosa', 'versicolor', 'virginica', 'versicolor', 'setosa', 'virginica', 'virginica', 'setosa', 'versicolor', 'versicolor', 'versicolor', 'setosa', 'setosa', 'versicolor', 'setosa', 'setosa', 'setosa', 'versicolor', 'setosa', 'versicolor', 'virginica', 'setosa', 'versicolor', 'versicolor', 'virginica', 'setosa', 'versicolor', 'versicolor', 'setosa', 'versicolor', 'versicolor', 'setosa', 'setosa', 'setosa', 'versicolor', 'virginica', 'virginica', 'setosa', 'versicolor', 'versicolor', 'virginica', 'setosa', 'virginica', 'virginica', 'virginica', 'versicolor', 'virginica', 'setosa', 'versicolor', 'virginica', 'virginica', 'virginica', 'versicolor', 'virginica', 'versicolor', 'versicolor', 'setosa', 'virginica', 'setosa', 'setosa', 'setosa', 'setosa', 'setosa', 'virginica', 'setosa', 'virginica', 'versicolor', 'virginica', 'virginica', 'virginica', 'setosa', 'setosa', 'versicolor', 'virginica', 'virginica', 'versicolor', 'virginica', 'virginica', 'virginica', 'virginica', 'setosa', 'virginica'], 7: ['setosa', 'versicolor', 'versicolor', 'versicolor', 'versicolor', 'versicolor', 'versicolor', 'versicolor', 'versicolor', 'versicolor', 'virginica', 'virginica', 'versicolor', 'setosa', 'virginica', 'versicolor', 'setosa', 'setosa', 'versicolor', 'setosa', 'virginica', 'virginica', 'virginica', 'setosa', 'virginica', 'virginica', 'virginica', 'virginica', 'virginica', 'setosa', 'setosa', 'versicolor', 'virginica', 'versicolor', 'setosa', 'virginica', 'virginica', 'setosa', 'versicolor', 'versicolor', 'versicolor', 'setosa', 'setosa', 'versicolor', 'setosa', 'setosa', 'setosa', 'versicolor', 'setosa', 'versicolor', 'virginica', 'setosa', 'versicolor', 'versicolor', 'virginica', 'setosa', 'versicolor', 'versicolor', 'setosa', 'versicolor', 'versicolor', 'setosa', 'setosa', 'setosa', 'versicolor', 'virginica', 'virginica', 'setosa', 'versicolor', 'versicolor', 'virginica', 'setosa', 'virginica', 'virginica', 'virginica', 'virginica', 'virginica', 'setosa', 'versicolor', 'virginica', 'virginica', 'virginica', 'versicolor', 'virginica', 'versicolor', 'versicolor', 'setosa', 'virginica', 'setosa', 'setosa', 'setosa', 'setosa', 'setosa', 'virginica', 'setosa', 'virginica', 'versicolor', 'virginica', 'virginica', 'virginica', 'setosa', 'setosa', 'versicolor', 'virginica', 'virginica', 'versicolor', 'virginica', 'virginica', 'virginica', 'virginica', 'setosa', 'virginica']}}\n"
          ]
        }
      ]
    },
    {
      "cell_type": "code",
      "source": [
        "# Calculating the accuracy of the development set by comparing it with the development set 'class' list created earlier\n",
        "accuracy = {}\n",
        "for key in obs_k.keys():\n",
        "    accuracy[key] = {}\n",
        "    for k_value in obs_k[key].keys():\n",
        "        #print('k = ', key)\n",
        "        count = 0\n",
        "        for i,j in zip(dev_class, obs_k[key][k_value]):\n",
        "            if i == j:\n",
        "                count = count + 1\n",
        "            else:\n",
        "                pass\n",
        "        accuracy[key][k_value] = count/(len(dev_class))\n",
        "\n",
        "# Storing the accuracy for each k and each distance metric into a dataframe\n",
        "df_res = pd.DataFrame({'k': k_n})\n",
        "for key in accuracy.keys():\n",
        "    value = list(accuracy[key].values())\n",
        "    df_res[key] = value\n",
        "print(df_res)"
      ],
      "metadata": {
        "colab": {
          "base_uri": "https://localhost:8080/"
        },
        "id": "3_CDG_ZcIO-6",
        "outputId": "cdf98593-5913-4cc3-991a-1220c25b5e50"
      },
      "execution_count": null,
      "outputs": [
        {
          "output_type": "stream",
          "name": "stdout",
          "text": [
            "   k  euclidean  normalized_euclidean    cosine\n",
            "0  1   1.000000              1.000000  1.000000\n",
            "1  3   0.964286              0.964286  0.973214\n",
            "2  5   0.964286              0.973214  0.982143\n",
            "3  7   0.964286              0.982143  0.982143\n"
          ]
        }
      ]
    },
    {
      "cell_type": "code",
      "source": [
        "# Plotting a Bar Chart for accuracy\n",
        "draw = df_res.plot(x='k', y=['euclidean', 'normalized_euclidean', 'cosine'], kind=\"bar\", colormap='YlGnBu')\n",
        "draw.set(ylabel='Accuracy')"
      ],
      "metadata": {
        "colab": {
          "base_uri": "https://localhost:8080/",
          "height": 294
        },
        "id": "d6DzYqatIPxn",
        "outputId": "47454f60-ce89-46a3-a2c4-d940497c0a82"
      },
      "execution_count": null,
      "outputs": [
        {
          "output_type": "execute_result",
          "data": {
            "text/plain": [
              "[Text(0, 0.5, 'Accuracy')]"
            ]
          },
          "metadata": {},
          "execution_count": 123
        },
        {
          "output_type": "display_data",
          "data": {
            "text/plain": [
              "<Figure size 432x288 with 1 Axes>"
            ],
            "image/png": "[encoded data removed]"
          },
          "metadata": {
            "needs_background": "light"
          }
        }
      ]
    },
    {
      "cell_type": "markdown",
      "source": [],
      "metadata": {
        "id": "nuXJxTLNPogs"
      }
    },
    {
      "cell_type": "markdown",
      "metadata": {
        "id": "VJ-NuFN3O1Ic"
      },
      "source": [
        "## Implementation of K-Nearest-Neighbors from Scratch"
      ]
    },
    {
      "cell_type": "code",
      "execution_count": null,
      "metadata": {
        "id": "Ri1GgwulO1If"
      },
      "outputs": [],
      "source": [
        "import numpy as np\n",
        "import pandas as pd\n",
        "from sklearn.model_selection import train_test_split\n",
        "from collections import Counter\n",
        "from sklearn import datasets\n",
        "\n",
        "data_names = ['sepal_length', 'sepal_width', 'petal_length', 'petal_width', 'label']\n",
        "# data = pd.read_csv('iris.data', \n",
        "#                    names = data_names)\n",
        "data = sns.load_dataset('iris')\n",
        "\n",
        "# rename \n",
        "data.columns = data_names"
      ]
    },
    {
      "cell_type": "code",
      "execution_count": null,
      "metadata": {
        "id": "Jys4x7RyO1Ig",
        "outputId": "79c365c4-82de-4515-daea-71900dd566ab",
        "colab": {
          "base_uri": "https://localhost:8080/"
        }
      },
      "outputs": [
        {
          "output_type": "stream",
          "name": "stdout",
          "text": [
            "['setosa' 'versicolor' 'virginica']\n"
          ]
        }
      ],
      "source": [
        "all_vals = data[['sepal_length', 'sepal_width', 'petal_length', 'petal_width']].values\n",
        "all_labels = data['label'].values\n",
        "unique_labels = np.unique(all_labels)\n",
        "print(unique_labels)\n",
        "#change string labels to numbers\n",
        "new_labels = np.zeros(len(all_labels))\n",
        "for i in range(0,len(unique_labels)):\n",
        "    new_labels[all_labels == unique_labels[i]] = i\n",
        "all_labels = new_labels"
      ]
    },
    {
      "cell_type": "code",
      "execution_count": null,
      "metadata": {
        "id": "9vaAj1VEO1Ik"
      },
      "outputs": [],
      "source": [
        "#Split dataset using scikit learn split function - keep 25 data points as test_set\n",
        "(training_data, test_data, training_labels, test_labels) = train_test_split(all_vals, all_labels, test_size=0.166)"
      ]
    },
    {
      "cell_type": "code",
      "execution_count": null,
      "metadata": {
        "id": "nWYrGtVQO1Il"
      },
      "outputs": [],
      "source": [
        "def knnclassify(test_data, training_data, training_labels, k=3):\n",
        "    #training_labels = [0, 1, 2] => ['Iris-setosa' 'Iris-versicolor' 'Iris-virginica']\n",
        "    \n",
        "    #contains the predicted label for each test data point\n",
        "    pred_labels=[]\n",
        "    \n",
        "    #for each test_data point\n",
        "    for i in range(len(test_data)):\n",
        "        distances = []\n",
        "            \n",
        "        #compute euclidean distance with all points of the training set\n",
        "        for j in range(len(training_data)):\n",
        "            euclidean_distance = np.linalg.norm(test_data[i]-training_data[j])\n",
        "            #Pair each distance with the training label of the training data point\n",
        "            distances.append([euclidean_distance, training_labels[j]]) \n",
        "                 \n",
        "        #sort pairs by distances to get the K nearest neighbor(s) at the top\n",
        "        distances.sort()\n",
        "        \n",
        "        #select number of k neighbors\n",
        "        k_nearests = distances[0:k]\n",
        "    \n",
        "        #Collect vote/class_label for each nearest neighbor (k=3 there are 3 votes) \n",
        "        votes = [k_nearest[1] for k_nearest in k_nearests]\n",
        "        \n",
        "        #Store the most_common vote for each test data point into class_label_result\n",
        "        class_label_result = Counter(votes).most_common()[0][0]\n",
        "    \n",
        "        #Append predicted label for the test data point into pred_labels\n",
        "        pred_labels.append(class_label_result)\n",
        "    \n",
        "    return pred_labels"
      ]
    },
    {
      "cell_type": "code",
      "execution_count": null,
      "metadata": {
        "id": "Z3D4Hn7bO1Im"
      },
      "outputs": [],
      "source": [
        "pred_labels = knnclassify(test_data, training_data, training_labels)"
      ]
    },
    {
      "cell_type": "code",
      "execution_count": null,
      "metadata": {
        "id": "R6cmHfQJO1In",
        "outputId": "06867a86-5fcf-4fce-8226-5377b830d63d",
        "colab": {
          "base_uri": "https://localhost:8080/"
        }
      },
      "outputs": [
        {
          "output_type": "execute_result",
          "data": {
            "text/plain": [
              "0.96"
            ]
          },
          "metadata": {},
          "execution_count": 135
        }
      ],
      "source": [
        "from sklearn.metrics import accuracy_score\n",
        "accuracy_score(y_true=test_labels, y_pred=pred_labels)"
      ]
    },
    {
      "cell_type": "markdown",
      "source": [
        "## K nn ที่อาจารย์สอน"
      ],
      "metadata": {
        "id": "GZ7Zl4MRzisC"
      }
    },
    {
      "cell_type": "markdown",
      "source": [
        "import ดอกไม้"
      ],
      "metadata": {
        "id": "EsCRQH_Tz5l2"
      }
    },
    {
      "cell_type": "code",
      "source": [
        "df = sns.load_dataset('iris')"
      ],
      "metadata": {
        "id": "334K9BrGYpQv"
      },
      "execution_count": null,
      "outputs": []
    },
    {
      "cell_type": "code",
      "source": [
        "df"
      ],
      "metadata": {
        "colab": {
          "base_uri": "https://localhost:8080/",
          "height": 424
        },
        "id": "UvEBWvyVgUCc",
        "outputId": "5cb50fde-7f9f-4ee3-fd74-8a1d7b974ad0"
      },
      "execution_count": null,
      "outputs": [
        {
          "output_type": "execute_result",
          "data": {
            "text/plain": [
              "     sepal_length  sepal_width  petal_length  petal_width    species\n",
              "0             5.1          3.5           1.4          0.2     setosa\n",
              "1             4.9          3.0           1.4          0.2     setosa\n",
              "2             4.7          3.2           1.3          0.2     setosa\n",
              "3             4.6          3.1           1.5          0.2     setosa\n",
              "4             5.0          3.6           1.4          0.2     setosa\n",
              "..            ...          ...           ...          ...        ...\n",
              "145           6.7          3.0           5.2          2.3  virginica\n",
              "146           6.3          2.5           5.0          1.9  virginica\n",
              "147           6.5          3.0           5.2          2.0  virginica\n",
              "148           6.2          3.4           5.4          2.3  virginica\n",
              "149           5.9          3.0           5.1          1.8  virginica\n",
              "\n",
              "[150 rows x 5 columns]"
            ],
            "text/html": [
              "\n",
              "  <div id=\"df-833f5baf-26dc-4e77-a053-8a8e9bc1ed15\">\n",
              "    <div class=\"colab-df-container\">\n",
              "      <div>\n",
              "<style scoped>\n",
              "    .dataframe tbody tr th:only-of-type {\n",
              "        vertical-align: middle;\n",
              "    }\n",
              "\n",
              "    .dataframe tbody tr th {\n",
              "        vertical-align: top;\n",
              "    }\n",
              "\n",
              "    .dataframe thead th {\n",
              "        text-align: right;\n",
              "    }\n",
              "</style>\n",
              "<table border=\"1\" class=\"dataframe\">\n",
              "  <thead>\n",
              "    <tr style=\"text-align: right;\">\n",
              "      <th></th>\n",
              "      <th>sepal_length</th>\n",
              "      <th>sepal_width</th>\n",
              "      <th>petal_length</th>\n",
              "      <th>petal_width</th>\n",
              "      <th>species</th>\n",
              "    </tr>\n",
              "  </thead>\n",
              "  <tbody>\n",
              "    <tr>\n",
              "      <th>0</th>\n",
              "      <td>5.1</td>\n",
              "      <td>3.5</td>\n",
              "      <td>1.4</td>\n",
              "      <td>0.2</td>\n",
              "      <td>setosa</td>\n",
              "    </tr>\n",
              "    <tr>\n",
              "      <th>1</th>\n",
              "      <td>4.9</td>\n",
              "      <td>3.0</td>\n",
              "      <td>1.4</td>\n",
              "      <td>0.2</td>\n",
              "      <td>setosa</td>\n",
              "    </tr>\n",
              "    <tr>\n",
              "      <th>2</th>\n",
              "      <td>4.7</td>\n",
              "      <td>3.2</td>\n",
              "      <td>1.3</td>\n",
              "      <td>0.2</td>\n",
              "      <td>setosa</td>\n",
              "    </tr>\n",
              "    <tr>\n",
              "      <th>3</th>\n",
              "      <td>4.6</td>\n",
              "      <td>3.1</td>\n",
              "      <td>1.5</td>\n",
              "      <td>0.2</td>\n",
              "      <td>setosa</td>\n",
              "    </tr>\n",
              "    <tr>\n",
              "      <th>4</th>\n",
              "      <td>5.0</td>\n",
              "      <td>3.6</td>\n",
              "      <td>1.4</td>\n",
              "      <td>0.2</td>\n",
              "      <td>setosa</td>\n",
              "    </tr>\n",
              "    <tr>\n",
              "      <th>...</th>\n",
              "      <td>...</td>\n",
              "      <td>...</td>\n",
              "      <td>...</td>\n",
              "      <td>...</td>\n",
              "      <td>...</td>\n",
              "    </tr>\n",
              "    <tr>\n",
              "      <th>145</th>\n",
              "      <td>6.7</td>\n",
              "      <td>3.0</td>\n",
              "      <td>5.2</td>\n",
              "      <td>2.3</td>\n",
              "      <td>virginica</td>\n",
              "    </tr>\n",
              "    <tr>\n",
              "      <th>146</th>\n",
              "      <td>6.3</td>\n",
              "      <td>2.5</td>\n",
              "      <td>5.0</td>\n",
              "      <td>1.9</td>\n",
              "      <td>virginica</td>\n",
              "    </tr>\n",
              "    <tr>\n",
              "      <th>147</th>\n",
              "      <td>6.5</td>\n",
              "      <td>3.0</td>\n",
              "      <td>5.2</td>\n",
              "      <td>2.0</td>\n",
              "      <td>virginica</td>\n",
              "    </tr>\n",
              "    <tr>\n",
              "      <th>148</th>\n",
              "      <td>6.2</td>\n",
              "      <td>3.4</td>\n",
              "      <td>5.4</td>\n",
              "      <td>2.3</td>\n",
              "      <td>virginica</td>\n",
              "    </tr>\n",
              "    <tr>\n",
              "      <th>149</th>\n",
              "      <td>5.9</td>\n",
              "      <td>3.0</td>\n",
              "      <td>5.1</td>\n",
              "      <td>1.8</td>\n",
              "      <td>virginica</td>\n",
              "    </tr>\n",
              "  </tbody>\n",
              "</table>\n",
              "<p>150 rows × 5 columns</p>\n",
              "</div>\n",
              "      <button class=\"colab-df-convert\" onclick=\"convertToInteractive('df-833f5baf-26dc-4e77-a053-8a8e9bc1ed15')\"\n",
              "              title=\"Convert this dataframe to an interactive table.\"\n",
              "              style=\"display:none;\">\n",
              "        \n",
              "  <svg xmlns=\"http://www.w3.org/2000/svg\" height=\"24px\"viewBox=\"0 0 24 24\"\n",
              "       width=\"24px\">\n",
              "    <path d=\"M0 0h24v24H0V0z\" fill=\"none\"/>\n",
              "    <path d=\"M18.56 5.44l.94 2.06.94-2.06 2.06-.94-2.06-.94-.94-2.06-.94 2.06-2.06.94zm-11 1L8.5 8.5l.94-2.06 2.06-.94-2.06-.94L8.5 2.5l-.94 2.06-2.06.94zm10 10l.94 2.06.94-2.06 2.06-.94-2.06-.94-.94-2.06-.94 2.06-2.06.94z\"/><path d=\"M17.41 7.96l-1.37-1.37c-.4-.4-.92-.59-1.43-.59-.52 0-1.04.2-1.43.59L10.3 9.45l-7.72 7.72c-.78.78-.78 2.05 0 2.83L4 21.41c.39.39.9.59 1.41.59.51 0 1.02-.2 1.41-.59l7.78-7.78 2.81-2.81c.8-.78.8-2.07 0-2.86zM5.41 20L4 18.59l7.72-7.72 1.47 1.35L5.41 20z\"/>\n",
              "  </svg>\n",
              "      </button>\n",
              "      \n",
              "  <style>\n",
              "    .colab-df-container {\n",
              "      display:flex;\n",
              "      flex-wrap:wrap;\n",
              "      gap: 12px;\n",
              "    }\n",
              "\n",
              "    .colab-df-convert {\n",
              "      background-color: #E8F0FE;\n",
              "      border: none;\n",
              "      border-radius: 50%;\n",
              "      cursor: pointer;\n",
              "      display: none;\n",
              "      fill: #1967D2;\n",
              "      height: 32px;\n",
              "      padding: 0 0 0 0;\n",
              "      width: 32px;\n",
              "    }\n",
              "\n",
              "    .colab-df-convert:hover {\n",
              "      background-color: #E2EBFA;\n",
              "      box-shadow: 0px 1px 2px rgba(60, 64, 67, 0.3), 0px 1px 3px 1px rgba(60, 64, 67, 0.15);\n",
              "      fill: #174EA6;\n",
              "    }\n",
              "\n",
              "    [theme=dark] .colab-df-convert {\n",
              "      background-color: #3B4455;\n",
              "      fill: #D2E3FC;\n",
              "    }\n",
              "\n",
              "    [theme=dark] .colab-df-convert:hover {\n",
              "      background-color: #434B5C;\n",
              "      box-shadow: 0px 1px 3px 1px rgba(0, 0, 0, 0.15);\n",
              "      filter: drop-shadow(0px 1px 2px rgba(0, 0, 0, 0.3));\n",
              "      fill: #FFFFFF;\n",
              "    }\n",
              "  </style>\n",
              "\n",
              "      <script>\n",
              "        const buttonEl =\n",
              "          document.querySelector('#df-833f5baf-26dc-4e77-a053-8a8e9bc1ed15 button.colab-df-convert');\n",
              "        buttonEl.style.display =\n",
              "          google.colab.kernel.accessAllowed ? 'block' : 'none';\n",
              "\n",
              "        async function convertToInteractive(key) {\n",
              "          const element = document.querySelector('#df-833f5baf-26dc-4e77-a053-8a8e9bc1ed15');\n",
              "          const dataTable =\n",
              "            await google.colab.kernel.invokeFunction('convertToInteractive',\n",
              "                                                     [key], {});\n",
              "          if (!dataTable) return;\n",
              "\n",
              "          const docLinkHtml = 'Like what you see? Visit the ' +\n",
              "            '<a target=\"_blank\" href=https://colab.research.google.com/notebooks/data_table.ipynb>data table notebook</a>'\n",
              "            + ' to learn more about interactive tables.';\n",
              "          element.innerHTML = '';\n",
              "          dataTable['output_type'] = 'display_data';\n",
              "          await google.colab.output.renderOutput(dataTable, element);\n",
              "          const docLink = document.createElement('div');\n",
              "          docLink.innerHTML = docLinkHtml;\n",
              "          element.appendChild(docLink);\n",
              "        }\n",
              "      </script>\n",
              "    </div>\n",
              "  </div>\n",
              "  "
            ]
          },
          "metadata": {},
          "execution_count": 151
        }
      ]
    },
    {
      "cell_type": "code",
      "source": [
        "df.nunique()"
      ],
      "metadata": {
        "colab": {
          "base_uri": "https://localhost:8080/"
        },
        "id": "IEDO6tohglZ2",
        "outputId": "f7f8df93-2e22-41de-b2fe-a700bd9aad98"
      },
      "execution_count": null,
      "outputs": [
        {
          "output_type": "execute_result",
          "data": {
            "text/plain": [
              "sepal_length    35\n",
              "sepal_width     23\n",
              "petal_length    43\n",
              "petal_width     22\n",
              "species          3\n",
              "dtype: int64"
            ]
          },
          "metadata": {},
          "execution_count": 152
        }
      ]
    },
    {
      "cell_type": "code",
      "source": [
        "import numpy as np\n",
        "df['species'].unique()\n"
      ],
      "metadata": {
        "colab": {
          "base_uri": "https://localhost:8080/"
        },
        "id": "Q9_TKR-xgotF",
        "outputId": "22175a0d-79dc-4c6c-832f-2b314bdb82a9"
      },
      "execution_count": null,
      "outputs": [
        {
          "output_type": "execute_result",
          "data": {
            "text/plain": [
              "array(['setosa', 'versicolor', 'virginica'], dtype=object)"
            ]
          },
          "metadata": {},
          "execution_count": 153
        }
      ]
    },
    {
      "cell_type": "code",
      "source": [
        "itrain = np.r_[:25, 50:75, 100:125]\n",
        "itest = np.r_[25:50, 75:100, 125:150]"
      ],
      "metadata": {
        "id": "cqhdtba-gU3k"
      },
      "execution_count": null,
      "outputs": []
    },
    {
      "cell_type": "code",
      "source": [
        "X = df.iloc[:, :4].values\n",
        "X"
      ],
      "metadata": {
        "id": "Dp5ZKeWSg8wE",
        "outputId": "9c9362f3-4682-442c-e975-1054ecbfceaf",
        "colab": {
          "base_uri": "https://localhost:8080/"
        }
      },
      "execution_count": null,
      "outputs": [
        {
          "output_type": "execute_result",
          "data": {
            "text/plain": [
              "array([[5.1, 3.5, 1.4, 0.2],\n",
              "       [4.9, 3. , 1.4, 0.2],\n",
              "       [4.7, 3.2, 1.3, 0.2],\n",
              "       [4.6, 3.1, 1.5, 0.2],\n",
              "       [5. , 3.6, 1.4, 0.2],\n",
              "       [5.4, 3.9, 1.7, 0.4],\n",
              "       [4.6, 3.4, 1.4, 0.3],\n",
              "       [5. , 3.4, 1.5, 0.2],\n",
              "       [4.4, 2.9, 1.4, 0.2],\n",
              "       [4.9, 3.1, 1.5, 0.1],\n",
              "       [5.4, 3.7, 1.5, 0.2],\n",
              "       [4.8, 3.4, 1.6, 0.2],\n",
              "       [4.8, 3. , 1.4, 0.1],\n",
              "       [4.3, 3. , 1.1, 0.1],\n",
              "       [5.8, 4. , 1.2, 0.2],\n",
              "       [5.7, 4.4, 1.5, 0.4],\n",
              "       [5.4, 3.9, 1.3, 0.4],\n",
              "       [5.1, 3.5, 1.4, 0.3],\n",
              "       [5.7, 3.8, 1.7, 0.3],\n",
              "       [5.1, 3.8, 1.5, 0.3],\n",
              "       [5.4, 3.4, 1.7, 0.2],\n",
              "       [5.1, 3.7, 1.5, 0.4],\n",
              "       [4.6, 3.6, 1. , 0.2],\n",
              "       [5.1, 3.3, 1.7, 0.5],\n",
              "       [4.8, 3.4, 1.9, 0.2],\n",
              "       [5. , 3. , 1.6, 0.2],\n",
              "       [5. , 3.4, 1.6, 0.4],\n",
              "       [5.2, 3.5, 1.5, 0.2],\n",
              "       [5.2, 3.4, 1.4, 0.2],\n",
              "       [4.7, 3.2, 1.6, 0.2],\n",
              "       [4.8, 3.1, 1.6, 0.2],\n",
              "       [5.4, 3.4, 1.5, 0.4],\n",
              "       [5.2, 4.1, 1.5, 0.1],\n",
              "       [5.5, 4.2, 1.4, 0.2],\n",
              "       [4.9, 3.1, 1.5, 0.2],\n",
              "       [5. , 3.2, 1.2, 0.2],\n",
              "       [5.5, 3.5, 1.3, 0.2],\n",
              "       [4.9, 3.6, 1.4, 0.1],\n",
              "       [4.4, 3. , 1.3, 0.2],\n",
              "       [5.1, 3.4, 1.5, 0.2],\n",
              "       [5. , 3.5, 1.3, 0.3],\n",
              "       [4.5, 2.3, 1.3, 0.3],\n",
              "       [4.4, 3.2, 1.3, 0.2],\n",
              "       [5. , 3.5, 1.6, 0.6],\n",
              "       [5.1, 3.8, 1.9, 0.4],\n",
              "       [4.8, 3. , 1.4, 0.3],\n",
              "       [5.1, 3.8, 1.6, 0.2],\n",
              "       [4.6, 3.2, 1.4, 0.2],\n",
              "       [5.3, 3.7, 1.5, 0.2],\n",
              "       [5. , 3.3, 1.4, 0.2],\n",
              "       [7. , 3.2, 4.7, 1.4],\n",
              "       [6.4, 3.2, 4.5, 1.5],\n",
              "       [6.9, 3.1, 4.9, 1.5],\n",
              "       [5.5, 2.3, 4. , 1.3],\n",
              "       [6.5, 2.8, 4.6, 1.5],\n",
              "       [5.7, 2.8, 4.5, 1.3],\n",
              "       [6.3, 3.3, 4.7, 1.6],\n",
              "       [4.9, 2.4, 3.3, 1. ],\n",
              "       [6.6, 2.9, 4.6, 1.3],\n",
              "       [5.2, 2.7, 3.9, 1.4],\n",
              "       [5. , 2. , 3.5, 1. ],\n",
              "       [5.9, 3. , 4.2, 1.5],\n",
              "       [6. , 2.2, 4. , 1. ],\n",
              "       [6.1, 2.9, 4.7, 1.4],\n",
              "       [5.6, 2.9, 3.6, 1.3],\n",
              "       [6.7, 3.1, 4.4, 1.4],\n",
              "       [5.6, 3. , 4.5, 1.5],\n",
              "       [5.8, 2.7, 4.1, 1. ],\n",
              "       [6.2, 2.2, 4.5, 1.5],\n",
              "       [5.6, 2.5, 3.9, 1.1],\n",
              "       [5.9, 3.2, 4.8, 1.8],\n",
              "       [6.1, 2.8, 4. , 1.3],\n",
              "       [6.3, 2.5, 4.9, 1.5],\n",
              "       [6.1, 2.8, 4.7, 1.2],\n",
              "       [6.4, 2.9, 4.3, 1.3],\n",
              "       [6.6, 3. , 4.4, 1.4],\n",
              "       [6.8, 2.8, 4.8, 1.4],\n",
              "       [6.7, 3. , 5. , 1.7],\n",
              "       [6. , 2.9, 4.5, 1.5],\n",
              "       [5.7, 2.6, 3.5, 1. ],\n",
              "       [5.5, 2.4, 3.8, 1.1],\n",
              "       [5.5, 2.4, 3.7, 1. ],\n",
              "       [5.8, 2.7, 3.9, 1.2],\n",
              "       [6. , 2.7, 5.1, 1.6],\n",
              "       [5.4, 3. , 4.5, 1.5],\n",
              "       [6. , 3.4, 4.5, 1.6],\n",
              "       [6.7, 3.1, 4.7, 1.5],\n",
              "       [6.3, 2.3, 4.4, 1.3],\n",
              "       [5.6, 3. , 4.1, 1.3],\n",
              "       [5.5, 2.5, 4. , 1.3],\n",
              "       [5.5, 2.6, 4.4, 1.2],\n",
              "       [6.1, 3. , 4.6, 1.4],\n",
              "       [5.8, 2.6, 4. , 1.2],\n",
              "       [5. , 2.3, 3.3, 1. ],\n",
              "       [5.6, 2.7, 4.2, 1.3],\n",
              "       [5.7, 3. , 4.2, 1.2],\n",
              "       [5.7, 2.9, 4.2, 1.3],\n",
              "       [6.2, 2.9, 4.3, 1.3],\n",
              "       [5.1, 2.5, 3. , 1.1],\n",
              "       [5.7, 2.8, 4.1, 1.3],\n",
              "       [6.3, 3.3, 6. , 2.5],\n",
              "       [5.8, 2.7, 5.1, 1.9],\n",
              "       [7.1, 3. , 5.9, 2.1],\n",
              "       [6.3, 2.9, 5.6, 1.8],\n",
              "       [6.5, 3. , 5.8, 2.2],\n",
              "       [7.6, 3. , 6.6, 2.1],\n",
              "       [4.9, 2.5, 4.5, 1.7],\n",
              "       [7.3, 2.9, 6.3, 1.8],\n",
              "       [6.7, 2.5, 5.8, 1.8],\n",
              "       [7.2, 3.6, 6.1, 2.5],\n",
              "       [6.5, 3.2, 5.1, 2. ],\n",
              "       [6.4, 2.7, 5.3, 1.9],\n",
              "       [6.8, 3. , 5.5, 2.1],\n",
              "       [5.7, 2.5, 5. , 2. ],\n",
              "       [5.8, 2.8, 5.1, 2.4],\n",
              "       [6.4, 3.2, 5.3, 2.3],\n",
              "       [6.5, 3. , 5.5, 1.8],\n",
              "       [7.7, 3.8, 6.7, 2.2],\n",
              "       [7.7, 2.6, 6.9, 2.3],\n",
              "       [6. , 2.2, 5. , 1.5],\n",
              "       [6.9, 3.2, 5.7, 2.3],\n",
              "       [5.6, 2.8, 4.9, 2. ],\n",
              "       [7.7, 2.8, 6.7, 2. ],\n",
              "       [6.3, 2.7, 4.9, 1.8],\n",
              "       [6.7, 3.3, 5.7, 2.1],\n",
              "       [7.2, 3.2, 6. , 1.8],\n",
              "       [6.2, 2.8, 4.8, 1.8],\n",
              "       [6.1, 3. , 4.9, 1.8],\n",
              "       [6.4, 2.8, 5.6, 2.1],\n",
              "       [7.2, 3. , 5.8, 1.6],\n",
              "       [7.4, 2.8, 6.1, 1.9],\n",
              "       [7.9, 3.8, 6.4, 2. ],\n",
              "       [6.4, 2.8, 5.6, 2.2],\n",
              "       [6.3, 2.8, 5.1, 1.5],\n",
              "       [6.1, 2.6, 5.6, 1.4],\n",
              "       [7.7, 3. , 6.1, 2.3],\n",
              "       [6.3, 3.4, 5.6, 2.4],\n",
              "       [6.4, 3.1, 5.5, 1.8],\n",
              "       [6. , 3. , 4.8, 1.8],\n",
              "       [6.9, 3.1, 5.4, 2.1],\n",
              "       [6.7, 3.1, 5.6, 2.4],\n",
              "       [6.9, 3.1, 5.1, 2.3],\n",
              "       [5.8, 2.7, 5.1, 1.9],\n",
              "       [6.8, 3.2, 5.9, 2.3],\n",
              "       [6.7, 3.3, 5.7, 2.5],\n",
              "       [6.7, 3. , 5.2, 2.3],\n",
              "       [6.3, 2.5, 5. , 1.9],\n",
              "       [6.5, 3. , 5.2, 2. ],\n",
              "       [6.2, 3.4, 5.4, 2.3],\n",
              "       [5.9, 3. , 5.1, 1.8]])"
            ]
          },
          "metadata": {},
          "execution_count": 155
        }
      ]
    },
    {
      "cell_type": "code",
      "source": [
        "Y = df.iloc[:, -1].values\n",
        "Y"
      ],
      "metadata": {
        "id": "a1ag2DbNhKiD",
        "outputId": "e3dacf52-091a-475a-d5a2-eff4c882e464",
        "colab": {
          "base_uri": "https://localhost:8080/"
        }
      },
      "execution_count": null,
      "outputs": [
        {
          "output_type": "execute_result",
          "data": {
            "text/plain": [
              "array(['setosa', 'setosa', 'setosa', 'setosa', 'setosa', 'setosa',\n",
              "       'setosa', 'setosa', 'setosa', 'setosa', 'setosa', 'setosa',\n",
              "       'setosa', 'setosa', 'setosa', 'setosa', 'setosa', 'setosa',\n",
              "       'setosa', 'setosa', 'setosa', 'setosa', 'setosa', 'setosa',\n",
              "       'setosa', 'setosa', 'setosa', 'setosa', 'setosa', 'setosa',\n",
              "       'setosa', 'setosa', 'setosa', 'setosa', 'setosa', 'setosa',\n",
              "       'setosa', 'setosa', 'setosa', 'setosa', 'setosa', 'setosa',\n",
              "       'setosa', 'setosa', 'setosa', 'setosa', 'setosa', 'setosa',\n",
              "       'setosa', 'setosa', 'versicolor', 'versicolor', 'versicolor',\n",
              "       'versicolor', 'versicolor', 'versicolor', 'versicolor',\n",
              "       'versicolor', 'versicolor', 'versicolor', 'versicolor',\n",
              "       'versicolor', 'versicolor', 'versicolor', 'versicolor',\n",
              "       'versicolor', 'versicolor', 'versicolor', 'versicolor',\n",
              "       'versicolor', 'versicolor', 'versicolor', 'versicolor',\n",
              "       'versicolor', 'versicolor', 'versicolor', 'versicolor',\n",
              "       'versicolor', 'versicolor', 'versicolor', 'versicolor',\n",
              "       'versicolor', 'versicolor', 'versicolor', 'versicolor',\n",
              "       'versicolor', 'versicolor', 'versicolor', 'versicolor',\n",
              "       'versicolor', 'versicolor', 'versicolor', 'versicolor',\n",
              "       'versicolor', 'versicolor', 'versicolor', 'versicolor',\n",
              "       'versicolor', 'versicolor', 'versicolor', 'virginica', 'virginica',\n",
              "       'virginica', 'virginica', 'virginica', 'virginica', 'virginica',\n",
              "       'virginica', 'virginica', 'virginica', 'virginica', 'virginica',\n",
              "       'virginica', 'virginica', 'virginica', 'virginica', 'virginica',\n",
              "       'virginica', 'virginica', 'virginica', 'virginica', 'virginica',\n",
              "       'virginica', 'virginica', 'virginica', 'virginica', 'virginica',\n",
              "       'virginica', 'virginica', 'virginica', 'virginica', 'virginica',\n",
              "       'virginica', 'virginica', 'virginica', 'virginica', 'virginica',\n",
              "       'virginica', 'virginica', 'virginica', 'virginica', 'virginica',\n",
              "       'virginica', 'virginica', 'virginica', 'virginica', 'virginica',\n",
              "       'virginica', 'virginica', 'virginica'], dtype=object)"
            ]
          },
          "metadata": {},
          "execution_count": 156
        }
      ]
    },
    {
      "cell_type": "code",
      "source": [
        "Xtrain = X[itrain]\n",
        "Xtest = X[itest]\n",
        "Ytrain = Y[itrain]\n",
        "Ytest = Y[itest]"
      ],
      "metadata": {
        "id": "IYSDydlWhN0U"
      },
      "execution_count": null,
      "outputs": []
    },
    {
      "cell_type": "code",
      "source": [
        "def NN(x):\n",
        "  return Ytrain[np.sum((Xtrain - x) ** 2, axis=1).argmin()]"
      ],
      "metadata": {
        "id": "YUYhrXuLhOcb"
      },
      "execution_count": null,
      "outputs": []
    },
    {
      "cell_type": "code",
      "source": [
        "z = []\n",
        "for x in Xtest:\n",
        "  z.append(NN(x))\n",
        "z = np.array(z)"
      ],
      "metadata": {
        "id": "Crw9l3xlhbsb"
      },
      "execution_count": null,
      "outputs": []
    },
    {
      "cell_type": "code",
      "source": [
        "np.sum(z == Ytest) / len(z) * 100"
      ],
      "metadata": {
        "colab": {
          "base_uri": "https://localhost:8080/"
        },
        "id": "P5XLsNGBiOWy",
        "outputId": "7791b0b4-e205-4241-c5bd-68a5ae02ff20"
      },
      "execution_count": null,
      "outputs": [
        {
          "output_type": "execute_result",
          "data": {
            "text/plain": [
              "94.66666666666667"
            ]
          },
          "metadata": {},
          "execution_count": 160
        }
      ]
    },
    {
      "cell_type": "markdown",
      "source": [
        "add K"
      ],
      "metadata": {
        "id": "Hlck_woRE3qQ"
      }
    },
    {
      "cell_type": "code",
      "source": [
        "def KNN(x, k):\n",
        "  count = np.zeros(len(list(df['species'].unique()))) # [0, 0, 0]\n",
        "  for s in Ytrain[np.sum((Xtrain - x) ** 2, axis=1).argsort()][:k]:  \n",
        "    f = lambda x: list(df['species'].unique()).index(x)  # return index\n",
        "    count[f(s)]+=1\n",
        "  return list(df['species'].unique())[count.argmax()]"
      ],
      "metadata": {
        "id": "4He_JOqA_a2D"
      },
      "execution_count": null,
      "outputs": []
    },
    {
      "cell_type": "code",
      "source": [
        "print(list(df['species'].unique()))\n",
        "print(len(list(df['species'].unique())))\n",
        "print(np.zeros(len(list(df['species'].unique()))))\n",
        "print(Ytrain[np.sum((Xtrain - Xtest[0]) ** 2, axis=1).argsort()][:5])\n",
        "print(list(df['species'].unique()).index('setosa')  )"
      ],
      "metadata": {
        "colab": {
          "base_uri": "https://localhost:8080/"
        },
        "id": "KphEHKetA03Y",
        "outputId": "f4a900be-920f-41f2-9029-80e8a28e961f"
      },
      "execution_count": null,
      "outputs": [
        {
          "output_type": "stream",
          "name": "stdout",
          "text": [
            "['setosa', 'versicolor', 'virginica']\n",
            "3\n",
            "[0. 0. 0.]\n",
            "['setosa' 'setosa' 'setosa' 'setosa' 'setosa']\n",
            "0\n"
          ]
        }
      ]
    },
    {
      "cell_type": "code",
      "source": [
        "ac = []\n",
        "for k in range(1,10):\n",
        "  z = []\n",
        "\n",
        "  for x in Xtest:\n",
        "    z.append(KNN(x, k))\n",
        "\n",
        "  z = np.array(z)\n",
        "  ac.append(np.sum(z == Ytest) / len(z) * 100)\n",
        "\n",
        "\n",
        "x = [i for i in range(1,76)]\n",
        "# sns.scatterplot(x=x,y=ac)"
      ],
      "metadata": {
        "id": "b8HeuqFY_1Z4"
      },
      "execution_count": null,
      "outputs": []
    },
    {
      "cell_type": "markdown",
      "source": [
        "# K-means"
      ],
      "metadata": {
        "id": "FBYkWrZp0Vc-"
      }
    },
    {
      "cell_type": "markdown",
      "source": [
        "## K means ของอาจารย์"
      ],
      "metadata": {
        "id": "exUbIPRbJpU1"
      }
    },
    {
      "cell_type": "code",
      "source": [
        "import seaborn as sns"
      ],
      "metadata": {
        "id": "u_UcncTuibTS"
      },
      "execution_count": null,
      "outputs": []
    },
    {
      "cell_type": "code",
      "source": [
        "df = sns.load_dataset('iris')"
      ],
      "metadata": {
        "id": "Br7Kgt9t0dFH"
      },
      "execution_count": null,
      "outputs": []
    },
    {
      "cell_type": "code",
      "source": [
        "df"
      ],
      "metadata": {
        "colab": {
          "base_uri": "https://localhost:8080/"
        },
        "id": "Q7cg8nDB0gFu",
        "outputId": "b21b1b8f-16e9-4482-ed81-084aef2de573"
      },
      "execution_count": null,
      "outputs": [
        {
          "output_type": "execute_result",
          "data": {
            "text/plain": [
              "     sepal_length  sepal_width  petal_length  petal_width    species\n",
              "0             5.1          3.5           1.4          0.2     setosa\n",
              "1             4.9          3.0           1.4          0.2     setosa\n",
              "2             4.7          3.2           1.3          0.2     setosa\n",
              "3             4.6          3.1           1.5          0.2     setosa\n",
              "4             5.0          3.6           1.4          0.2     setosa\n",
              "..            ...          ...           ...          ...        ...\n",
              "145           6.7          3.0           5.2          2.3  virginica\n",
              "146           6.3          2.5           5.0          1.9  virginica\n",
              "147           6.5          3.0           5.2          2.0  virginica\n",
              "148           6.2          3.4           5.4          2.3  virginica\n",
              "149           5.9          3.0           5.1          1.8  virginica\n",
              "\n",
              "[150 rows x 5 columns]"
            ],
            "text/html": [
              "\n",
              "  <div id=\"df-0f2237c4-e9fc-4692-80b3-ba7b86b54a52\">\n",
              "    <div class=\"colab-df-container\">\n",
              "      <div>\n",
              "<style scoped>\n",
              "    .dataframe tbody tr th:only-of-type {\n",
              "        vertical-align: middle;\n",
              "    }\n",
              "\n",
              "    .dataframe tbody tr th {\n",
              "        vertical-align: top;\n",
              "    }\n",
              "\n",
              "    .dataframe thead th {\n",
              "        text-align: right;\n",
              "    }\n",
              "</style>\n",
              "<table border=\"1\" class=\"dataframe\">\n",
              "  <thead>\n",
              "    <tr style=\"text-align: right;\">\n",
              "      <th></th>\n",
              "      <th>sepal_length</th>\n",
              "      <th>sepal_width</th>\n",
              "      <th>petal_length</th>\n",
              "      <th>petal_width</th>\n",
              "      <th>species</th>\n",
              "    </tr>\n",
              "  </thead>\n",
              "  <tbody>\n",
              "    <tr>\n",
              "      <th>0</th>\n",
              "      <td>5.1</td>\n",
              "      <td>3.5</td>\n",
              "      <td>1.4</td>\n",
              "      <td>0.2</td>\n",
              "      <td>setosa</td>\n",
              "    </tr>\n",
              "    <tr>\n",
              "      <th>1</th>\n",
              "      <td>4.9</td>\n",
              "      <td>3.0</td>\n",
              "      <td>1.4</td>\n",
              "      <td>0.2</td>\n",
              "      <td>setosa</td>\n",
              "    </tr>\n",
              "    <tr>\n",
              "      <th>2</th>\n",
              "      <td>4.7</td>\n",
              "      <td>3.2</td>\n",
              "      <td>1.3</td>\n",
              "      <td>0.2</td>\n",
              "      <td>setosa</td>\n",
              "    </tr>\n",
              "    <tr>\n",
              "      <th>3</th>\n",
              "      <td>4.6</td>\n",
              "      <td>3.1</td>\n",
              "      <td>1.5</td>\n",
              "      <td>0.2</td>\n",
              "      <td>setosa</td>\n",
              "    </tr>\n",
              "    <tr>\n",
              "      <th>4</th>\n",
              "      <td>5.0</td>\n",
              "      <td>3.6</td>\n",
              "      <td>1.4</td>\n",
              "      <td>0.2</td>\n",
              "      <td>setosa</td>\n",
              "    </tr>\n",
              "    <tr>\n",
              "      <th>...</th>\n",
              "      <td>...</td>\n",
              "      <td>...</td>\n",
              "      <td>...</td>\n",
              "      <td>...</td>\n",
              "      <td>...</td>\n",
              "    </tr>\n",
              "    <tr>\n",
              "      <th>145</th>\n",
              "      <td>6.7</td>\n",
              "      <td>3.0</td>\n",
              "      <td>5.2</td>\n",
              "      <td>2.3</td>\n",
              "      <td>virginica</td>\n",
              "    </tr>\n",
              "    <tr>\n",
              "      <th>146</th>\n",
              "      <td>6.3</td>\n",
              "      <td>2.5</td>\n",
              "      <td>5.0</td>\n",
              "      <td>1.9</td>\n",
              "      <td>virginica</td>\n",
              "    </tr>\n",
              "    <tr>\n",
              "      <th>147</th>\n",
              "      <td>6.5</td>\n",
              "      <td>3.0</td>\n",
              "      <td>5.2</td>\n",
              "      <td>2.0</td>\n",
              "      <td>virginica</td>\n",
              "    </tr>\n",
              "    <tr>\n",
              "      <th>148</th>\n",
              "      <td>6.2</td>\n",
              "      <td>3.4</td>\n",
              "      <td>5.4</td>\n",
              "      <td>2.3</td>\n",
              "      <td>virginica</td>\n",
              "    </tr>\n",
              "    <tr>\n",
              "      <th>149</th>\n",
              "      <td>5.9</td>\n",
              "      <td>3.0</td>\n",
              "      <td>5.1</td>\n",
              "      <td>1.8</td>\n",
              "      <td>virginica</td>\n",
              "    </tr>\n",
              "  </tbody>\n",
              "</table>\n",
              "<p>150 rows × 5 columns</p>\n",
              "</div>\n",
              "      <button class=\"colab-df-convert\" onclick=\"convertToInteractive('df-0f2237c4-e9fc-4692-80b3-ba7b86b54a52')\"\n",
              "              title=\"Convert this dataframe to an interactive table.\"\n",
              "              style=\"display:none;\">\n",
              "        \n",
              "  <svg xmlns=\"http://www.w3.org/2000/svg\" height=\"24px\"viewBox=\"0 0 24 24\"\n",
              "       width=\"24px\">\n",
              "    <path d=\"M0 0h24v24H0V0z\" fill=\"none\"/>\n",
              "    <path d=\"M18.56 5.44l.94 2.06.94-2.06 2.06-.94-2.06-.94-.94-2.06-.94 2.06-2.06.94zm-11 1L8.5 8.5l.94-2.06 2.06-.94-2.06-.94L8.5 2.5l-.94 2.06-2.06.94zm10 10l.94 2.06.94-2.06 2.06-.94-2.06-.94-.94-2.06-.94 2.06-2.06.94z\"/><path d=\"M17.41 7.96l-1.37-1.37c-.4-.4-.92-.59-1.43-.59-.52 0-1.04.2-1.43.59L10.3 9.45l-7.72 7.72c-.78.78-.78 2.05 0 2.83L4 21.41c.39.39.9.59 1.41.59.51 0 1.02-.2 1.41-.59l7.78-7.78 2.81-2.81c.8-.78.8-2.07 0-2.86zM5.41 20L4 18.59l7.72-7.72 1.47 1.35L5.41 20z\"/>\n",
              "  </svg>\n",
              "      </button>\n",
              "      \n",
              "  <style>\n",
              "    .colab-df-container {\n",
              "      display:flex;\n",
              "      flex-wrap:wrap;\n",
              "      gap: 12px;\n",
              "    }\n",
              "\n",
              "    .colab-df-convert {\n",
              "      background-color: #E8F0FE;\n",
              "      border: none;\n",
              "      border-radius: 50%;\n",
              "      cursor: pointer;\n",
              "      display: none;\n",
              "      fill: #1967D2;\n",
              "      height: 32px;\n",
              "      padding: 0 0 0 0;\n",
              "      width: 32px;\n",
              "    }\n",
              "\n",
              "    .colab-df-convert:hover {\n",
              "      background-color: #E2EBFA;\n",
              "      box-shadow: 0px 1px 2px rgba(60, 64, 67, 0.3), 0px 1px 3px 1px rgba(60, 64, 67, 0.15);\n",
              "      fill: #174EA6;\n",
              "    }\n",
              "\n",
              "    [theme=dark] .colab-df-convert {\n",
              "      background-color: #3B4455;\n",
              "      fill: #D2E3FC;\n",
              "    }\n",
              "\n",
              "    [theme=dark] .colab-df-convert:hover {\n",
              "      background-color: #434B5C;\n",
              "      box-shadow: 0px 1px 3px 1px rgba(0, 0, 0, 0.15);\n",
              "      filter: drop-shadow(0px 1px 2px rgba(0, 0, 0, 0.3));\n",
              "      fill: #FFFFFF;\n",
              "    }\n",
              "  </style>\n",
              "\n",
              "      <script>\n",
              "        const buttonEl =\n",
              "          document.querySelector('#df-0f2237c4-e9fc-4692-80b3-ba7b86b54a52 button.colab-df-convert');\n",
              "        buttonEl.style.display =\n",
              "          google.colab.kernel.accessAllowed ? 'block' : 'none';\n",
              "\n",
              "        async function convertToInteractive(key) {\n",
              "          const element = document.querySelector('#df-0f2237c4-e9fc-4692-80b3-ba7b86b54a52');\n",
              "          const dataTable =\n",
              "            await google.colab.kernel.invokeFunction('convertToInteractive',\n",
              "                                                     [key], {});\n",
              "          if (!dataTable) return;\n",
              "\n",
              "          const docLinkHtml = 'Like what you see? Visit the ' +\n",
              "            '<a target=\"_blank\" href=https://colab.research.google.com/notebooks/data_table.ipynb>data table notebook</a>'\n",
              "            + ' to learn more about interactive tables.';\n",
              "          element.innerHTML = '';\n",
              "          dataTable['output_type'] = 'display_data';\n",
              "          await google.colab.output.renderOutput(dataTable, element);\n",
              "          const docLink = document.createElement('div');\n",
              "          docLink.innerHTML = docLinkHtml;\n",
              "          element.appendChild(docLink);\n",
              "        }\n",
              "      </script>\n",
              "    </div>\n",
              "  </div>\n",
              "  "
            ]
          },
          "metadata": {},
          "execution_count": 167
        }
      ]
    },
    {
      "cell_type": "code",
      "source": [
        "df.describe()"
      ],
      "metadata": {
        "colab": {
          "base_uri": "https://localhost:8080/"
        },
        "id": "HQox2AOD1Wu_",
        "outputId": "5a74c60a-b448-468a-f0e8-87615ba90d21"
      },
      "execution_count": null,
      "outputs": [
        {
          "output_type": "execute_result",
          "data": {
            "text/plain": [
              "       sepal_length  sepal_width  petal_length  petal_width\n",
              "count    150.000000   150.000000    150.000000   150.000000\n",
              "mean       5.843333     3.057333      3.758000     1.199333\n",
              "std        0.828066     0.435866      1.765298     0.762238\n",
              "min        4.300000     2.000000      1.000000     0.100000\n",
              "25%        5.100000     2.800000      1.600000     0.300000\n",
              "50%        5.800000     3.000000      4.350000     1.300000\n",
              "75%        6.400000     3.300000      5.100000     1.800000\n",
              "max        7.900000     4.400000      6.900000     2.500000"
            ],
            "text/html": [
              "\n",
              "  <div id=\"df-eddb3ab0-531e-4ea3-aa5d-89501927ca66\">\n",
              "    <div class=\"colab-df-container\">\n",
              "      <div>\n",
              "<style scoped>\n",
              "    .dataframe tbody tr th:only-of-type {\n",
              "        vertical-align: middle;\n",
              "    }\n",
              "\n",
              "    .dataframe tbody tr th {\n",
              "        vertical-align: top;\n",
              "    }\n",
              "\n",
              "    .dataframe thead th {\n",
              "        text-align: right;\n",
              "    }\n",
              "</style>\n",
              "<table border=\"1\" class=\"dataframe\">\n",
              "  <thead>\n",
              "    <tr style=\"text-align: right;\">\n",
              "      <th></th>\n",
              "      <th>sepal_length</th>\n",
              "      <th>sepal_width</th>\n",
              "      <th>petal_length</th>\n",
              "      <th>petal_width</th>\n",
              "    </tr>\n",
              "  </thead>\n",
              "  <tbody>\n",
              "    <tr>\n",
              "      <th>count</th>\n",
              "      <td>150.000000</td>\n",
              "      <td>150.000000</td>\n",
              "      <td>150.000000</td>\n",
              "      <td>150.000000</td>\n",
              "    </tr>\n",
              "    <tr>\n",
              "      <th>mean</th>\n",
              "      <td>5.843333</td>\n",
              "      <td>3.057333</td>\n",
              "      <td>3.758000</td>\n",
              "      <td>1.199333</td>\n",
              "    </tr>\n",
              "    <tr>\n",
              "      <th>std</th>\n",
              "      <td>0.828066</td>\n",
              "      <td>0.435866</td>\n",
              "      <td>1.765298</td>\n",
              "      <td>0.762238</td>\n",
              "    </tr>\n",
              "    <tr>\n",
              "      <th>min</th>\n",
              "      <td>4.300000</td>\n",
              "      <td>2.000000</td>\n",
              "      <td>1.000000</td>\n",
              "      <td>0.100000</td>\n",
              "    </tr>\n",
              "    <tr>\n",
              "      <th>25%</th>\n",
              "      <td>5.100000</td>\n",
              "      <td>2.800000</td>\n",
              "      <td>1.600000</td>\n",
              "      <td>0.300000</td>\n",
              "    </tr>\n",
              "    <tr>\n",
              "      <th>50%</th>\n",
              "      <td>5.800000</td>\n",
              "      <td>3.000000</td>\n",
              "      <td>4.350000</td>\n",
              "      <td>1.300000</td>\n",
              "    </tr>\n",
              "    <tr>\n",
              "      <th>75%</th>\n",
              "      <td>6.400000</td>\n",
              "      <td>3.300000</td>\n",
              "      <td>5.100000</td>\n",
              "      <td>1.800000</td>\n",
              "    </tr>\n",
              "    <tr>\n",
              "      <th>max</th>\n",
              "      <td>7.900000</td>\n",
              "      <td>4.400000</td>\n",
              "      <td>6.900000</td>\n",
              "      <td>2.500000</td>\n",
              "    </tr>\n",
              "  </tbody>\n",
              "</table>\n",
              "</div>\n",
              "      <button class=\"colab-df-convert\" onclick=\"convertToInteractive('df-eddb3ab0-531e-4ea3-aa5d-89501927ca66')\"\n",
              "              title=\"Convert this dataframe to an interactive table.\"\n",
              "              style=\"display:none;\">\n",
              "        \n",
              "  <svg xmlns=\"http://www.w3.org/2000/svg\" height=\"24px\"viewBox=\"0 0 24 24\"\n",
              "       width=\"24px\">\n",
              "    <path d=\"M0 0h24v24H0V0z\" fill=\"none\"/>\n",
              "    <path d=\"M18.56 5.44l.94 2.06.94-2.06 2.06-.94-2.06-.94-.94-2.06-.94 2.06-2.06.94zm-11 1L8.5 8.5l.94-2.06 2.06-.94-2.06-.94L8.5 2.5l-.94 2.06-2.06.94zm10 10l.94 2.06.94-2.06 2.06-.94-2.06-.94-.94-2.06-.94 2.06-2.06.94z\"/><path d=\"M17.41 7.96l-1.37-1.37c-.4-.4-.92-.59-1.43-.59-.52 0-1.04.2-1.43.59L10.3 9.45l-7.72 7.72c-.78.78-.78 2.05 0 2.83L4 21.41c.39.39.9.59 1.41.59.51 0 1.02-.2 1.41-.59l7.78-7.78 2.81-2.81c.8-.78.8-2.07 0-2.86zM5.41 20L4 18.59l7.72-7.72 1.47 1.35L5.41 20z\"/>\n",
              "  </svg>\n",
              "      </button>\n",
              "      \n",
              "  <style>\n",
              "    .colab-df-container {\n",
              "      display:flex;\n",
              "      flex-wrap:wrap;\n",
              "      gap: 12px;\n",
              "    }\n",
              "\n",
              "    .colab-df-convert {\n",
              "      background-color: #E8F0FE;\n",
              "      border: none;\n",
              "      border-radius: 50%;\n",
              "      cursor: pointer;\n",
              "      display: none;\n",
              "      fill: #1967D2;\n",
              "      height: 32px;\n",
              "      padding: 0 0 0 0;\n",
              "      width: 32px;\n",
              "    }\n",
              "\n",
              "    .colab-df-convert:hover {\n",
              "      background-color: #E2EBFA;\n",
              "      box-shadow: 0px 1px 2px rgba(60, 64, 67, 0.3), 0px 1px 3px 1px rgba(60, 64, 67, 0.15);\n",
              "      fill: #174EA6;\n",
              "    }\n",
              "\n",
              "    [theme=dark] .colab-df-convert {\n",
              "      background-color: #3B4455;\n",
              "      fill: #D2E3FC;\n",
              "    }\n",
              "\n",
              "    [theme=dark] .colab-df-convert:hover {\n",
              "      background-color: #434B5C;\n",
              "      box-shadow: 0px 1px 3px 1px rgba(0, 0, 0, 0.15);\n",
              "      filter: drop-shadow(0px 1px 2px rgba(0, 0, 0, 0.3));\n",
              "      fill: #FFFFFF;\n",
              "    }\n",
              "  </style>\n",
              "\n",
              "      <script>\n",
              "        const buttonEl =\n",
              "          document.querySelector('#df-eddb3ab0-531e-4ea3-aa5d-89501927ca66 button.colab-df-convert');\n",
              "        buttonEl.style.display =\n",
              "          google.colab.kernel.accessAllowed ? 'block' : 'none';\n",
              "\n",
              "        async function convertToInteractive(key) {\n",
              "          const element = document.querySelector('#df-eddb3ab0-531e-4ea3-aa5d-89501927ca66');\n",
              "          const dataTable =\n",
              "            await google.colab.kernel.invokeFunction('convertToInteractive',\n",
              "                                                     [key], {});\n",
              "          if (!dataTable) return;\n",
              "\n",
              "          const docLinkHtml = 'Like what you see? Visit the ' +\n",
              "            '<a target=\"_blank\" href=https://colab.research.google.com/notebooks/data_table.ipynb>data table notebook</a>'\n",
              "            + ' to learn more about interactive tables.';\n",
              "          element.innerHTML = '';\n",
              "          dataTable['output_type'] = 'display_data';\n",
              "          await google.colab.output.renderOutput(dataTable, element);\n",
              "          const docLink = document.createElement('div');\n",
              "          docLink.innerHTML = docLinkHtml;\n",
              "          element.appendChild(docLink);\n",
              "        }\n",
              "      </script>\n",
              "    </div>\n",
              "  </div>\n",
              "  "
            ]
          },
          "metadata": {},
          "execution_count": 168
        }
      ]
    },
    {
      "cell_type": "code",
      "source": [
        "X = df.iloc[:, :-1].values"
      ],
      "metadata": {
        "id": "jWgdXpHK0gye"
      },
      "execution_count": null,
      "outputs": []
    },
    {
      "cell_type": "code",
      "source": [
        "X"
      ],
      "metadata": {
        "colab": {
          "base_uri": "https://localhost:8080/"
        },
        "id": "Pc0MVeVi0oG-",
        "outputId": "33f3681e-b90e-4dee-ced6-8f25c462401a"
      },
      "execution_count": null,
      "outputs": [
        {
          "output_type": "execute_result",
          "data": {
            "text/plain": [
              "array([[5.1, 3.5, 1.4, 0.2],\n",
              "       [4.9, 3. , 1.4, 0.2],\n",
              "       [4.7, 3.2, 1.3, 0.2],\n",
              "       [4.6, 3.1, 1.5, 0.2],\n",
              "       [5. , 3.6, 1.4, 0.2],\n",
              "       [5.4, 3.9, 1.7, 0.4],\n",
              "       [4.6, 3.4, 1.4, 0.3],\n",
              "       [5. , 3.4, 1.5, 0.2],\n",
              "       [4.4, 2.9, 1.4, 0.2],\n",
              "       [4.9, 3.1, 1.5, 0.1],\n",
              "       [5.4, 3.7, 1.5, 0.2],\n",
              "       [4.8, 3.4, 1.6, 0.2],\n",
              "       [4.8, 3. , 1.4, 0.1],\n",
              "       [4.3, 3. , 1.1, 0.1],\n",
              "       [5.8, 4. , 1.2, 0.2],\n",
              "       [5.7, 4.4, 1.5, 0.4],\n",
              "       [5.4, 3.9, 1.3, 0.4],\n",
              "       [5.1, 3.5, 1.4, 0.3],\n",
              "       [5.7, 3.8, 1.7, 0.3],\n",
              "       [5.1, 3.8, 1.5, 0.3],\n",
              "       [5.4, 3.4, 1.7, 0.2],\n",
              "       [5.1, 3.7, 1.5, 0.4],\n",
              "       [4.6, 3.6, 1. , 0.2],\n",
              "       [5.1, 3.3, 1.7, 0.5],\n",
              "       [4.8, 3.4, 1.9, 0.2],\n",
              "       [5. , 3. , 1.6, 0.2],\n",
              "       [5. , 3.4, 1.6, 0.4],\n",
              "       [5.2, 3.5, 1.5, 0.2],\n",
              "       [5.2, 3.4, 1.4, 0.2],\n",
              "       [4.7, 3.2, 1.6, 0.2],\n",
              "       [4.8, 3.1, 1.6, 0.2],\n",
              "       [5.4, 3.4, 1.5, 0.4],\n",
              "       [5.2, 4.1, 1.5, 0.1],\n",
              "       [5.5, 4.2, 1.4, 0.2],\n",
              "       [4.9, 3.1, 1.5, 0.2],\n",
              "       [5. , 3.2, 1.2, 0.2],\n",
              "       [5.5, 3.5, 1.3, 0.2],\n",
              "       [4.9, 3.6, 1.4, 0.1],\n",
              "       [4.4, 3. , 1.3, 0.2],\n",
              "       [5.1, 3.4, 1.5, 0.2],\n",
              "       [5. , 3.5, 1.3, 0.3],\n",
              "       [4.5, 2.3, 1.3, 0.3],\n",
              "       [4.4, 3.2, 1.3, 0.2],\n",
              "       [5. , 3.5, 1.6, 0.6],\n",
              "       [5.1, 3.8, 1.9, 0.4],\n",
              "       [4.8, 3. , 1.4, 0.3],\n",
              "       [5.1, 3.8, 1.6, 0.2],\n",
              "       [4.6, 3.2, 1.4, 0.2],\n",
              "       [5.3, 3.7, 1.5, 0.2],\n",
              "       [5. , 3.3, 1.4, 0.2],\n",
              "       [7. , 3.2, 4.7, 1.4],\n",
              "       [6.4, 3.2, 4.5, 1.5],\n",
              "       [6.9, 3.1, 4.9, 1.5],\n",
              "       [5.5, 2.3, 4. , 1.3],\n",
              "       [6.5, 2.8, 4.6, 1.5],\n",
              "       [5.7, 2.8, 4.5, 1.3],\n",
              "       [6.3, 3.3, 4.7, 1.6],\n",
              "       [4.9, 2.4, 3.3, 1. ],\n",
              "       [6.6, 2.9, 4.6, 1.3],\n",
              "       [5.2, 2.7, 3.9, 1.4],\n",
              "       [5. , 2. , 3.5, 1. ],\n",
              "       [5.9, 3. , 4.2, 1.5],\n",
              "       [6. , 2.2, 4. , 1. ],\n",
              "       [6.1, 2.9, 4.7, 1.4],\n",
              "       [5.6, 2.9, 3.6, 1.3],\n",
              "       [6.7, 3.1, 4.4, 1.4],\n",
              "       [5.6, 3. , 4.5, 1.5],\n",
              "       [5.8, 2.7, 4.1, 1. ],\n",
              "       [6.2, 2.2, 4.5, 1.5],\n",
              "       [5.6, 2.5, 3.9, 1.1],\n",
              "       [5.9, 3.2, 4.8, 1.8],\n",
              "       [6.1, 2.8, 4. , 1.3],\n",
              "       [6.3, 2.5, 4.9, 1.5],\n",
              "       [6.1, 2.8, 4.7, 1.2],\n",
              "       [6.4, 2.9, 4.3, 1.3],\n",
              "       [6.6, 3. , 4.4, 1.4],\n",
              "       [6.8, 2.8, 4.8, 1.4],\n",
              "       [6.7, 3. , 5. , 1.7],\n",
              "       [6. , 2.9, 4.5, 1.5],\n",
              "       [5.7, 2.6, 3.5, 1. ],\n",
              "       [5.5, 2.4, 3.8, 1.1],\n",
              "       [5.5, 2.4, 3.7, 1. ],\n",
              "       [5.8, 2.7, 3.9, 1.2],\n",
              "       [6. , 2.7, 5.1, 1.6],\n",
              "       [5.4, 3. , 4.5, 1.5],\n",
              "       [6. , 3.4, 4.5, 1.6],\n",
              "       [6.7, 3.1, 4.7, 1.5],\n",
              "       [6.3, 2.3, 4.4, 1.3],\n",
              "       [5.6, 3. , 4.1, 1.3],\n",
              "       [5.5, 2.5, 4. , 1.3],\n",
              "       [5.5, 2.6, 4.4, 1.2],\n",
              "       [6.1, 3. , 4.6, 1.4],\n",
              "       [5.8, 2.6, 4. , 1.2],\n",
              "       [5. , 2.3, 3.3, 1. ],\n",
              "       [5.6, 2.7, 4.2, 1.3],\n",
              "       [5.7, 3. , 4.2, 1.2],\n",
              "       [5.7, 2.9, 4.2, 1.3],\n",
              "       [6.2, 2.9, 4.3, 1.3],\n",
              "       [5.1, 2.5, 3. , 1.1],\n",
              "       [5.7, 2.8, 4.1, 1.3],\n",
              "       [6.3, 3.3, 6. , 2.5],\n",
              "       [5.8, 2.7, 5.1, 1.9],\n",
              "       [7.1, 3. , 5.9, 2.1],\n",
              "       [6.3, 2.9, 5.6, 1.8],\n",
              "       [6.5, 3. , 5.8, 2.2],\n",
              "       [7.6, 3. , 6.6, 2.1],\n",
              "       [4.9, 2.5, 4.5, 1.7],\n",
              "       [7.3, 2.9, 6.3, 1.8],\n",
              "       [6.7, 2.5, 5.8, 1.8],\n",
              "       [7.2, 3.6, 6.1, 2.5],\n",
              "       [6.5, 3.2, 5.1, 2. ],\n",
              "       [6.4, 2.7, 5.3, 1.9],\n",
              "       [6.8, 3. , 5.5, 2.1],\n",
              "       [5.7, 2.5, 5. , 2. ],\n",
              "       [5.8, 2.8, 5.1, 2.4],\n",
              "       [6.4, 3.2, 5.3, 2.3],\n",
              "       [6.5, 3. , 5.5, 1.8],\n",
              "       [7.7, 3.8, 6.7, 2.2],\n",
              "       [7.7, 2.6, 6.9, 2.3],\n",
              "       [6. , 2.2, 5. , 1.5],\n",
              "       [6.9, 3.2, 5.7, 2.3],\n",
              "       [5.6, 2.8, 4.9, 2. ],\n",
              "       [7.7, 2.8, 6.7, 2. ],\n",
              "       [6.3, 2.7, 4.9, 1.8],\n",
              "       [6.7, 3.3, 5.7, 2.1],\n",
              "       [7.2, 3.2, 6. , 1.8],\n",
              "       [6.2, 2.8, 4.8, 1.8],\n",
              "       [6.1, 3. , 4.9, 1.8],\n",
              "       [6.4, 2.8, 5.6, 2.1],\n",
              "       [7.2, 3. , 5.8, 1.6],\n",
              "       [7.4, 2.8, 6.1, 1.9],\n",
              "       [7.9, 3.8, 6.4, 2. ],\n",
              "       [6.4, 2.8, 5.6, 2.2],\n",
              "       [6.3, 2.8, 5.1, 1.5],\n",
              "       [6.1, 2.6, 5.6, 1.4],\n",
              "       [7.7, 3. , 6.1, 2.3],\n",
              "       [6.3, 3.4, 5.6, 2.4],\n",
              "       [6.4, 3.1, 5.5, 1.8],\n",
              "       [6. , 3. , 4.8, 1.8],\n",
              "       [6.9, 3.1, 5.4, 2.1],\n",
              "       [6.7, 3.1, 5.6, 2.4],\n",
              "       [6.9, 3.1, 5.1, 2.3],\n",
              "       [5.8, 2.7, 5.1, 1.9],\n",
              "       [6.8, 3.2, 5.9, 2.3],\n",
              "       [6.7, 3.3, 5.7, 2.5],\n",
              "       [6.7, 3. , 5.2, 2.3],\n",
              "       [6.3, 2.5, 5. , 1.9],\n",
              "       [6.5, 3. , 5.2, 2. ],\n",
              "       [6.2, 3.4, 5.4, 2.3],\n",
              "       [5.9, 3. , 5.1, 1.8]])"
            ]
          },
          "metadata": {},
          "execution_count": 170
        }
      ]
    },
    {
      "cell_type": "code",
      "source": [
        "import numpy as np\n",
        "import matplotlib.pyplot as plt"
      ],
      "metadata": {
        "id": "KVzCA2TH2uBk"
      },
      "execution_count": null,
      "outputs": []
    },
    {
      "cell_type": "code",
      "source": [
        "K = 3\n",
        "C = X[np.random.permutation(len(X))[:K]] # random index"
      ],
      "metadata": {
        "id": "GbuFhE_F0qtW"
      },
      "execution_count": null,
      "outputs": []
    },
    {
      "cell_type": "code",
      "source": [
        "plt.plot(X[:, 0], X[:, 1], '.')\n",
        "plt.plot(C[:, 0], C[:, 1], 'or')\n",
        "plt.show()"
      ],
      "metadata": {
        "colab": {
          "base_uri": "https://localhost:8080/"
        },
        "id": "roXrq-n-1R89",
        "outputId": "1e6dc64e-9ffc-4d45-980a-34f5b10eb613"
      },
      "execution_count": null,
      "outputs": [
        {
          "output_type": "display_data",
          "data": {
            "text/plain": [
              "<Figure size 432x288 with 1 Axes>"
            ],
            "image/png": "[encoded data removed]"
          },
          "metadata": {
            "needs_background": "light"
          }
        }
      ]
    },
    {
      "cell_type": "code",
      "source": [
        "D = np.zeros((K, len(X)))\n",
        "for k in range(K):\n",
        "  D[k] = np.sum((X - C[k]) ** 2, axis=1)"
      ],
      "metadata": {
        "id": "7ogRCSCR2-wL"
      },
      "execution_count": null,
      "outputs": []
    },
    {
      "cell_type": "code",
      "source": [
        "idx = D.argmin(axis=0)"
      ],
      "metadata": {
        "id": "ucWmi3Px3fi4"
      },
      "execution_count": null,
      "outputs": []
    },
    {
      "cell_type": "code",
      "source": [
        "for k in range(K):\n",
        "  C[k] = X[idx == k].mean(axis=0)"
      ],
      "metadata": {
        "id": "WceClA4Z4M2-"
      },
      "execution_count": null,
      "outputs": []
    },
    {
      "cell_type": "code",
      "source": [
        "K = 3\n",
        "C = X[np.random.permutation(len(X))[:K]]\n",
        "while True:\n",
        "  # data visualization\n",
        "  plt.plot(X[:, 0], X[:, 1], '.')\n",
        "  plt.plot(C[:, 0], C[:, 1], 'or')\n",
        "  plt.show()\n",
        "\n",
        "  # distance\n",
        "  D = np.zeros((K, len(X)))\n",
        "  for k in range(K):\n",
        "    D[k] = np.sum((X - C[k]) ** 2, axis=1)\n",
        "  idx = D.argmin(axis=0)\n",
        "\n",
        "  # update centroids\n",
        "  Cold = C.copy() \n",
        "  for k in range(K):\n",
        "    C[k] = X[idx == k].mean(axis=0)\n",
        "\n",
        "  # check terminate condition\n",
        "  if np.sum(np.abs(Cold - C)) == 0:\n",
        "    break"
      ],
      "metadata": {
        "colab": {
          "base_uri": "https://localhost:8080/"
        },
        "id": "KhWzo4oC442V",
        "outputId": "89cb7064-d4ff-4e8b-d7d3-22a39fc29f9b"
      },
      "execution_count": null,
      "outputs": [
        {
          "output_type": "display_data",
          "data": {
            "text/plain": [
              "<Figure size 432x288 with 1 Axes>"
            ],
            "image/png": "[encoded data removed]"
          },
          "metadata": {
            "needs_background": "light"
          }
        },
        {
          "output_type": "display_data",
          "data": {
            "text/plain": [
              "<Figure size 432x288 with 1 Axes>"
            ],
            "image/png": "[encoded data removed]"
          },
          "metadata": {
            "needs_background": "light"
          }
        },
        {
          "output_type": "display_data",
          "data": {
            "text/plain": [
              "<Figure size 432x288 with 1 Axes>"
            ],
            "image/png": "[encoded data removed]"
          },
          "metadata": {
            "needs_background": "light"
          }
        },
        {
          "output_type": "display_data",
          "data": {
            "text/plain": [
              "<Figure size 432x288 with 1 Axes>"
            ],
            "image/png": "[encoded data removed]"
          },
          "metadata": {
            "needs_background": "light"
          }
        },
        {
          "output_type": "display_data",
          "data": {
            "text/plain": [
              "<Figure size 432x288 with 1 Axes>"
            ],
            "image/png": "[encoded data removed]"
          },
          "metadata": {
            "needs_background": "light"
          }
        },
        {
          "output_type": "display_data",
          "data": {
            "text/plain": [
              "<Figure size 432x288 with 1 Axes>"
            ],
            "image/png": "[encoded data removed]"
          },
          "metadata": {
            "needs_background": "light"
          }
        }
      ]
    },
    {
      "cell_type": "code",
      "source": [
        "C"
      ],
      "metadata": {
        "colab": {
          "base_uri": "https://localhost:8080/"
        },
        "id": "qIQGtx_46-Cj",
        "outputId": "fa6ce00f-e4e1-4010-8b22-39ec80ae2b36"
      },
      "execution_count": null,
      "outputs": [
        {
          "output_type": "execute_result",
          "data": {
            "text/plain": [
              "array([[5.9016129 , 2.7483871 , 4.39354839, 1.43387097],\n",
              "       [6.85      , 3.07368421, 5.74210526, 2.07105263],\n",
              "       [5.006     , 3.428     , 1.462     , 0.246     ]])"
            ]
          },
          "metadata": {},
          "execution_count": 178
        }
      ]
    },
    {
      "cell_type": "code",
      "source": [
        "idx"
      ],
      "metadata": {
        "colab": {
          "base_uri": "https://localhost:8080/"
        },
        "id": "lkYWxG6F7AUa",
        "outputId": "4c0f869a-c0a2-4c8e-b461-bc5a835979f4"
      },
      "execution_count": null,
      "outputs": [
        {
          "output_type": "execute_result",
          "data": {
            "text/plain": [
              "array([2, 2, 2, 2, 2, 2, 2, 2, 2, 2, 2, 2, 2, 2, 2, 2, 2, 2, 2, 2, 2, 2,\n",
              "       2, 2, 2, 2, 2, 2, 2, 2, 2, 2, 2, 2, 2, 2, 2, 2, 2, 2, 2, 2, 2, 2,\n",
              "       2, 2, 2, 2, 2, 2, 0, 0, 1, 0, 0, 0, 0, 0, 0, 0, 0, 0, 0, 0, 0, 0,\n",
              "       0, 0, 0, 0, 0, 0, 0, 0, 0, 0, 0, 1, 0, 0, 0, 0, 0, 0, 0, 0, 0, 0,\n",
              "       0, 0, 0, 0, 0, 0, 0, 0, 0, 0, 0, 0, 1, 0, 1, 1, 1, 1, 0, 1, 1, 1,\n",
              "       1, 1, 1, 0, 0, 1, 1, 1, 1, 0, 1, 0, 1, 0, 1, 1, 0, 0, 1, 1, 1, 1,\n",
              "       1, 0, 1, 1, 1, 1, 0, 1, 1, 1, 0, 1, 1, 1, 0, 1, 1, 0])"
            ]
          },
          "metadata": {},
          "execution_count": 179
        }
      ]
    },
    {
      "cell_type": "code",
      "source": [
        "classes = list(df.iloc[:, -1].unique())"
      ],
      "metadata": {
        "id": "WsjM7sTD7FRD"
      },
      "execution_count": null,
      "outputs": []
    },
    {
      "cell_type": "code",
      "source": [
        "Y = df.iloc[:, -1].values\n",
        "for cls in classes:\n",
        "  Y[Y == cls] = classes.index(cls)"
      ],
      "metadata": {
        "id": "rBb-BBRe7c3S"
      },
      "execution_count": null,
      "outputs": []
    },
    {
      "cell_type": "code",
      "source": [
        "Y"
      ],
      "metadata": {
        "colab": {
          "base_uri": "https://localhost:8080/"
        },
        "id": "OBs-niHm74b7",
        "outputId": "32275c5c-e1eb-428b-8fcb-08b74cbce050"
      },
      "execution_count": null,
      "outputs": [
        {
          "output_type": "execute_result",
          "data": {
            "text/plain": [
              "array([0, 0, 0, 0, 0, 0, 0, 0, 0, 0, 0, 0, 0, 0, 0, 0, 0, 0, 0, 0, 0, 0,\n",
              "       0, 0, 0, 0, 0, 0, 0, 0, 0, 0, 0, 0, 0, 0, 0, 0, 0, 0, 0, 0, 0, 0,\n",
              "       0, 0, 0, 0, 0, 0, 1, 1, 1, 1, 1, 1, 1, 1, 1, 1, 1, 1, 1, 1, 1, 1,\n",
              "       1, 1, 1, 1, 1, 1, 1, 1, 1, 1, 1, 1, 1, 1, 1, 1, 1, 1, 1, 1, 1, 1,\n",
              "       1, 1, 1, 1, 1, 1, 1, 1, 1, 1, 1, 1, 2, 2, 2, 2, 2, 2, 2, 2, 2, 2,\n",
              "       2, 2, 2, 2, 2, 2, 2, 2, 2, 2, 2, 2, 2, 2, 2, 2, 2, 2, 2, 2, 2, 2,\n",
              "       2, 2, 2, 2, 2, 2, 2, 2, 2, 2, 2, 2, 2, 2, 2, 2, 2, 2], dtype=object)"
            ]
          },
          "metadata": {},
          "execution_count": 182
        }
      ]
    },
    {
      "cell_type": "code",
      "source": [
        "C_actual = np.zeros((K, X.shape[1]))\n",
        "for k in range(K):\n",
        "  C_actual[k] = X[Y == k].mean(axis=0)"
      ],
      "metadata": {
        "id": "2INfENgh8BU5"
      },
      "execution_count": null,
      "outputs": []
    },
    {
      "cell_type": "code",
      "source": [
        "C_actual"
      ],
      "metadata": {
        "colab": {
          "base_uri": "https://localhost:8080/"
        },
        "id": "uDMMojUF9Ypo",
        "outputId": "82b7e2db-874a-414c-b1fc-5f37f4ebd27b"
      },
      "execution_count": null,
      "outputs": [
        {
          "output_type": "execute_result",
          "data": {
            "text/plain": [
              "array([[5.006, 3.428, 1.462, 0.246],\n",
              "       [5.936, 2.77 , 4.26 , 1.326],\n",
              "       [6.588, 2.974, 5.552, 2.026]])"
            ]
          },
          "metadata": {},
          "execution_count": 184
        }
      ]
    },
    {
      "cell_type": "code",
      "source": [
        "C"
      ],
      "metadata": {
        "colab": {
          "base_uri": "https://localhost:8080/"
        },
        "id": "t2A_5nq29ZKY",
        "outputId": "9d3870bd-a792-44ed-d43d-94e67bb54321"
      },
      "execution_count": null,
      "outputs": [
        {
          "output_type": "execute_result",
          "data": {
            "text/plain": [
              "array([[5.9016129 , 2.7483871 , 4.39354839, 1.43387097],\n",
              "       [6.85      , 3.07368421, 5.74210526, 2.07105263],\n",
              "       [5.006     , 3.428     , 1.462     , 0.246     ]])"
            ]
          },
          "metadata": {},
          "execution_count": 185
        }
      ]
    },
    {
      "cell_type": "code",
      "source": [
        "to_actual = {}\n",
        "for k in range(K):\n",
        "  to_actual[k] = np.sum((C_actual - C[k]) ** 2, axis=1).argmin()"
      ],
      "metadata": {
        "id": "0HePW5j39skw"
      },
      "execution_count": null,
      "outputs": []
    },
    {
      "cell_type": "code",
      "source": [
        "idx_actual = idx.copy()"
      ],
      "metadata": {
        "id": "adJpoi-2-JKQ"
      },
      "execution_count": null,
      "outputs": []
    },
    {
      "cell_type": "code",
      "source": [
        "for k, v in to_actual.items():\n",
        "  i = idx == k\n",
        "  idx_actual[i] = v"
      ],
      "metadata": {
        "id": "HviJ0WBC-J1I"
      },
      "execution_count": null,
      "outputs": []
    },
    {
      "cell_type": "code",
      "source": [
        "idx"
      ],
      "metadata": {
        "colab": {
          "base_uri": "https://localhost:8080/"
        },
        "id": "1XhmIuDg_Th7",
        "outputId": "969d8012-2fa9-4f70-e4cb-c324de29f851"
      },
      "execution_count": null,
      "outputs": [
        {
          "output_type": "execute_result",
          "data": {
            "text/plain": [
              "array([2, 2, 2, 2, 2, 2, 2, 2, 2, 2, 2, 2, 2, 2, 2, 2, 2, 2, 2, 2, 2, 2,\n",
              "       2, 2, 2, 2, 2, 2, 2, 2, 2, 2, 2, 2, 2, 2, 2, 2, 2, 2, 2, 2, 2, 2,\n",
              "       2, 2, 2, 2, 2, 2, 0, 0, 1, 0, 0, 0, 0, 0, 0, 0, 0, 0, 0, 0, 0, 0,\n",
              "       0, 0, 0, 0, 0, 0, 0, 0, 0, 0, 0, 1, 0, 0, 0, 0, 0, 0, 0, 0, 0, 0,\n",
              "       0, 0, 0, 0, 0, 0, 0, 0, 0, 0, 0, 0, 1, 0, 1, 1, 1, 1, 0, 1, 1, 1,\n",
              "       1, 1, 1, 0, 0, 1, 1, 1, 1, 0, 1, 0, 1, 0, 1, 1, 0, 0, 1, 1, 1, 1,\n",
              "       1, 0, 1, 1, 1, 1, 0, 1, 1, 1, 0, 1, 1, 1, 0, 1, 1, 0])"
            ]
          },
          "metadata": {},
          "execution_count": 189
        }
      ]
    },
    {
      "cell_type": "code",
      "source": [
        "idx_actual"
      ],
      "metadata": {
        "colab": {
          "base_uri": "https://localhost:8080/"
        },
        "id": "dow_VHSw_UNq",
        "outputId": "99df0d98-5ac9-4e2f-b648-9ebea85af750"
      },
      "execution_count": null,
      "outputs": [
        {
          "output_type": "execute_result",
          "data": {
            "text/plain": [
              "array([0, 0, 0, 0, 0, 0, 0, 0, 0, 0, 0, 0, 0, 0, 0, 0, 0, 0, 0, 0, 0, 0,\n",
              "       0, 0, 0, 0, 0, 0, 0, 0, 0, 0, 0, 0, 0, 0, 0, 0, 0, 0, 0, 0, 0, 0,\n",
              "       0, 0, 0, 0, 0, 0, 1, 1, 2, 1, 1, 1, 1, 1, 1, 1, 1, 1, 1, 1, 1, 1,\n",
              "       1, 1, 1, 1, 1, 1, 1, 1, 1, 1, 1, 2, 1, 1, 1, 1, 1, 1, 1, 1, 1, 1,\n",
              "       1, 1, 1, 1, 1, 1, 1, 1, 1, 1, 1, 1, 2, 1, 2, 2, 2, 2, 1, 2, 2, 2,\n",
              "       2, 2, 2, 1, 1, 2, 2, 2, 2, 1, 2, 1, 2, 1, 2, 2, 1, 1, 2, 2, 2, 2,\n",
              "       2, 1, 2, 2, 2, 2, 1, 2, 2, 2, 1, 2, 2, 2, 1, 2, 2, 1])"
            ]
          },
          "metadata": {},
          "execution_count": 190
        }
      ]
    },
    {
      "cell_type": "code",
      "source": [
        "np.sum(Y == idx_actual) / len(Y)"
      ],
      "metadata": {
        "colab": {
          "base_uri": "https://localhost:8080/"
        },
        "id": "GQ6iMyQ2_Yt6",
        "outputId": "b924285c-2719-4dad-f7b2-6aee4ef79b9d"
      },
      "execution_count": null,
      "outputs": [
        {
          "output_type": "execute_result",
          "data": {
            "text/plain": [
              "0.8933333333333333"
            ]
          },
          "metadata": {},
          "execution_count": 191
        }
      ]
    },
    {
      "cell_type": "markdown",
      "source": [],
      "metadata": {
        "id": "izBcCkRDOhuk"
      }
    },
    {
      "cell_type": "markdown",
      "metadata": {
        "id": "t0v4AJaTOY3t"
      },
      "source": [
        "## Implement K-Means clustering from Scratch by Theo Botella"
      ]
    },
    {
      "cell_type": "code",
      "execution_count": null,
      "metadata": {
        "id": "m8BxnCjROY3w"
      },
      "outputs": [],
      "source": [
        "import numpy as np\n",
        "import pandas as pd\n",
        "import matplotlib.pyplot as plt\n",
        "import seaborn as sb\n",
        "import random as rand\n",
        "from sklearn.model_selection import train_test_split\n",
        "\n",
        "\n",
        "data_names = ['sepal_length', 'sepal_width', 'petal_length', 'petal_width', 'label']\n",
        "# data = pd.read_csv('iris.data', \n",
        "#                    names = data_names)\n",
        "data = sns.load_dataset('iris')\n",
        "\n",
        "# rename \n",
        "data.columns = data_names"
      ]
    },
    {
      "cell_type": "code",
      "execution_count": null,
      "metadata": {
        "id": "7Dt5xPoKOY3x"
      },
      "outputs": [],
      "source": [
        "all_vals = data.drop(columns=['label']).values.tolist()"
      ]
    },
    {
      "cell_type": "markdown",
      "metadata": {
        "id": "yc91xRkSOY3x"
      },
      "source": [
        " ### Place K centroids at random locations"
      ]
    },
    {
      "cell_type": "code",
      "execution_count": null,
      "metadata": {
        "id": "kHu0vkJbOY3x"
      },
      "outputs": [],
      "source": [
        "def random_centroids(all_vals, K):    \n",
        "    centroids = []\n",
        "    #Place K centroids at random locations\n",
        "    for i in range(K):\n",
        "        centroid = all_vals[rand.randint(0, 149)]\n",
        "        centroids.append(centroid)\n",
        "    return centroids"
      ]
    },
    {
      "cell_type": "markdown",
      "metadata": {
        "id": "ZN57AJ_vOY3x"
      },
      "source": [
        "### Assign all data points to the closest center"
      ]
    },
    {
      "cell_type": "code",
      "execution_count": null,
      "metadata": {
        "id": "6sVM8TOIOY3y"
      },
      "outputs": [],
      "source": [
        "def assign_cluster(all_vals, centroids):\n",
        "    assignments = []\n",
        "\n",
        "    for data_point in all_vals:\n",
        "        dist_point_clust = []\n",
        "\n",
        "        for centroid in centroids:\n",
        "            d_clust = np.linalg.norm(np.array(data_point) - np.array(centroid))\n",
        "            dist_point_clust.append(d_clust)\n",
        "        \n",
        "        assignment = np.argmin(dist_point_clust)\n",
        "        assignments.append(assignment)\n",
        "\n",
        "    return assignments    "
      ]
    },
    {
      "cell_type": "markdown",
      "metadata": {
        "id": "pJQOTYoKOY3y"
      },
      "source": [
        "### Compute the new centroids\n",
        "By computing the mean of all the points assigned to each cluster"
      ]
    },
    {
      "cell_type": "code",
      "execution_count": null,
      "metadata": {
        "id": "DK6FvyR4OY3y"
      },
      "outputs": [],
      "source": [
        "def new_centroids(all_vals, centroids, assignments, K):\n",
        "    new_centroids = []\n",
        "    for i in range(K):\n",
        "        pt_cluster = []\n",
        "        for x in range(len(all_vals)):\n",
        "                if (assignments[x] == i):\n",
        "                    pt_cluster.append(all_vals[x])\n",
        "        mean_c = np.mean(pt_cluster, axis=0)\n",
        "        new_centroids.append(mean_c)\n",
        "\n",
        "    return new_centroids"
      ]
    },
    {
      "cell_type": "markdown",
      "metadata": {
        "id": "lLI1IkQsOY3y"
      },
      "source": [
        "### Compute SSE"
      ]
    },
    {
      "cell_type": "code",
      "execution_count": null,
      "metadata": {
        "id": "_GG07DXPOY3z"
      },
      "outputs": [],
      "source": [
        "def sse(all_vals, assignments, centroids):\n",
        "    errors = []\n",
        "    \n",
        "    for i in range(len(all_vals)):\n",
        "        #get assigned centroid for each point\n",
        "        centroid = centroids[assignments[i]]\n",
        "    \n",
        "        #compute the distance (error) between one point and its closest centroid\n",
        "        error = np.linalg.norm(np.array(all_vals[i]) - np.array(centroid))\n",
        "        \n",
        "        #append squared error to the list of error\n",
        "        errors.append(error**2)\n",
        "        \n",
        "    #and sum up all the errors\n",
        "    sse = sum(errors)\n",
        "    \n",
        "    return sse"
      ]
    },
    {
      "cell_type": "markdown",
      "metadata": {
        "id": "1Pf6AmG9OY3z"
      },
      "source": [
        "### Given a set of assignments of points to clusters, compute the new centroids for every cluster, by taking the mean of all the points assigned to each cluster."
      ]
    },
    {
      "cell_type": "code",
      "execution_count": null,
      "metadata": {
        "id": "8IY2nQ5ZOY3z"
      },
      "outputs": [],
      "source": [
        "def kmeans_clustering(all_vals,K,max_iter = 100, tol = pow(10,-3) ):\n",
        "    it = -1\n",
        "    all_sse = []\n",
        "    assignments = []\n",
        "    \n",
        "    #Place K centroids at random locations\n",
        "    centroids = random_centroids(all_vals, K)\n",
        "\n",
        "   \n",
        "    #Until algorithm converges\n",
        "    while (len(all_sse)<=1 or (it < max_iter and np.absolute(all_sse[it] - all_sse[it-1])/all_sse[it-1] >= tol)):\n",
        "        it += 1\n",
        "        #Assign all data points to the closest center\n",
        "        assignments = assign_cluster(all_vals, centroids)\n",
        "        \n",
        "        #Compute the new centroids\n",
        "        centroids = new_centroids(all_vals, centroids, assignments, K)\n",
        "        \n",
        "        #Compute SSE\n",
        "        sse_kmeans = sse(all_vals, assignments, centroids)\n",
        "        all_sse.append(sse_kmeans)        \n",
        "        \n",
        "     \n",
        "    return (assignments, centroids, all_sse, it)"
      ]
    },
    {
      "cell_type": "code",
      "execution_count": null,
      "metadata": {
        "id": "DMoiM7XXOY3z"
      },
      "outputs": [],
      "source": [
        "result = kmeans_clustering(all_vals,K=3)"
      ]
    },
    {
      "cell_type": "markdown",
      "metadata": {
        "id": "jUMA4BCMOY3z"
      },
      "source": [
        "### K-means Visualization"
      ]
    },
    {
      "cell_type": "code",
      "execution_count": null,
      "metadata": {
        "id": "dGLjfJ60OY30"
      },
      "outputs": [],
      "source": [
        "centroids_x = [result[1][x][0] for x in range(len(result[1]))] #sepal_length: [0] \n",
        "centroids_y = [result[1][x][2] for x in range(len(result[1]))] #petal_length: [2]"
      ]
    },
    {
      "cell_type": "code",
      "execution_count": null,
      "metadata": {
        "id": "B1gfn4Y1OY30"
      },
      "outputs": [],
      "source": [
        "x = data['sepal_length']\n",
        "y = data['petal_length']\n",
        "assignments = result[0]"
      ]
    },
    {
      "cell_type": "code",
      "execution_count": null,
      "metadata": {
        "scrolled": true,
        "id": "ClQZBR50OY30",
        "outputId": "727a7c15-c840-4edf-e104-d3751852fe07",
        "colab": {
          "base_uri": "https://localhost:8080/",
          "height": 314
        }
      },
      "outputs": [
        {
          "output_type": "execute_result",
          "data": {
            "text/plain": [
              "Text(0, 0.5, 'petal_length')"
            ]
          },
          "metadata": {},
          "execution_count": 209
        },
        {
          "output_type": "display_data",
          "data": {
            "text/plain": [
              "<Figure size 432x288 with 1 Axes>"
            ],
            "image/png": "[encoded data removed]"
          },
          "metadata": {
            "needs_background": "light"
          }
        }
      ],
      "source": [
        "plt.scatter(x, y, c=assignments)\n",
        "plt.plot(centroids_x,centroids_y, c='white', marker='.', linewidth='0.01', markerfacecolor='red', markersize=22)\n",
        "\n",
        "plt.title(\"K-means Visualization\")\n",
        "plt.xlabel(\"sepal_length\")\n",
        "plt.ylabel(\"petal_length\")"
      ]
    },
    {
      "cell_type": "markdown",
      "source": [
        "# Decision Tree"
      ],
      "metadata": {
        "id": "aPX6Kjk7Q5cP"
      }
    },
    {
      "cell_type": "markdown",
      "source": [
        "##  Decision Tree helper functions "
      ],
      "metadata": {
        "id": "LhMH6O2iQ9xy"
      }
    },
    {
      "cell_type": "code",
      "source": [
        "# coding: utf-8\n",
        "\n",
        "import numpy as np\n",
        "import pandas as pd\n",
        "\n",
        "\n",
        "# 1. Decision Tree helper functions\n",
        "# 1.1 Data pure?\n",
        "def check_purity(data):\n",
        "    \n",
        "    label_column = data[:, -1]\n",
        "    unique_classes = np.unique(label_column)\n",
        "\n",
        "    if len(unique_classes) == 1:\n",
        "        return True\n",
        "    else:\n",
        "        return False\n",
        "\n",
        "    \n",
        "# 1.2 Create Leaf\n",
        "def create_leaf(data, ml_task):\n",
        "    \n",
        "    label_column = data[:, -1]\n",
        "    if ml_task == \"regression\":\n",
        "        leaf = np.mean(label_column)\n",
        "        \n",
        "    # classfication    \n",
        "    else:\n",
        "        unique_classes, counts_unique_classes = np.unique(label_column, return_counts=True)\n",
        "        index = counts_unique_classes.argmax()\n",
        "        leaf = unique_classes[index]\n",
        "    \n",
        "    return leaf\n",
        "\n",
        "\n",
        "# 1.3 Determine potential splits\n",
        "def get_potential_splits(data):\n",
        "    \n",
        "    potential_splits = {}\n",
        "    _, n_columns = data.shape\n",
        "    for column_index in range(n_columns - 1): # excluding the last column which is the label\n",
        "        values = data[:, column_index]\n",
        "        unique_values = np.unique(values)\n",
        "        \n",
        "        potential_splits[column_index] = unique_values\n",
        "    \n",
        "    return potential_splits\n",
        "\n",
        "\n",
        "# 1.4 Determine Best Split\n",
        "def calculate_entropy(data):\n",
        "    \n",
        "    label_column = data[:, -1]\n",
        "    _, counts = np.unique(label_column, return_counts=True)\n",
        "\n",
        "    probabilities = counts / counts.sum()\n",
        "    entropy = sum(probabilities * -np.log2(probabilities))\n",
        "     \n",
        "    return entropy\n",
        "\n",
        "\n",
        "def calculate_mse(data):\n",
        "    actual_values = data[:, -1]\n",
        "    if len(actual_values) == 0:   # empty data\n",
        "        mse = 0\n",
        "        \n",
        "    else:\n",
        "        prediction = np.mean(actual_values)\n",
        "        mse = np.mean((actual_values - prediction) **2)\n",
        "    \n",
        "    return mse\n",
        "\n",
        "\n",
        "def calculate_overall_metric(data_below, data_above, metric_function):\n",
        "    \n",
        "    n = len(data_below) + len(data_above)\n",
        "    p_data_below = len(data_below) / n\n",
        "    p_data_above = len(data_above) / n\n",
        "\n",
        "    overall_metric =  (p_data_below * metric_function(data_below) \n",
        "                     + p_data_above * metric_function(data_above))\n",
        "    \n",
        "    return overall_metric\n",
        "\n",
        "\n",
        "def determine_best_split(data, potential_splits, ml_task):\n",
        "    \n",
        "    first_iteration = True\n",
        "    for column_index in potential_splits:\n",
        "        for value in potential_splits[column_index]:\n",
        "            data_below, data_above = split_data(data, split_column=column_index, split_value=value)\n",
        "            \n",
        "            if ml_task == \"regression\":\n",
        "                current_overall_metric = calculate_overall_metric(data_below, data_above, metric_function=calculate_mse)\n",
        "            \n",
        "            # classification\n",
        "            else:\n",
        "                current_overall_metric = calculate_overall_metric(data_below, data_above, metric_function=calculate_entropy)\n",
        "\n",
        "            if first_iteration or current_overall_metric <= best_overall_metric:\n",
        "                first_iteration = False\n",
        "                \n",
        "                best_overall_metric = current_overall_metric\n",
        "                best_split_column = column_index\n",
        "                best_split_value = value\n",
        "    \n",
        "    return best_split_column, best_split_value\n",
        "\n",
        "\n",
        "# 1.5 Split data\n",
        "def split_data(data, split_column, split_value):\n",
        "    \n",
        "    split_column_values = data[:, split_column]\n",
        "\n",
        "    type_of_feature = FEATURE_TYPES[split_column]\n",
        "    if type_of_feature == \"continuous\":\n",
        "        data_below = data[split_column_values <= split_value]\n",
        "        data_above = data[split_column_values >  split_value]\n",
        "    \n",
        "    # feature is categorical   \n",
        "    else:\n",
        "        data_below = data[split_column_values == split_value]\n",
        "        data_above = data[split_column_values != split_value]\n",
        "    \n",
        "    return data_below, data_above\n",
        "\n",
        "\n",
        "# 2. Decision Tree Algorithm\n",
        "# 2.1 Helper Function\n",
        "def determine_type_of_feature(df):\n",
        "    \n",
        "    feature_types = []\n",
        "    n_unique_values_treshold = 15\n",
        "    for feature in df.columns:\n",
        "        if feature != \"label\":\n",
        "            unique_values = df[feature].unique()\n",
        "            example_value = unique_values[0]\n",
        "\n",
        "            if (isinstance(example_value, str)) or (len(unique_values) <= n_unique_values_treshold):\n",
        "                feature_types.append(\"categorical\")\n",
        "            else:\n",
        "                feature_types.append(\"continuous\")\n",
        "    \n",
        "    return feature_types\n",
        "\n",
        "\n",
        "# 2.2 Algorithm\n",
        "def decision_tree_algorithm(df, ml_task, counter=0, min_samples=2, max_depth=5):\n",
        "    \n",
        "    # data preparations\n",
        "    if counter == 0:\n",
        "        global COLUMN_HEADERS, FEATURE_TYPES\n",
        "        COLUMN_HEADERS = df.columns\n",
        "        FEATURE_TYPES = determine_type_of_feature(df)\n",
        "        data = df.values\n",
        "    else:\n",
        "        data = df           \n",
        "    \n",
        "    \n",
        "    # base cases\n",
        "    if (check_purity(data)) or (len(data) < min_samples) or (counter == max_depth):\n",
        "        leaf = create_leaf(data, ml_task)\n",
        "        return leaf\n",
        "\n",
        "    \n",
        "    # recursive part\n",
        "    else:    \n",
        "        counter += 1\n",
        "\n",
        "        # helper functions \n",
        "        potential_splits = get_potential_splits(data)\n",
        "        split_column, split_value = determine_best_split(data, potential_splits, ml_task)\n",
        "        data_below, data_above = split_data(data, split_column, split_value)\n",
        "        \n",
        "        # check for empty data\n",
        "        if len(data_below) == 0 or len(data_above) == 0:\n",
        "            leaf = create_leaf(data, ml_task)\n",
        "            return leaf\n",
        "        \n",
        "        # determine question\n",
        "        feature_name = COLUMN_HEADERS[split_column]\n",
        "        type_of_feature = FEATURE_TYPES[split_column]\n",
        "        if type_of_feature == \"continuous\":\n",
        "            question = \"{} <= {}\".format(feature_name, split_value)\n",
        "            \n",
        "        # feature is categorical\n",
        "        else:\n",
        "            question = \"{} = {}\".format(feature_name, split_value)\n",
        "        \n",
        "        # instantiate sub-tree\n",
        "        sub_tree = {question: []}\n",
        "        \n",
        "        # find answers (recursion)\n",
        "        yes_answer = decision_tree_algorithm(data_below, ml_task, counter, min_samples, max_depth)\n",
        "        no_answer = decision_tree_algorithm(data_above, ml_task, counter, min_samples, max_depth)\n",
        "        \n",
        "        # If the answers are the same, then there is no point in asking the qestion.\n",
        "        # This could happen when the data is classified even though it is not pure\n",
        "        # yet (min_samples or max_depth base case).\n",
        "        if yes_answer == no_answer:\n",
        "            sub_tree = yes_answer\n",
        "        else:\n",
        "            sub_tree[question].append(yes_answer)\n",
        "            sub_tree[question].append(no_answer)\n",
        "        \n",
        "        return sub_tree\n",
        "\n",
        "\n",
        "# 3. Make predictions\n",
        "# 3.1 One example\n",
        "def predict_example(example, tree):\n",
        "    \n",
        "    # tree is just a root node\n",
        "    if not isinstance(tree, dict):\n",
        "        return tree\n",
        "    \n",
        "    question = list(tree.keys())[0]\n",
        "    feature_name, comparison_operator, value = question.split(\" \")\n",
        "\n",
        "    # ask question\n",
        "    if comparison_operator == \"<=\":\n",
        "        if example[feature_name] <= float(value):\n",
        "            answer = tree[question][0]\n",
        "        else:\n",
        "            answer = tree[question][1]\n",
        "    \n",
        "    # feature is categorical\n",
        "    else:\n",
        "        if str(example[feature_name]) == value:\n",
        "            answer = tree[question][0]\n",
        "        else:\n",
        "            answer = tree[question][1]\n",
        "\n",
        "    # base case\n",
        "    if not isinstance(answer, dict):\n",
        "        return answer\n",
        "    \n",
        "    # recursive part\n",
        "    else:\n",
        "        residual_tree = answer\n",
        "        return predict_example(example, residual_tree)\n",
        "\n",
        "    \n",
        "# 3.2 All examples of a dataframe\n",
        "def make_predictions(df, tree):\n",
        "    \n",
        "    if len(df) != 0:\n",
        "        predictions = df.apply(predict_example, args=(tree,), axis=1)\n",
        "    else:\n",
        "        # \"df.apply()\"\" with empty dataframe returns an empty dataframe,\n",
        "        # but \"predictions\" should be a series instead\n",
        "        predictions = pd.Series()\n",
        "        \n",
        "    return predictions\n",
        "\n",
        "\n",
        "# 3.3 Accuracy\n",
        "def calculate_accuracy(df, tree):\n",
        "    predictions = make_predictions(df, tree)\n",
        "    predictions_correct = predictions == df.label\n",
        "    accuracy = predictions_correct.mean()\n",
        "    \n",
        "    return accuracy"
      ],
      "metadata": {
        "id": "Xtd8Pvd1RFnQ"
      },
      "execution_count": null,
      "outputs": []
    },
    {
      "cell_type": "markdown",
      "source": [
        "### Helper funtion"
      ],
      "metadata": {
        "id": "wWxeNDLTwgzW"
      }
    },
    {
      "cell_type": "code",
      "source": [
        "# coding: utf-8\n",
        "\n",
        "import matplotlib.pyplot as plt\n",
        "import numpy as np\n",
        "import pandas as pd\n",
        "import random\n",
        "import seaborn as sns\n",
        "\n",
        "sns.set_style(\"darkgrid\")\n",
        "\n",
        "\n",
        "def train_test_split(df, test_size):\n",
        "    \n",
        "    if isinstance(test_size, float):\n",
        "        test_size = round(test_size * len(df))\n",
        "\n",
        "    indices = df.index.tolist()\n",
        "    test_indices = random.sample(population=indices, k=test_size)\n",
        "\n",
        "    test_df = df.loc[test_indices]\n",
        "    train_df = df.drop(test_indices)\n",
        "    \n",
        "    return train_df, test_df\n",
        "\n",
        "\n",
        "def generate_data(n, specific_outliers=[], n_random_outliers=None):\n",
        "    \n",
        "    # create data\n",
        "    data = np.random.random(size=(n, 2)) * 10\n",
        "    data = data.round(decimals=1)\n",
        "    df = pd.DataFrame(data, columns=[\"x\", \"y\"])\n",
        "    df[\"label\"] = df.x <= 5\n",
        "\n",
        "    # add specific outlier data points\n",
        "    for outlier_coordinates in specific_outliers:\n",
        "        df = df.append({\"x\": outlier_coordinates[0],\n",
        "                        \"y\": outlier_coordinates[1],\n",
        "                        \"label\": True}, \n",
        "                       ignore_index=True)\n",
        "\n",
        "    ## add random outlier data points\n",
        "    if n_random_outliers:\n",
        "        outlier_x_values =  (6 - 5) * np.random.random(size=n_random_outliers) + 5  # value between 5 and 6\n",
        "        outlier_y_values = np.random.random(size=n_random_outliers) * 10\n",
        "\n",
        "        df_outliers = pd.DataFrame({\"x\": outlier_x_values.round(decimals=2),\n",
        "                                    \"y\": outlier_y_values.round(decimals=2),\n",
        "                                    \"label\": [True] * n_random_outliers})\n",
        "\n",
        "        df = df.append(df_outliers, ignore_index=True)\n",
        "    \n",
        "    return df\n",
        "\n",
        "\n",
        "def plot_decision_boundaries(tree, x_min, x_max, y_min, y_max):\n",
        "    color_keys = {True: \"orange\", False: \"blue\"}\n",
        "    \n",
        "    # recursive part\n",
        "    if isinstance(tree, dict):\n",
        "        question = list(tree.keys())[0]\n",
        "        yes_answer, no_answer = tree[question]\n",
        "        feature, _, value = question.split()\n",
        "    \n",
        "        if feature == \"x\":\n",
        "            plot_decision_boundaries(yes_answer, x_min, float(value), y_min, y_max)\n",
        "            plot_decision_boundaries(no_answer, float(value), x_max, y_min, y_max)\n",
        "        else:\n",
        "            plot_decision_boundaries(yes_answer, x_min, x_max, y_min, float(value))\n",
        "            plot_decision_boundaries(no_answer, x_min, x_max, float(value), y_max)\n",
        "        \n",
        "    # \"tree\" is a leaf\n",
        "    else:\n",
        "        plt.fill_between(x=[x_min, x_max], y1=y_min, y2=y_max, alpha=0.2, color=color_keys[tree])\n",
        "    \n",
        "    return\n",
        "\n",
        "\n",
        "def create_plot(df, tree=None, title=None):\n",
        "    \n",
        "    sns.lmplot(data=df, x=\"x\", y=\"y\", hue=\"label\", \n",
        "               fit_reg=False, height=4, aspect=1.5, legend=False)\n",
        "    plt.title(title)\n",
        "    \n",
        "    if tree or tree == False: # root of the tree might just be a leave with \"False\"\n",
        "        x_min, x_max = round(df.x.min()), round(df.x.max())\n",
        "        y_min, y_max = round(df.y.min()), round(df.y.max())\n",
        "\n",
        "        plot_decision_boundaries(tree, x_min, x_max, y_min, y_max)\n",
        "    \n",
        "    return"
      ],
      "metadata": {
        "id": "-4byEJZ1Rqq6"
      },
      "execution_count": null,
      "outputs": []
    },
    {
      "cell_type": "markdown",
      "source": [
        "## Iris Tree"
      ],
      "metadata": {
        "id": "-FRwy386Tqqs"
      }
    },
    {
      "cell_type": "markdown",
      "metadata": {
        "id": "zDW_nSZ0TJsV"
      },
      "source": [
        "The goal of this notebook is to code a decision tree classifier that can be used with the following API:\n",
        "\n",
        "```Python\n",
        "df = pd.read_csv(\"data.csv\")\n",
        "\n",
        "train_df, test_df = train_test_split(df, test_size=0.2)\n",
        "tree = decision_tree_algorithm(train_df)\n",
        "accuracy = calculate_accuracy(test_df, tree)\n",
        "```\n",
        "\n",
        "The algorithm that is going to be implemented looks like this:\n",
        "\n",
        "<img src=\"https://raw.githubusercontent.com/SebastianMantey/Decision-Tree-from-Scratch/master/images/decision_tree_algorithm_1.png\" width=\"350\">"
      ]
    },
    {
      "cell_type": "markdown",
      "metadata": {
        "id": "IRMBgss8TJsX"
      },
      "source": [
        "### Import Statements"
      ]
    },
    {
      "cell_type": "code",
      "execution_count": null,
      "metadata": {
        "id": "uC_mW1xsTJsY"
      },
      "outputs": [],
      "source": [
        "import numpy as np\n",
        "import pandas as pd\n",
        "\n",
        "import matplotlib.pyplot as plt\n",
        "import seaborn as sns\n",
        "\n",
        "import random\n",
        "from pprint import pprint"
      ]
    },
    {
      "cell_type": "code",
      "execution_count": null,
      "metadata": {
        "id": "hs9JQcyBTJsZ"
      },
      "outputs": [],
      "source": [
        "%matplotlib inline\n",
        "sns.set_style(\"darkgrid\")"
      ]
    },
    {
      "cell_type": "markdown",
      "metadata": {
        "id": "NIqgpxOUTJsZ"
      },
      "source": [
        "### Load and Prepare Data"
      ]
    },
    {
      "cell_type": "markdown",
      "metadata": {
        "id": "gfqMnNLhTJsa"
      },
      "source": [
        "#### Format of the data\n",
        "- the last column of the data frame must contain the label and it must also be called \"label\"\n",
        "- there should be no missing values in the data frame"
      ]
    },
    {
      "cell_type": "code",
      "execution_count": null,
      "metadata": {
        "id": "UvYFY_BfTJsa"
      },
      "outputs": [],
      "source": [
        "# df = pd.read_csv(\"../data/Iris.csv\")\n",
        "data_names = ['sepal_length', 'sepal_width', 'petal_length', 'petal_width', 'label']\n",
        "df = sns.load_dataset('iris')\n",
        "\n",
        "# rename \n",
        "df.columns = data_names\n",
        "\n",
        "# df = df.drop(\"id\", axis=1)\n",
        "# df = df.rename(columns={\"species\": \"label\"})"
      ]
    },
    {
      "cell_type": "code",
      "execution_count": null,
      "metadata": {
        "id": "gz2QzQeeTJsa",
        "outputId": "25e0d9dc-9717-4aea-ab45-294ae3debac2",
        "colab": {
          "base_uri": "https://localhost:8080/",
          "height": 206
        }
      },
      "outputs": [
        {
          "output_type": "execute_result",
          "data": {
            "text/plain": [
              "   sepal_length  sepal_width  petal_length  petal_width   label\n",
              "0           5.1          3.5           1.4          0.2  setosa\n",
              "1           4.9          3.0           1.4          0.2  setosa\n",
              "2           4.7          3.2           1.3          0.2  setosa\n",
              "3           4.6          3.1           1.5          0.2  setosa\n",
              "4           5.0          3.6           1.4          0.2  setosa"
            ],
            "text/html": [
              "\n",
              "  <div id=\"df-de2a0f8a-1880-45aa-a902-a6cdaa8e4d24\">\n",
              "    <div class=\"colab-df-container\">\n",
              "      <div>\n",
              "<style scoped>\n",
              "    .dataframe tbody tr th:only-of-type {\n",
              "        vertical-align: middle;\n",
              "    }\n",
              "\n",
              "    .dataframe tbody tr th {\n",
              "        vertical-align: top;\n",
              "    }\n",
              "\n",
              "    .dataframe thead th {\n",
              "        text-align: right;\n",
              "    }\n",
              "</style>\n",
              "<table border=\"1\" class=\"dataframe\">\n",
              "  <thead>\n",
              "    <tr style=\"text-align: right;\">\n",
              "      <th></th>\n",
              "      <th>sepal_length</th>\n",
              "      <th>sepal_width</th>\n",
              "      <th>petal_length</th>\n",
              "      <th>petal_width</th>\n",
              "      <th>label</th>\n",
              "    </tr>\n",
              "  </thead>\n",
              "  <tbody>\n",
              "    <tr>\n",
              "      <th>0</th>\n",
              "      <td>5.1</td>\n",
              "      <td>3.5</td>\n",
              "      <td>1.4</td>\n",
              "      <td>0.2</td>\n",
              "      <td>setosa</td>\n",
              "    </tr>\n",
              "    <tr>\n",
              "      <th>1</th>\n",
              "      <td>4.9</td>\n",
              "      <td>3.0</td>\n",
              "      <td>1.4</td>\n",
              "      <td>0.2</td>\n",
              "      <td>setosa</td>\n",
              "    </tr>\n",
              "    <tr>\n",
              "      <th>2</th>\n",
              "      <td>4.7</td>\n",
              "      <td>3.2</td>\n",
              "      <td>1.3</td>\n",
              "      <td>0.2</td>\n",
              "      <td>setosa</td>\n",
              "    </tr>\n",
              "    <tr>\n",
              "      <th>3</th>\n",
              "      <td>4.6</td>\n",
              "      <td>3.1</td>\n",
              "      <td>1.5</td>\n",
              "      <td>0.2</td>\n",
              "      <td>setosa</td>\n",
              "    </tr>\n",
              "    <tr>\n",
              "      <th>4</th>\n",
              "      <td>5.0</td>\n",
              "      <td>3.6</td>\n",
              "      <td>1.4</td>\n",
              "      <td>0.2</td>\n",
              "      <td>setosa</td>\n",
              "    </tr>\n",
              "  </tbody>\n",
              "</table>\n",
              "</div>\n",
              "      <button class=\"colab-df-convert\" onclick=\"convertToInteractive('df-de2a0f8a-1880-45aa-a902-a6cdaa8e4d24')\"\n",
              "              title=\"Convert this dataframe to an interactive table.\"\n",
              "              style=\"display:none;\">\n",
              "        \n",
              "  <svg xmlns=\"http://www.w3.org/2000/svg\" height=\"24px\"viewBox=\"0 0 24 24\"\n",
              "       width=\"24px\">\n",
              "    <path d=\"M0 0h24v24H0V0z\" fill=\"none\"/>\n",
              "    <path d=\"M18.56 5.44l.94 2.06.94-2.06 2.06-.94-2.06-.94-.94-2.06-.94 2.06-2.06.94zm-11 1L8.5 8.5l.94-2.06 2.06-.94-2.06-.94L8.5 2.5l-.94 2.06-2.06.94zm10 10l.94 2.06.94-2.06 2.06-.94-2.06-.94-.94-2.06-.94 2.06-2.06.94z\"/><path d=\"M17.41 7.96l-1.37-1.37c-.4-.4-.92-.59-1.43-.59-.52 0-1.04.2-1.43.59L10.3 9.45l-7.72 7.72c-.78.78-.78 2.05 0 2.83L4 21.41c.39.39.9.59 1.41.59.51 0 1.02-.2 1.41-.59l7.78-7.78 2.81-2.81c.8-.78.8-2.07 0-2.86zM5.41 20L4 18.59l7.72-7.72 1.47 1.35L5.41 20z\"/>\n",
              "  </svg>\n",
              "      </button>\n",
              "      \n",
              "  <style>\n",
              "    .colab-df-container {\n",
              "      display:flex;\n",
              "      flex-wrap:wrap;\n",
              "      gap: 12px;\n",
              "    }\n",
              "\n",
              "    .colab-df-convert {\n",
              "      background-color: #E8F0FE;\n",
              "      border: none;\n",
              "      border-radius: 50%;\n",
              "      cursor: pointer;\n",
              "      display: none;\n",
              "      fill: #1967D2;\n",
              "      height: 32px;\n",
              "      padding: 0 0 0 0;\n",
              "      width: 32px;\n",
              "    }\n",
              "\n",
              "    .colab-df-convert:hover {\n",
              "      background-color: #E2EBFA;\n",
              "      box-shadow: 0px 1px 2px rgba(60, 64, 67, 0.3), 0px 1px 3px 1px rgba(60, 64, 67, 0.15);\n",
              "      fill: #174EA6;\n",
              "    }\n",
              "\n",
              "    [theme=dark] .colab-df-convert {\n",
              "      background-color: #3B4455;\n",
              "      fill: #D2E3FC;\n",
              "    }\n",
              "\n",
              "    [theme=dark] .colab-df-convert:hover {\n",
              "      background-color: #434B5C;\n",
              "      box-shadow: 0px 1px 3px 1px rgba(0, 0, 0, 0.15);\n",
              "      filter: drop-shadow(0px 1px 2px rgba(0, 0, 0, 0.3));\n",
              "      fill: #FFFFFF;\n",
              "    }\n",
              "  </style>\n",
              "\n",
              "      <script>\n",
              "        const buttonEl =\n",
              "          document.querySelector('#df-de2a0f8a-1880-45aa-a902-a6cdaa8e4d24 button.colab-df-convert');\n",
              "        buttonEl.style.display =\n",
              "          google.colab.kernel.accessAllowed ? 'block' : 'none';\n",
              "\n",
              "        async function convertToInteractive(key) {\n",
              "          const element = document.querySelector('#df-de2a0f8a-1880-45aa-a902-a6cdaa8e4d24');\n",
              "          const dataTable =\n",
              "            await google.colab.kernel.invokeFunction('convertToInteractive',\n",
              "                                                     [key], {});\n",
              "          if (!dataTable) return;\n",
              "\n",
              "          const docLinkHtml = 'Like what you see? Visit the ' +\n",
              "            '<a target=\"_blank\" href=https://colab.research.google.com/notebooks/data_table.ipynb>data table notebook</a>'\n",
              "            + ' to learn more about interactive tables.';\n",
              "          element.innerHTML = '';\n",
              "          dataTable['output_type'] = 'display_data';\n",
              "          await google.colab.output.renderOutput(dataTable, element);\n",
              "          const docLink = document.createElement('div');\n",
              "          docLink.innerHTML = docLinkHtml;\n",
              "          element.appendChild(docLink);\n",
              "        }\n",
              "      </script>\n",
              "    </div>\n",
              "  </div>\n",
              "  "
            ]
          },
          "metadata": {},
          "execution_count": 226
        }
      ],
      "source": [
        "df.head()"
      ]
    },
    {
      "cell_type": "markdown",
      "metadata": {
        "id": "B0Lf1urJTJsb"
      },
      "source": [
        "### Train-Test-Split"
      ]
    },
    {
      "cell_type": "code",
      "execution_count": null,
      "metadata": {
        "id": "xCq-jJvkTJsc"
      },
      "outputs": [],
      "source": [
        "def train_test_split(df, test_size):\n",
        "    \n",
        "    if isinstance(test_size, float):\n",
        "        test_size = round(test_size * len(df))\n",
        "\n",
        "    indices = df.index.tolist()\n",
        "    test_indices = random.sample(population=indices, k=test_size)\n",
        "\n",
        "    test_df = df.loc[test_indices]\n",
        "    train_df = df.drop(test_indices)\n",
        "    \n",
        "    return train_df, test_df"
      ]
    },
    {
      "cell_type": "code",
      "execution_count": null,
      "metadata": {
        "id": "TtvtdUlaTJsc"
      },
      "outputs": [],
      "source": [
        "random.seed(0)\n",
        "train_df, test_df = train_test_split(df, test_size=20)"
      ]
    },
    {
      "cell_type": "markdown",
      "metadata": {
        "id": "WxsstgCiTJsc"
      },
      "source": [
        "### Helper Functions\n",
        "\n",
        "The helper functions operate on a NumPy 2d-array. Therefore, let’s create a variable called “data” to see what we will be working with."
      ]
    },
    {
      "cell_type": "code",
      "execution_count": null,
      "metadata": {
        "id": "IxrRjXU4TJsd",
        "outputId": "f36b5b6b-f9f4-4316-d469-361d4062cda8",
        "colab": {
          "base_uri": "https://localhost:8080/"
        }
      },
      "outputs": [
        {
          "output_type": "execute_result",
          "data": {
            "text/plain": [
              "array([[5.1, 3.5, 1.4, 0.2, 'setosa'],\n",
              "       [4.9, 3.0, 1.4, 0.2, 'setosa'],\n",
              "       [4.7, 3.2, 1.3, 0.2, 'setosa'],\n",
              "       [4.6, 3.1, 1.5, 0.2, 'setosa'],\n",
              "       [5.0, 3.6, 1.4, 0.2, 'setosa']], dtype=object)"
            ]
          },
          "metadata": {},
          "execution_count": 229
        }
      ],
      "source": [
        "data = train_df.values\n",
        "data[:5]"
      ]
    },
    {
      "cell_type": "markdown",
      "metadata": {
        "id": "897jeD_STJsd"
      },
      "source": [
        "### Data pure?"
      ]
    },
    {
      "cell_type": "code",
      "execution_count": null,
      "metadata": {
        "id": "R4sKX8BITJsd"
      },
      "outputs": [],
      "source": [
        "def check_purity(data):\n",
        "    \n",
        "    label_column = data[:, -1]\n",
        "    unique_classes = np.unique(label_column)\n",
        "\n",
        "    if len(unique_classes) == 1:\n",
        "        return True\n",
        "    else:\n",
        "        return False"
      ]
    },
    {
      "cell_type": "markdown",
      "metadata": {
        "id": "2NJ42634TJsd"
      },
      "source": [
        "#### Classify"
      ]
    },
    {
      "cell_type": "code",
      "execution_count": null,
      "metadata": {
        "id": "7bJKWDQPTJsd"
      },
      "outputs": [],
      "source": [
        "def classify_data(data):\n",
        "    \n",
        "    label_column = data[:, -1]\n",
        "    unique_classes, counts_unique_classes = np.unique(label_column, return_counts=True)\n",
        "\n",
        "    index = counts_unique_classes.argmax()\n",
        "    classification = unique_classes[index]\n",
        "    \n",
        "    return classification"
      ]
    },
    {
      "cell_type": "markdown",
      "metadata": {
        "id": "f3ygljhTTJsd"
      },
      "source": [
        "#### Potential splits?"
      ]
    },
    {
      "cell_type": "code",
      "execution_count": null,
      "metadata": {
        "id": "87l8EI4mTJse"
      },
      "outputs": [],
      "source": [
        "def get_potential_splits(data):\n",
        "    \n",
        "    potential_splits = {}\n",
        "    _, n_columns = data.shape\n",
        "    for column_index in range(n_columns - 1):        # excluding the last column which is the label\n",
        "        potential_splits[column_index] = []\n",
        "        values = data[:, column_index]\n",
        "        unique_values = np.unique(values)\n",
        "\n",
        "        for index in range(len(unique_values)):\n",
        "            if index != 0:\n",
        "                current_value = unique_values[index]\n",
        "                previous_value = unique_values[index - 1]\n",
        "                potential_split = (current_value + previous_value) / 2\n",
        "                \n",
        "                potential_splits[column_index].append(potential_split)\n",
        "    \n",
        "    return potential_splits"
      ]
    },
    {
      "cell_type": "markdown",
      "metadata": {
        "id": "KCsy3UlmTJse"
      },
      "source": [
        "#### Split Data"
      ]
    },
    {
      "cell_type": "code",
      "execution_count": null,
      "metadata": {
        "id": "L010JusATJse"
      },
      "outputs": [],
      "source": [
        "def split_data(data, split_column, split_value):\n",
        "    \n",
        "    split_column_values = data[:, split_column]\n",
        "\n",
        "    data_below = data[split_column_values <= split_value]\n",
        "    data_above = data[split_column_values >  split_value]\n",
        "    \n",
        "    return data_below, data_above"
      ]
    },
    {
      "cell_type": "markdown",
      "metadata": {
        "id": "bYH0exVzTJse"
      },
      "source": [
        "#### Lowest Overall Entropy?"
      ]
    },
    {
      "cell_type": "code",
      "execution_count": null,
      "metadata": {
        "id": "jyHpw3NKTJse"
      },
      "outputs": [],
      "source": [
        "def calculate_entropy(data):\n",
        "    \n",
        "    label_column = data[:, -1]\n",
        "    _, counts = np.unique(label_column, return_counts=True)\n",
        "\n",
        "    probabilities = counts / counts.sum()\n",
        "    entropy = sum(probabilities * -np.log2(probabilities))\n",
        "     \n",
        "    return entropy"
      ]
    },
    {
      "cell_type": "code",
      "execution_count": null,
      "metadata": {
        "id": "EQxwdOeHTJse"
      },
      "outputs": [],
      "source": [
        "def calculate_overall_entropy(data_below, data_above):\n",
        "    \n",
        "    n = len(data_below) + len(data_above)\n",
        "    p_data_below = len(data_below) / n\n",
        "    p_data_above = len(data_above) / n\n",
        "\n",
        "    overall_entropy =  (p_data_below * calculate_entropy(data_below) \n",
        "                      + p_data_above * calculate_entropy(data_above))\n",
        "    \n",
        "    return overall_entropy"
      ]
    },
    {
      "cell_type": "code",
      "execution_count": null,
      "metadata": {
        "id": "7aigOw7pTJsf"
      },
      "outputs": [],
      "source": [
        "def determine_best_split(data, potential_splits):\n",
        "    \n",
        "    overall_entropy = 9999\n",
        "    for column_index in potential_splits:\n",
        "        for value in potential_splits[column_index]:\n",
        "            data_below, data_above = split_data(data, split_column=column_index, split_value=value)\n",
        "            current_overall_entropy = calculate_overall_entropy(data_below, data_above)\n",
        "\n",
        "            if current_overall_entropy <= overall_entropy:\n",
        "                overall_entropy = current_overall_entropy\n",
        "                best_split_column = column_index\n",
        "                best_split_value = value\n",
        "    \n",
        "    return best_split_column, best_split_value"
      ]
    },
    {
      "cell_type": "markdown",
      "metadata": {
        "id": "InnQWoA3TJsf"
      },
      "source": [
        "### Decision Tree Algorithm"
      ]
    },
    {
      "cell_type": "markdown",
      "metadata": {
        "id": "6dCiI05uTJsf"
      },
      "source": [
        "#### Representation of the Decision Tree"
      ]
    },
    {
      "cell_type": "code",
      "execution_count": null,
      "metadata": {
        "id": "EcfCceS5TJsf"
      },
      "outputs": [],
      "source": [
        "sub_tree = {\"question\": [\"yes_answer\", \n",
        "                         \"no_answer\"]}"
      ]
    },
    {
      "cell_type": "code",
      "execution_count": null,
      "metadata": {
        "id": "anQiPTaDTJsf"
      },
      "outputs": [],
      "source": [
        "example_tree = {\"petal_width <= 0.8\": [\"Iris-setosa\", \n",
        "                                      {\"petal_width <= 1.65\": [{\"petal_length <= 4.9\": [\"Iris-versicolor\", \n",
        "                                                                                        \"Iris-virginica\"]}, \n",
        "                                                                \"Iris-virginica\"]}]}"
      ]
    },
    {
      "cell_type": "markdown",
      "metadata": {
        "id": "EfmKpphSTJsf"
      },
      "source": [
        "#### Algorithm"
      ]
    },
    {
      "cell_type": "code",
      "execution_count": null,
      "metadata": {
        "id": "L42Rytk4TJsg"
      },
      "outputs": [],
      "source": [
        "def decision_tree_algorithm(df, counter=0, min_samples=2, max_depth=5):\n",
        "    \n",
        "    # data preparations\n",
        "    if counter == 0:\n",
        "        global COLUMN_HEADERS\n",
        "        COLUMN_HEADERS = df.columns\n",
        "        data = df.values\n",
        "    else:\n",
        "        data = df           \n",
        "    \n",
        "    \n",
        "    # base cases\n",
        "    if (check_purity(data)) or (len(data) < min_samples) or (counter == max_depth):\n",
        "        classification = classify_data(data)\n",
        "        \n",
        "        return classification\n",
        "\n",
        "    \n",
        "    # recursive part\n",
        "    else:    \n",
        "        counter += 1\n",
        "\n",
        "        # helper functions \n",
        "        potential_splits = get_potential_splits(data)\n",
        "        split_column, split_value = determine_best_split(data, potential_splits)\n",
        "        data_below, data_above = split_data(data, split_column, split_value)\n",
        "        \n",
        "        # instantiate sub-tree\n",
        "        feature_name = COLUMN_HEADERS[split_column]\n",
        "        question = \"{} <= {}\".format(feature_name, split_value)\n",
        "        sub_tree = {question: []}\n",
        "        \n",
        "        # find answers (recursion)\n",
        "        yes_answer = decision_tree_algorithm(data_below, counter, min_samples, max_depth)\n",
        "        no_answer = decision_tree_algorithm(data_above, counter, min_samples, max_depth)\n",
        "        \n",
        "        # If the answers are the same, then there is no point in asking the qestion.\n",
        "        # This could happen when the data is classified even though it is not pure\n",
        "        # yet (min_samples or max_depth base cases).\n",
        "        if yes_answer == no_answer:\n",
        "            sub_tree = yes_answer\n",
        "        else:\n",
        "            sub_tree[question].append(yes_answer)\n",
        "            sub_tree[question].append(no_answer)\n",
        "        \n",
        "        return sub_tree"
      ]
    },
    {
      "cell_type": "code",
      "execution_count": null,
      "metadata": {
        "id": "GsB805WdTJsg",
        "outputId": "b726b87e-d10d-44db-94f5-eb5e0c8466a8",
        "colab": {
          "base_uri": "https://localhost:8080/"
        }
      },
      "outputs": [
        {
          "output_type": "stream",
          "name": "stdout",
          "text": [
            "{'petal_width <= 0.8': ['setosa',\n",
            "                        {'petal_width <= 1.65': [{'petal_length <= 4.95': ['versicolor',\n",
            "                                                                           'virginica']},\n",
            "                                                 'virginica']}]}\n"
          ]
        }
      ],
      "source": [
        "tree = decision_tree_algorithm(train_df, max_depth=3)\n",
        "pprint(tree)"
      ]
    },
    {
      "cell_type": "markdown",
      "metadata": {
        "id": "gvXd8bkLTJsg"
      },
      "source": [
        "### Classification"
      ]
    },
    {
      "cell_type": "code",
      "execution_count": null,
      "metadata": {
        "id": "XRmCJxxrTJsh",
        "outputId": "1656d432-b027-4a09-a442-eccdeb58c6e6",
        "colab": {
          "base_uri": "https://localhost:8080/"
        }
      },
      "outputs": [
        {
          "output_type": "execute_result",
          "data": {
            "text/plain": [
              "{'question': ['yes_answer', 'no_answer']}"
            ]
          },
          "metadata": {},
          "execution_count": 241
        }
      ],
      "source": [
        "sub_tree"
      ]
    },
    {
      "cell_type": "code",
      "execution_count": null,
      "metadata": {
        "id": "QvAnGcELTJsh",
        "outputId": "75f48b5f-0ce2-4c7e-d6da-0415e2d1ff9e",
        "colab": {
          "base_uri": "https://localhost:8080/"
        }
      },
      "outputs": [
        {
          "output_type": "execute_result",
          "data": {
            "text/plain": [
              "sepal_length           5.1\n",
              "sepal_width            2.5\n",
              "petal_length           3.0\n",
              "petal_width            1.1\n",
              "label           versicolor\n",
              "Name: 98, dtype: object"
            ]
          },
          "metadata": {},
          "execution_count": 242
        }
      ],
      "source": [
        "example = test_df.iloc[0]\n",
        "example"
      ]
    },
    {
      "cell_type": "code",
      "execution_count": null,
      "metadata": {
        "id": "ruVuToyITJsh"
      },
      "outputs": [],
      "source": [
        "def classify_example(example, tree):\n",
        "    question = list(tree.keys())[0]\n",
        "    feature_name, comparison_operator, value = question.split()\n",
        "\n",
        "    # ask question\n",
        "    if example[feature_name] <= float(value):\n",
        "        answer = tree[question][0]\n",
        "    else:\n",
        "        answer = tree[question][1]\n",
        "\n",
        "    # base case\n",
        "    if not isinstance(answer, dict):\n",
        "        return answer\n",
        "    \n",
        "    # recursive part\n",
        "    else:\n",
        "        residual_tree = answer\n",
        "        return classify_example(example, residual_tree)"
      ]
    },
    {
      "cell_type": "code",
      "execution_count": null,
      "metadata": {
        "id": "fPRsrc8TTJsh",
        "outputId": "1c9fb808-2545-4509-ac23-5a8fa5dab0c9",
        "colab": {
          "base_uri": "https://localhost:8080/",
          "height": 35
        }
      },
      "outputs": [
        {
          "output_type": "execute_result",
          "data": {
            "text/plain": [
              "'versicolor'"
            ],
            "application/vnd.google.colaboratory.intrinsic+json": {
              "type": "string"
            }
          },
          "metadata": {},
          "execution_count": 244
        }
      ],
      "source": [
        "classify_example(example, tree)"
      ]
    },
    {
      "cell_type": "markdown",
      "metadata": {
        "id": "hEBxMt1tTJsi"
      },
      "source": [
        "### Calculate Accuracy"
      ]
    },
    {
      "cell_type": "code",
      "execution_count": null,
      "metadata": {
        "id": "TV7JCovdTJsi"
      },
      "outputs": [],
      "source": [
        "def calculate_accuracy(df, tree):\n",
        "\n",
        "    df[\"classification\"] = df.apply(classify_example, axis=1, args=(tree,))\n",
        "    df[\"classification_correct\"] = df[\"classification\"] == df[\"label\"]\n",
        "    \n",
        "    accuracy = df[\"classification_correct\"].mean()\n",
        "    \n",
        "    return accuracy"
      ]
    },
    {
      "cell_type": "code",
      "execution_count": null,
      "metadata": {
        "id": "-sr3Pb1GTJsi",
        "outputId": "f0f67e7d-9e69-493e-d686-316d3e9c3dd4",
        "colab": {
          "base_uri": "https://localhost:8080/"
        }
      },
      "outputs": [
        {
          "output_type": "execute_result",
          "data": {
            "text/plain": [
              "0.95"
            ]
          },
          "metadata": {},
          "execution_count": 246
        }
      ],
      "source": [
        "accuracy = calculate_accuracy(test_df, tree)\n",
        "accuracy"
      ]
    },
    {
      "cell_type": "code",
      "execution_count": null,
      "metadata": {
        "collapsed": true,
        "jupyter": {
          "outputs_hidden": true
        },
        "id": "mZgqmACwTJsi"
      },
      "outputs": [],
      "source": []
    },
    {
      "cell_type": "markdown",
      "source": [
        "#GA Genetic Algorithms"
      ],
      "metadata": {
        "id": "xSm49DzSxMTP"
      }
    },
    {
      "cell_type": "code",
      "source": [],
      "metadata": {
        "id": "OOtwthBFUqST"
      },
      "execution_count": null,
      "outputs": []
    },
    {
      "cell_type": "markdown",
      "source": [
        "## GA"
      ],
      "metadata": {
        "id": "KaytKbJCIbWN"
      }
    },
    {
      "cell_type": "code",
      "source": [
        "import numpy as np\n",
        "import matplotlib.pyplot as plt"
      ],
      "metadata": {
        "id": "jWQNoXWcId6l"
      },
      "execution_count": null,
      "outputs": []
    },
    {
      "cell_type": "code",
      "source": [
        "x = np.random.rand(100)\n",
        "noise = 0.5 * np.random.rand(100)\n",
        "y = 2*x ** 2 + 1 + noise  # [2, 0, 1]\n",
        "plt.plot(x, y, '.')"
      ],
      "metadata": {
        "colab": {
          "base_uri": "https://localhost:8080/"
        },
        "id": "2rhEkHVPIipN",
        "outputId": "c778f41c-9666-459b-9357-2b4b9561073d"
      },
      "execution_count": null,
      "outputs": [
        {
          "output_type": "execute_result",
          "data": {
            "text/plain": [
              "[<matplotlib.lines.Line2D at 0x7f259f916a30>]"
            ]
          },
          "metadata": {},
          "execution_count": 280
        },
        {
          "output_type": "display_data",
          "data": {
            "text/plain": [
              "<Figure size 432x288 with 1 Axes>"
            ],
            "image/png": "[encoded data removed]"
          },
          "metadata": {}
        }
      ]
    },
    {
      "cell_type": "code",
      "source": [
        "n_pop = 100\n",
        "pop = np.random.randn(n_pop, 3)\n",
        "pop"
      ],
      "metadata": {
        "id": "6VvloP25IyKD",
        "colab": {
          "base_uri": "https://localhost:8080/"
        },
        "outputId": "e1dab00d-4294-423b-cda2-3ccb83fbcf9b"
      },
      "execution_count": null,
      "outputs": [
        {
          "output_type": "execute_result",
          "data": {
            "text/plain": [
              "array([[-1.70834970e-01, -1.42912447e-01, -6.11646640e-01],\n",
              "       [ 4.47395819e-01, -5.12909721e-02,  7.20258399e-01],\n",
              "       [-6.34738047e-02,  2.13764033e-01, -1.56494997e+00],\n",
              "       [-5.03248857e-01, -6.11101227e-01, -7.62778324e-01],\n",
              "       [-6.05768548e-01,  1.32827816e+00, -2.39031388e-01],\n",
              "       [ 1.25046012e-01,  6.46386235e-02,  4.34995998e-01],\n",
              "       [-6.11905921e-02,  2.32136901e-01,  6.11349263e-01],\n",
              "       [ 1.67123499e+00,  8.43328447e-01,  1.76154619e-01],\n",
              "       [ 3.31778464e-01, -1.14577047e-01,  2.85548188e-01],\n",
              "       [-7.09273665e-01, -2.90553353e-01, -5.63392595e-01],\n",
              "       [ 3.60444446e-01,  1.25152026e+00, -4.75882204e-01],\n",
              "       [ 1.32789688e+00, -3.43046423e-01, -1.75450512e-02],\n",
              "       [-1.78085092e+00,  4.55068256e-01, -1.42106135e+00],\n",
              "       [-3.27746686e-01, -6.91943602e-01, -5.93954560e-01],\n",
              "       [-9.93352325e-01, -1.92427221e+00,  1.39109669e-02],\n",
              "       [-3.55099331e-01,  1.35678715e+00, -1.09446444e+00],\n",
              "       [-6.35857187e-01,  3.13173895e-01, -8.31202972e-01],\n",
              "       [ 2.04751870e+00,  5.59386312e-01,  1.53057299e+00],\n",
              "       [-1.81281200e-01,  4.37864159e-01,  6.59109829e-02],\n",
              "       [-1.20456516e-01,  6.43149343e-01,  3.88508280e-02],\n",
              "       [ 2.13575329e+00, -3.38488973e-02,  2.05916717e-01],\n",
              "       [-2.56590868e+00,  1.02128348e+00,  1.05530818e+00],\n",
              "       [-5.85662917e-01, -6.88696501e-01,  1.61453239e+00],\n",
              "       [-2.28887489e+00, -1.15291773e+00, -4.29608924e-01],\n",
              "       [ 1.02006603e+00,  2.67869172e-03,  5.34095756e-01],\n",
              "       [ 1.41963853e+00,  5.69859000e-01,  3.20869933e-01],\n",
              "       [-6.88648535e-01,  1.96329328e-01,  1.57866258e+00],\n",
              "       [ 3.02666507e-01,  7.95894284e-01,  6.45495610e-03],\n",
              "       [-2.37950054e+00, -7.02808757e-02, -5.70572516e-01],\n",
              "       [-5.30084795e-01, -4.78380720e-01,  4.76671089e-01],\n",
              "       [-1.14728040e+00, -7.37068851e-01, -1.49192003e+00],\n",
              "       [-1.17627793e-01,  5.74642208e-01,  2.31415097e+00],\n",
              "       [ 1.87950972e+00,  3.24464455e-01,  4.54528666e-01],\n",
              "       [-8.27287629e-01,  1.02316345e+00,  8.64238824e-01],\n",
              "       [-1.20008231e-01, -9.89283600e-01, -2.20146759e+00],\n",
              "       [-9.50232838e-01,  8.59071122e-01,  2.50627503e-01],\n",
              "       [ 7.05189484e-02, -1.11549448e-01, -1.04953002e+00],\n",
              "       [-5.78144952e-01, -9.27722632e-01,  1.43315317e-01],\n",
              "       [-1.87641547e+00,  1.88989903e-01,  9.26355450e-01],\n",
              "       [ 1.94433563e+00,  1.98164407e-01,  3.44041881e-01],\n",
              "       [-7.47495996e-01,  1.34731881e+00,  4.96227814e-01],\n",
              "       [-8.67543883e-01,  3.25010979e+00, -7.16678132e-01],\n",
              "       [ 1.29852523e+00,  9.73665867e-01,  5.46114953e-01],\n",
              "       [-1.94613718e+00, -4.77582989e-01, -3.61859081e-01],\n",
              "       [-1.68438167e+00,  6.99438065e-01,  5.03761700e-01],\n",
              "       [ 1.06052224e+00, -2.27478880e-01,  6.37092335e-01],\n",
              "       [-5.20518603e-01,  5.72094153e-02, -8.51622255e-01],\n",
              "       [ 2.55965736e+00, -8.54757221e-01, -2.43326843e-01],\n",
              "       [-9.02279523e-02, -3.78380016e-01, -1.32902504e+00],\n",
              "       [-7.06959424e-01, -2.18193222e+00, -1.55059538e+00],\n",
              "       [-1.12174194e+00,  1.14172245e+00, -1.13688235e-01],\n",
              "       [ 9.03625097e-01, -4.60757450e-01, -1.06003128e+00],\n",
              "       [-7.63064943e-01, -1.26573966e+00,  6.05723715e-01],\n",
              "       [ 9.70413689e-01,  3.59217162e-01,  6.21037090e-01],\n",
              "       [-4.10454583e-01, -9.21719110e-01,  3.69791159e-01],\n",
              "       [ 4.67031765e-01,  5.62299265e-01, -3.16907180e-01],\n",
              "       [ 3.58569526e-01, -1.10776211e+00,  1.34491780e-01],\n",
              "       [-5.59668819e-01,  1.18504572e+00,  1.02860622e+00],\n",
              "       [-1.45346047e-01, -1.74983876e+00,  1.79479361e+00],\n",
              "       [-6.76777979e-01,  2.26631780e-01,  1.85972729e+00],\n",
              "       [ 1.38708944e+00,  1.18639514e+00, -1.51654636e+00],\n",
              "       [-6.68928786e-02,  6.58091170e-01, -8.06386156e-01],\n",
              "       [-1.23852526e+00,  5.40158368e-01,  8.09127793e-01],\n",
              "       [-4.62435170e-01,  9.02326204e-01,  1.31097500e+00],\n",
              "       [-1.16231742e+00, -1.62276531e+00,  2.20235303e-01],\n",
              "       [ 4.87804693e-01, -1.81465058e+00, -9.01985007e-02],\n",
              "       [-1.35364141e-01, -6.36836628e-01, -2.56959830e-02],\n",
              "       [-1.49229635e+00,  2.02619157e-01, -1.33414027e-02],\n",
              "       [-9.62546300e-01, -1.48310860e+00,  5.01802797e-01],\n",
              "       [ 1.08362477e+00, -1.49973281e+00, -1.60161320e+00],\n",
              "       [ 1.10185581e-01, -8.99064649e-01,  1.47806337e+00],\n",
              "       [-1.33540237e+00,  1.21392149e+00, -4.21420424e-01],\n",
              "       [ 5.12788760e-01, -1.01149256e+00,  1.31091803e+00],\n",
              "       [ 1.34646180e+00, -1.88338250e+00, -1.21407544e+00],\n",
              "       [-1.09983292e+00, -2.41506202e-01,  6.61956974e-01],\n",
              "       [-1.83690876e+00, -9.98289168e-01,  1.28362342e+00],\n",
              "       [-1.34443969e-01,  5.42760962e-01,  1.58860302e+00],\n",
              "       [-1.29295128e+00,  2.63323229e+00, -1.40416639e-01],\n",
              "       [ 5.18128298e-01, -1.09517386e-01, -6.25031872e-01],\n",
              "       [ 1.15426320e+00,  2.51547832e-02,  1.01572270e+00],\n",
              "       [ 4.05967732e-01, -1.53313687e+00,  6.43665999e-01],\n",
              "       [-4.49319124e-01,  7.79753059e-01,  1.64016754e+00],\n",
              "       [ 6.21036393e-01, -4.29073060e-01,  1.79083760e-01],\n",
              "       [ 1.58598144e+00,  4.25736866e-01,  8.79944219e-01],\n",
              "       [-3.44681433e-01,  7.04192612e-01,  1.17906388e+00],\n",
              "       [ 5.50021019e-01, -6.94076866e-01, -7.77767372e-01],\n",
              "       [ 6.96067375e-01, -2.63119793e-01,  7.32134458e-01],\n",
              "       [ 1.08169888e+00, -1.54629325e+00, -7.79960561e-01],\n",
              "       [-2.80980428e-01, -6.53378455e-01, -2.20732982e+00],\n",
              "       [ 3.26440678e-02, -5.70774436e-01,  6.76389021e-02],\n",
              "       [ 8.93511367e-01,  1.44210610e+00,  9.37353363e-01],\n",
              "       [ 1.02113129e+00, -1.30253427e+00,  6.90330017e-01],\n",
              "       [-8.33722438e-02, -4.76351918e-02,  8.17614876e-02],\n",
              "       [-2.72575690e+00, -7.06004000e-01, -1.53670192e-01],\n",
              "       [-1.19089172e+00, -2.17496363e+00, -1.00617846e-01],\n",
              "       [ 9.16425184e-01,  5.85051947e-01, -8.11846167e-01],\n",
              "       [-2.19669992e+00,  1.21637505e-01,  9.89873129e-02],\n",
              "       [ 5.49751502e-01, -1.26205808e+00,  4.07767599e-01],\n",
              "       [-3.85229467e-01, -1.45080467e+00,  1.42533471e+00],\n",
              "       [-1.35136863e+00,  9.03782249e-01,  2.80063342e-01]])"
            ]
          },
          "metadata": {},
          "execution_count": 281
        }
      ]
    },
    {
      "cell_type": "code",
      "source": [
        "def fitness(pop):\n",
        "  # lower is better\n",
        "  F = []\n",
        "  for p in pop:\n",
        "    z = np.polyval(p, x)\n",
        "    F.append(np.mean(np.abs(y - z)))\n",
        "  return np.array(F)"
      ],
      "metadata": {
        "id": "nlfMTvtxKAKy"
      },
      "execution_count": null,
      "outputs": []
    },
    {
      "cell_type": "code",
      "source": [
        "def mutate(p):\n",
        "  i = np.random.randint(len(p))\n",
        "  p[i] += np.random.randn() \n",
        "  return p"
      ],
      "metadata": {
        "id": "GIxEJjGQLtXZ"
      },
      "execution_count": null,
      "outputs": []
    },
    {
      "cell_type": "code",
      "source": [
        "for gen in range(100):\n",
        "  F = fitness(pop)\n",
        "  idx = F.argsort()\n",
        "  print(f'gen: {gen}: fitness = {F[idx[0]]}')\n",
        "  pop = pop[idx]\n",
        "  # selection (keep 50%) and reproduction (50%)\n",
        "  for i in range(50, n_pop):\n",
        "    pop[i] = mutate(pop[i])"
      ],
      "metadata": {
        "colab": {
          "base_uri": "https://localhost:8080/"
        },
        "id": "3f3u9phlLS8x",
        "outputId": "befe77c5-eac4-499a-dd08-78b051689c8c"
      },
      "execution_count": null,
      "outputs": [
        {
          "output_type": "stream",
          "name": "stdout",
          "text": [
            "gen: 0: fitness = 0.16362857935935665\n",
            "gen: 1: fitness = 0.16362857935935665\n",
            "gen: 2: fitness = 0.16362857935935665\n",
            "gen: 3: fitness = 0.16362857935935665\n",
            "gen: 4: fitness = 0.16362857935935665\n",
            "gen: 5: fitness = 0.16362857935935665\n",
            "gen: 6: fitness = 0.16362857935935665\n",
            "gen: 7: fitness = 0.16362857935935665\n",
            "gen: 8: fitness = 0.16362857935935665\n",
            "gen: 9: fitness = 0.16362857935935665\n",
            "gen: 10: fitness = 0.16362857935935665\n",
            "gen: 11: fitness = 0.16362857935935665\n",
            "gen: 12: fitness = 0.16362857935935665\n",
            "gen: 13: fitness = 0.16362857935935665\n",
            "gen: 14: fitness = 0.16362857935935665\n",
            "gen: 15: fitness = 0.16362857935935665\n",
            "gen: 16: fitness = 0.16362857935935665\n",
            "gen: 17: fitness = 0.16362857935935665\n",
            "gen: 18: fitness = 0.16362857935935665\n",
            "gen: 19: fitness = 0.16362857935935665\n",
            "gen: 20: fitness = 0.16362857935935665\n",
            "gen: 21: fitness = 0.16362857935935665\n",
            "gen: 22: fitness = 0.16362857935935665\n",
            "gen: 23: fitness = 0.16362857935935665\n",
            "gen: 24: fitness = 0.16362857935935665\n",
            "gen: 25: fitness = 0.16362857935935665\n",
            "gen: 26: fitness = 0.16362857935935665\n",
            "gen: 27: fitness = 0.16362857935935665\n",
            "gen: 28: fitness = 0.16362857935935665\n",
            "gen: 29: fitness = 0.16362857935935665\n",
            "gen: 30: fitness = 0.16362857935935665\n",
            "gen: 31: fitness = 0.16362857935935665\n",
            "gen: 32: fitness = 0.16362857935935665\n",
            "gen: 33: fitness = 0.16362857935935665\n",
            "gen: 34: fitness = 0.16362857935935665\n",
            "gen: 35: fitness = 0.16362857935935665\n",
            "gen: 36: fitness = 0.16362857935935665\n",
            "gen: 37: fitness = 0.16362857935935665\n",
            "gen: 38: fitness = 0.16362857935935665\n",
            "gen: 39: fitness = 0.16362857935935665\n",
            "gen: 40: fitness = 0.16362857935935665\n",
            "gen: 41: fitness = 0.16362857935935665\n",
            "gen: 42: fitness = 0.16362857935935665\n",
            "gen: 43: fitness = 0.16362857935935665\n",
            "gen: 44: fitness = 0.16362857935935665\n",
            "gen: 45: fitness = 0.16362857935935665\n",
            "gen: 46: fitness = 0.16362857935935665\n",
            "gen: 47: fitness = 0.16362857935935665\n",
            "gen: 48: fitness = 0.16362857935935665\n",
            "gen: 49: fitness = 0.16362857935935665\n",
            "gen: 50: fitness = 0.16362857935935665\n",
            "gen: 51: fitness = 0.16362857935935665\n",
            "gen: 52: fitness = 0.16362857935935665\n",
            "gen: 53: fitness = 0.16362857935935665\n",
            "gen: 54: fitness = 0.16362857935935665\n",
            "gen: 55: fitness = 0.16362857935935665\n",
            "gen: 56: fitness = 0.16362857935935665\n",
            "gen: 57: fitness = 0.16362857935935665\n",
            "gen: 58: fitness = 0.16362857935935665\n",
            "gen: 59: fitness = 0.16362857935935665\n",
            "gen: 60: fitness = 0.16362857935935665\n",
            "gen: 61: fitness = 0.16362857935935665\n",
            "gen: 62: fitness = 0.16362857935935665\n",
            "gen: 63: fitness = 0.16362857935935665\n",
            "gen: 64: fitness = 0.16362857935935665\n",
            "gen: 65: fitness = 0.16362857935935665\n",
            "gen: 66: fitness = 0.16362857935935665\n",
            "gen: 67: fitness = 0.16362857935935665\n",
            "gen: 68: fitness = 0.16362857935935665\n",
            "gen: 69: fitness = 0.16362857935935665\n",
            "gen: 70: fitness = 0.16362857935935665\n",
            "gen: 71: fitness = 0.16362857935935665\n",
            "gen: 72: fitness = 0.16362857935935665\n",
            "gen: 73: fitness = 0.16362857935935665\n",
            "gen: 74: fitness = 0.16362857935935665\n",
            "gen: 75: fitness = 0.16362857935935665\n",
            "gen: 76: fitness = 0.16362857935935665\n",
            "gen: 77: fitness = 0.16362857935935665\n",
            "gen: 78: fitness = 0.16362857935935665\n",
            "gen: 79: fitness = 0.16362857935935665\n",
            "gen: 80: fitness = 0.16362857935935665\n",
            "gen: 81: fitness = 0.16362857935935665\n",
            "gen: 82: fitness = 0.16362857935935665\n",
            "gen: 83: fitness = 0.16362857935935665\n",
            "gen: 84: fitness = 0.16362857935935665\n",
            "gen: 85: fitness = 0.16362857935935665\n",
            "gen: 86: fitness = 0.16183919614931314\n",
            "gen: 87: fitness = 0.16183919614931314\n",
            "gen: 88: fitness = 0.16183919614931314\n",
            "gen: 89: fitness = 0.16183919614931314\n",
            "gen: 90: fitness = 0.16183919614931314\n",
            "gen: 91: fitness = 0.16183919614931314\n",
            "gen: 92: fitness = 0.16183919614931314\n",
            "gen: 93: fitness = 0.16183919614931314\n",
            "gen: 94: fitness = 0.16183919614931314\n",
            "gen: 95: fitness = 0.16183919614931314\n",
            "gen: 96: fitness = 0.16183919614931314\n",
            "gen: 97: fitness = 0.16183919614931314\n",
            "gen: 98: fitness = 0.16183919614931314\n",
            "gen: 99: fitness = 0.16183919614931314\n"
          ]
        }
      ]
    },
    {
      "cell_type": "code",
      "source": [
        "pop[0]"
      ],
      "metadata": {
        "colab": {
          "base_uri": "https://localhost:8080/"
        },
        "id": "2C_2SwySNJvn",
        "outputId": "70c5c222-9081-4ff6-cf31-f52945cb33ba"
      },
      "execution_count": null,
      "outputs": [
        {
          "output_type": "execute_result",
          "data": {
            "text/plain": [
              "array([1.75086058, 0.55938631, 0.98543678])"
            ]
          },
          "metadata": {},
          "execution_count": 285
        }
      ]
    },
    {
      "cell_type": "code",
      "source": [
        "z = np.polyval(pop[0], x)\n",
        "plt.plot(x, y, '.')\n",
        "plt.plot(x, z, 'or')"
      ],
      "metadata": {
        "colab": {
          "base_uri": "https://localhost:8080/"
        },
        "id": "vhb8Lz13NKbv",
        "outputId": "c7a4e149-4d67-4fc3-bb68-a3c0a9fe0b53"
      },
      "execution_count": null,
      "outputs": [
        {
          "output_type": "execute_result",
          "data": {
            "text/plain": [
              "[<matplotlib.lines.Line2D at 0x7f259f8a3d00>]"
            ]
          },
          "metadata": {},
          "execution_count": 286
        },
        {
          "output_type": "display_data",
          "data": {
            "text/plain": [
              "<Figure size 432x288 with 1 Axes>"
            ],
            "image/png": "[encoded data removed]"
          },
          "metadata": {}
        }
      ]
    },
    {
      "cell_type": "markdown",
      "source": [
        "## TSP"
      ],
      "metadata": {
        "id": "IFJX5Z1RP9JQ"
      }
    },
    {
      "cell_type": "code",
      "source": [
        "n_cities = 30\n",
        "cities = np.random.rand(n_cities, 2)\n",
        "plt.plot(cities[:, 0], cities[:, 1], '.')"
      ],
      "metadata": {
        "colab": {
          "base_uri": "https://localhost:8080/"
        },
        "id": "rivK4XQcNZC-",
        "outputId": "8422953a-e9ac-4eff-c2fd-ade8d212746b"
      },
      "execution_count": null,
      "outputs": [
        {
          "output_type": "execute_result",
          "data": {
            "text/plain": [
              "[<matplotlib.lines.Line2D at 0x7f259fa19d90>]"
            ]
          },
          "metadata": {},
          "execution_count": 287
        },
        {
          "output_type": "display_data",
          "data": {
            "text/plain": [
              "<Figure size 432x288 with 1 Axes>"
            ],
            "image/png": "[encoded data removed]"
          },
          "metadata": {}
        }
      ]
    },
    {
      "cell_type": "code",
      "source": [
        "n_pop = 100\n",
        "pop = []\n",
        "for i in range(n_pop):\n",
        "   pop.append(np.random.permutation(n_cities))\n",
        "pop = np.array(pop)"
      ],
      "metadata": {
        "id": "nOWHg4yqQL5-"
      },
      "execution_count": null,
      "outputs": []
    },
    {
      "cell_type": "code",
      "source": [
        "pop"
      ],
      "metadata": {
        "colab": {
          "base_uri": "https://localhost:8080/"
        },
        "id": "wAtWJ5NTQ26W",
        "outputId": "f9975dda-d90e-48ba-81ab-4231ac566f62"
      },
      "execution_count": null,
      "outputs": [
        {
          "output_type": "execute_result",
          "data": {
            "text/plain": [
              "array([[ 4, 20, 17, ...,  8, 19, 27],\n",
              "       [19, 21, 28, ..., 15,  0, 22],\n",
              "       [23, 19, 14, ..., 18, 27, 21],\n",
              "       ...,\n",
              "       [11, 18,  1, ...,  5, 27,  2],\n",
              "       [20, 18, 19, ..., 25,  2,  9],\n",
              "       [19, 28, 21, ..., 22, 12, 23]])"
            ]
          },
          "metadata": {},
          "execution_count": 289
        }
      ]
    },
    {
      "cell_type": "code",
      "source": [
        "def fitness(pop):\n",
        "  F = []\n",
        "  for p in pop:\n",
        "    s = 0\n",
        "    for i in range(len(p)):\n",
        "      j = i + 1 if i + 1 < len(p) else 0\n",
        "      s += np.sqrt(np.sum((cities[p][i] - cities[p][j]) ** 2)) \n",
        "    F.append(s)\n",
        "  return np.array(F)"
      ],
      "metadata": {
        "id": "7ui5lmSYQse1"
      },
      "execution_count": null,
      "outputs": []
    },
    {
      "cell_type": "code",
      "source": [
        "def mutate(p):\n",
        "  i, j = np.random.permutation(len(p))[:2]\n",
        "  p[[i, j]] = p[[j, i]]\n",
        "  return p"
      ],
      "metadata": {
        "id": "zh8bjt7LqAcU"
      },
      "execution_count": null,
      "outputs": []
    },
    {
      "cell_type": "code",
      "source": [
        "for gen in range(100):\n",
        "  F = fitness(pop)\n",
        "  idx = F.argsort()\n",
        "  pop = pop[idx]\n",
        "  print(f'gen: {gen}, fitness = {F[idx[0]]}')\n",
        "  for p in pop[n_pop//2:]:\n",
        "    # TODO crossover\n",
        "    p = mutate(p)"
      ],
      "metadata": {
        "colab": {
          "base_uri": "https://localhost:8080/"
        },
        "id": "BqgXd3M3Ui49",
        "outputId": "8511ea67-0613-4462-b7bb-34d83deeba83"
      },
      "execution_count": null,
      "outputs": [
        {
          "output_type": "stream",
          "name": "stdout",
          "text": [
            "gen: 0, fitness = 12.674218957541772\n",
            "gen: 1, fitness = 12.674218957541772\n",
            "gen: 2, fitness = 12.674218957541772\n",
            "gen: 3, fitness = 12.674218957541772\n",
            "gen: 4, fitness = 12.674218957541772\n",
            "gen: 5, fitness = 12.674218957541772\n",
            "gen: 6, fitness = 12.674218957541772\n",
            "gen: 7, fitness = 12.674218957541772\n",
            "gen: 8, fitness = 12.674218957541772\n",
            "gen: 9, fitness = 12.674218957541772\n",
            "gen: 10, fitness = 12.674218957541772\n",
            "gen: 11, fitness = 12.674218957541772\n",
            "gen: 12, fitness = 12.674218957541772\n",
            "gen: 13, fitness = 12.674218957541772\n",
            "gen: 14, fitness = 12.674218957541772\n",
            "gen: 15, fitness = 12.674218957541772\n",
            "gen: 16, fitness = 12.674218957541772\n",
            "gen: 17, fitness = 12.674218957541772\n",
            "gen: 18, fitness = 12.674218957541772\n",
            "gen: 19, fitness = 12.674218957541772\n",
            "gen: 20, fitness = 12.674218957541772\n",
            "gen: 21, fitness = 12.674218957541772\n",
            "gen: 22, fitness = 12.674218957541772\n",
            "gen: 23, fitness = 12.674218957541772\n",
            "gen: 24, fitness = 12.674218957541772\n",
            "gen: 25, fitness = 12.558693987187\n",
            "gen: 26, fitness = 12.558693987187\n",
            "gen: 27, fitness = 12.558693987187\n",
            "gen: 28, fitness = 12.558693987187\n",
            "gen: 29, fitness = 12.558693987187\n",
            "gen: 30, fitness = 12.558693987187\n",
            "gen: 31, fitness = 12.33066691904815\n",
            "gen: 32, fitness = 12.33066691904815\n",
            "gen: 33, fitness = 12.33066691904815\n",
            "gen: 34, fitness = 12.33066691904815\n",
            "gen: 35, fitness = 12.33066691904815\n",
            "gen: 36, fitness = 12.33066691904815\n",
            "gen: 37, fitness = 12.33066691904815\n",
            "gen: 38, fitness = 12.33066691904815\n",
            "gen: 39, fitness = 12.33066691904815\n",
            "gen: 40, fitness = 12.33066691904815\n",
            "gen: 41, fitness = 12.33066691904815\n",
            "gen: 42, fitness = 12.093832604575633\n",
            "gen: 43, fitness = 12.093832604575633\n",
            "gen: 44, fitness = 12.093832604575633\n",
            "gen: 45, fitness = 12.093832604575633\n",
            "gen: 46, fitness = 12.093832604575633\n",
            "gen: 47, fitness = 12.093832604575633\n",
            "gen: 48, fitness = 12.093832604575633\n",
            "gen: 49, fitness = 12.093832604575633\n",
            "gen: 50, fitness = 12.093832604575633\n",
            "gen: 51, fitness = 12.093832604575633\n",
            "gen: 52, fitness = 12.093832604575633\n",
            "gen: 53, fitness = 12.093832604575633\n",
            "gen: 54, fitness = 12.093832604575633\n",
            "gen: 55, fitness = 12.093832604575633\n",
            "gen: 56, fitness = 12.093832604575633\n",
            "gen: 57, fitness = 12.093832604575633\n",
            "gen: 58, fitness = 12.093832604575633\n",
            "gen: 59, fitness = 12.093832604575633\n",
            "gen: 60, fitness = 12.093832604575633\n",
            "gen: 61, fitness = 12.093832604575633\n",
            "gen: 62, fitness = 12.093832604575633\n",
            "gen: 63, fitness = 12.093832604575633\n",
            "gen: 64, fitness = 12.093832604575633\n",
            "gen: 65, fitness = 12.093832604575633\n",
            "gen: 66, fitness = 12.093832604575633\n",
            "gen: 67, fitness = 12.093832604575633\n",
            "gen: 68, fitness = 12.093832604575633\n",
            "gen: 69, fitness = 12.093832604575633\n",
            "gen: 70, fitness = 12.093832604575633\n",
            "gen: 71, fitness = 12.093832604575633\n",
            "gen: 72, fitness = 12.093832604575633\n",
            "gen: 73, fitness = 12.093832604575633\n",
            "gen: 74, fitness = 12.093832604575633\n",
            "gen: 75, fitness = 12.093832604575633\n",
            "gen: 76, fitness = 12.093832604575633\n",
            "gen: 77, fitness = 12.093832604575633\n",
            "gen: 78, fitness = 12.093832604575633\n",
            "gen: 79, fitness = 12.093832604575633\n",
            "gen: 80, fitness = 12.093832604575633\n",
            "gen: 81, fitness = 12.093832604575633\n",
            "gen: 82, fitness = 12.093832604575633\n",
            "gen: 83, fitness = 12.093832604575633\n",
            "gen: 84, fitness = 12.093832604575633\n",
            "gen: 85, fitness = 12.093832604575633\n",
            "gen: 86, fitness = 12.093832604575633\n",
            "gen: 87, fitness = 12.093832604575633\n",
            "gen: 88, fitness = 12.093832604575633\n",
            "gen: 89, fitness = 12.093832604575633\n",
            "gen: 90, fitness = 12.093832604575633\n",
            "gen: 91, fitness = 12.093832604575633\n",
            "gen: 92, fitness = 12.093832604575633\n",
            "gen: 93, fitness = 12.093832604575633\n",
            "gen: 94, fitness = 12.093832604575633\n",
            "gen: 95, fitness = 12.093832604575633\n",
            "gen: 96, fitness = 12.093832604575633\n",
            "gen: 97, fitness = 12.093832604575633\n",
            "gen: 98, fitness = 12.093832604575633\n",
            "gen: 99, fitness = 12.093832604575633\n"
          ]
        }
      ]
    },
    {
      "cell_type": "code",
      "source": [
        "plt.plot(cities[pop[0]][:, 0], cities[pop[0]][:, 1])"
      ],
      "metadata": {
        "colab": {
          "base_uri": "https://localhost:8080/"
        },
        "id": "6H5clNNnqwLJ",
        "outputId": "5ce5d685-f9fc-4876-c7a7-1edac2124799"
      },
      "execution_count": null,
      "outputs": [
        {
          "output_type": "execute_result",
          "data": {
            "text/plain": [
              "[<matplotlib.lines.Line2D at 0x7f259fbbf5b0>]"
            ]
          },
          "metadata": {},
          "execution_count": 293
        },
        {
          "output_type": "display_data",
          "data": {
            "text/plain": [
              "<Figure size 432x288 with 1 Axes>"
            ],
            "image/png": "[encoded data removed]"
          },
          "metadata": {}
        }
      ]
    },
    {
      "cell_type": "markdown",
      "source": [
        "HW"
      ],
      "metadata": {
        "id": "vQXBIzE1qUlq"
      }
    },
    {
      "cell_type": "code",
      "source": [
        "import pandas as pd"
      ],
      "metadata": {
        "id": "Ur5Ywnx8iRj-"
      },
      "execution_count": null,
      "outputs": []
    },
    {
      "cell_type": "code",
      "source": [
        "# df = pd.read_csv('HR.csv')\n",
        "url='https://drive.google.com/file/d/1uzkJ-dwvb4MrgqOeDE11nqRFGAdwfz9F/view?usp=share_link'\n",
        "file_id=url.split('/')[-2]\n",
        "print(file_id)\n",
        "dwn_url='https://drive.google.com/uc?id=' + file_id\n",
        "df = pd.read_csv(dwn_url)"
      ],
      "metadata": {
        "colab": {
          "base_uri": "https://localhost:8080/"
        },
        "id": "7BBsaP7noOpQ",
        "outputId": "0465c094-c4fe-461e-ff14-7f33c5111f1f"
      },
      "execution_count": null,
      "outputs": [
        {
          "output_type": "stream",
          "name": "stdout",
          "text": [
            "1uzkJ-dwvb4MrgqOeDE11nqRFGAdwfz9F\n"
          ]
        }
      ]
    },
    {
      "cell_type": "code",
      "source": [
        "df.describe()"
      ],
      "metadata": {
        "colab": {
          "base_uri": "https://localhost:8080/"
        },
        "id": "rHV7-BNeoS3g",
        "outputId": "6f2ed6a7-8373-43cb-ba2d-1666f4a67c14"
      },
      "execution_count": null,
      "outputs": [
        {
          "output_type": "execute_result",
          "data": {
            "text/plain": [
              "           weight      height         age\n",
              "count  358.000000  358.000000  358.000000\n",
              "mean    72.108939  167.918994   41.237430\n",
              "std     14.528707    9.558115   10.983412\n",
              "min     38.000000  142.000000   22.000000\n",
              "25%     61.000000  161.000000   32.000000\n",
              "50%     70.000000  168.000000   41.000000\n",
              "75%     84.000000  175.000000   51.000000\n",
              "max    106.000000  195.000000   60.000000"
            ],
            "text/html": [
              "\n",
              "  <div id=\"df-d716dec2-73f4-4040-a762-d668d7292fc9\">\n",
              "    <div class=\"colab-df-container\">\n",
              "      <div>\n",
              "<style scoped>\n",
              "    .dataframe tbody tr th:only-of-type {\n",
              "        vertical-align: middle;\n",
              "    }\n",
              "\n",
              "    .dataframe tbody tr th {\n",
              "        vertical-align: top;\n",
              "    }\n",
              "\n",
              "    .dataframe thead th {\n",
              "        text-align: right;\n",
              "    }\n",
              "</style>\n",
              "<table border=\"1\" class=\"dataframe\">\n",
              "  <thead>\n",
              "    <tr style=\"text-align: right;\">\n",
              "      <th></th>\n",
              "      <th>weight</th>\n",
              "      <th>height</th>\n",
              "      <th>age</th>\n",
              "    </tr>\n",
              "  </thead>\n",
              "  <tbody>\n",
              "    <tr>\n",
              "      <th>count</th>\n",
              "      <td>358.000000</td>\n",
              "      <td>358.000000</td>\n",
              "      <td>358.000000</td>\n",
              "    </tr>\n",
              "    <tr>\n",
              "      <th>mean</th>\n",
              "      <td>72.108939</td>\n",
              "      <td>167.918994</td>\n",
              "      <td>41.237430</td>\n",
              "    </tr>\n",
              "    <tr>\n",
              "      <th>std</th>\n",
              "      <td>14.528707</td>\n",
              "      <td>9.558115</td>\n",
              "      <td>10.983412</td>\n",
              "    </tr>\n",
              "    <tr>\n",
              "      <th>min</th>\n",
              "      <td>38.000000</td>\n",
              "      <td>142.000000</td>\n",
              "      <td>22.000000</td>\n",
              "    </tr>\n",
              "    <tr>\n",
              "      <th>25%</th>\n",
              "      <td>61.000000</td>\n",
              "      <td>161.000000</td>\n",
              "      <td>32.000000</td>\n",
              "    </tr>\n",
              "    <tr>\n",
              "      <th>50%</th>\n",
              "      <td>70.000000</td>\n",
              "      <td>168.000000</td>\n",
              "      <td>41.000000</td>\n",
              "    </tr>\n",
              "    <tr>\n",
              "      <th>75%</th>\n",
              "      <td>84.000000</td>\n",
              "      <td>175.000000</td>\n",
              "      <td>51.000000</td>\n",
              "    </tr>\n",
              "    <tr>\n",
              "      <th>max</th>\n",
              "      <td>106.000000</td>\n",
              "      <td>195.000000</td>\n",
              "      <td>60.000000</td>\n",
              "    </tr>\n",
              "  </tbody>\n",
              "</table>\n",
              "</div>\n",
              "      <button class=\"colab-df-convert\" onclick=\"convertToInteractive('df-d716dec2-73f4-4040-a762-d668d7292fc9')\"\n",
              "              title=\"Convert this dataframe to an interactive table.\"\n",
              "              style=\"display:none;\">\n",
              "        \n",
              "  <svg xmlns=\"http://www.w3.org/2000/svg\" height=\"24px\"viewBox=\"0 0 24 24\"\n",
              "       width=\"24px\">\n",
              "    <path d=\"M0 0h24v24H0V0z\" fill=\"none\"/>\n",
              "    <path d=\"M18.56 5.44l.94 2.06.94-2.06 2.06-.94-2.06-.94-.94-2.06-.94 2.06-2.06.94zm-11 1L8.5 8.5l.94-2.06 2.06-.94-2.06-.94L8.5 2.5l-.94 2.06-2.06.94zm10 10l.94 2.06.94-2.06 2.06-.94-2.06-.94-.94-2.06-.94 2.06-2.06.94z\"/><path d=\"M17.41 7.96l-1.37-1.37c-.4-.4-.92-.59-1.43-.59-.52 0-1.04.2-1.43.59L10.3 9.45l-7.72 7.72c-.78.78-.78 2.05 0 2.83L4 21.41c.39.39.9.59 1.41.59.51 0 1.02-.2 1.41-.59l7.78-7.78 2.81-2.81c.8-.78.8-2.07 0-2.86zM5.41 20L4 18.59l7.72-7.72 1.47 1.35L5.41 20z\"/>\n",
              "  </svg>\n",
              "      </button>\n",
              "      \n",
              "  <style>\n",
              "    .colab-df-container {\n",
              "      display:flex;\n",
              "      flex-wrap:wrap;\n",
              "      gap: 12px;\n",
              "    }\n",
              "\n",
              "    .colab-df-convert {\n",
              "      background-color: #E8F0FE;\n",
              "      border: none;\n",
              "      border-radius: 50%;\n",
              "      cursor: pointer;\n",
              "      display: none;\n",
              "      fill: #1967D2;\n",
              "      height: 32px;\n",
              "      padding: 0 0 0 0;\n",
              "      width: 32px;\n",
              "    }\n",
              "\n",
              "    .colab-df-convert:hover {\n",
              "      background-color: #E2EBFA;\n",
              "      box-shadow: 0px 1px 2px rgba(60, 64, 67, 0.3), 0px 1px 3px 1px rgba(60, 64, 67, 0.15);\n",
              "      fill: #174EA6;\n",
              "    }\n",
              "\n",
              "    [theme=dark] .colab-df-convert {\n",
              "      background-color: #3B4455;\n",
              "      fill: #D2E3FC;\n",
              "    }\n",
              "\n",
              "    [theme=dark] .colab-df-convert:hover {\n",
              "      background-color: #434B5C;\n",
              "      box-shadow: 0px 1px 3px 1px rgba(0, 0, 0, 0.15);\n",
              "      filter: drop-shadow(0px 1px 2px rgba(0, 0, 0, 0.3));\n",
              "      fill: #FFFFFF;\n",
              "    }\n",
              "  </style>\n",
              "\n",
              "      <script>\n",
              "        const buttonEl =\n",
              "          document.querySelector('#df-d716dec2-73f4-4040-a762-d668d7292fc9 button.colab-df-convert');\n",
              "        buttonEl.style.display =\n",
              "          google.colab.kernel.accessAllowed ? 'block' : 'none';\n",
              "\n",
              "        async function convertToInteractive(key) {\n",
              "          const element = document.querySelector('#df-d716dec2-73f4-4040-a762-d668d7292fc9');\n",
              "          const dataTable =\n",
              "            await google.colab.kernel.invokeFunction('convertToInteractive',\n",
              "                                                     [key], {});\n",
              "          if (!dataTable) return;\n",
              "\n",
              "          const docLinkHtml = 'Like what you see? Visit the ' +\n",
              "            '<a target=\"_blank\" href=https://colab.research.google.com/notebooks/data_table.ipynb>data table notebook</a>'\n",
              "            + ' to learn more about interactive tables.';\n",
              "          element.innerHTML = '';\n",
              "          dataTable['output_type'] = 'display_data';\n",
              "          await google.colab.output.renderOutput(dataTable, element);\n",
              "          const docLink = document.createElement('div');\n",
              "          docLink.innerHTML = docLinkHtml;\n",
              "          element.appendChild(docLink);\n",
              "        }\n",
              "      </script>\n",
              "    </div>\n",
              "  </div>\n",
              "  "
            ]
          },
          "metadata": {},
          "execution_count": 296
        }
      ]
    },
    {
      "cell_type": "markdown",
      "source": [
        "##HR-Genetic Algorithms"
      ],
      "metadata": {
        "id": "t6Qc1Y_MUhQr"
      }
    },
    {
      "cell_type": "markdown",
      "source": [
        "import libary"
      ],
      "metadata": {
        "id": "92i0XZjsDvWp"
      }
    },
    {
      "cell_type": "code",
      "execution_count": null,
      "metadata": {
        "id": "9tIJOxcQAR9l"
      },
      "outputs": [],
      "source": [
        "import pandas as pd\n",
        "import numpy as np\n",
        "import random\n",
        "import matplotlib.pyplot as plt\n"
      ]
    },
    {
      "cell_type": "code",
      "source": [
        "# df = pd.read_csv('HR.csv')\n",
        "url='https://drive.google.com/file/d/1uzkJ-dwvb4MrgqOeDE11nqRFGAdwfz9F/view?usp=share_link'\n",
        "file_id=url.split('/')[-2]\n",
        "print(file_id)\n",
        "dwn_url='https://drive.google.com/uc?id=' + file_id\n",
        "df = pd.read_csv(dwn_url)"
      ],
      "metadata": {
        "id": "QBnd1OwXDuye",
        "colab": {
          "base_uri": "https://localhost:8080/"
        },
        "outputId": "2d78f8fb-f948-43d0-ac1f-3e421cc76f42"
      },
      "execution_count": null,
      "outputs": [
        {
          "output_type": "stream",
          "name": "stdout",
          "text": [
            "1uzkJ-dwvb4MrgqOeDE11nqRFGAdwfz9F\n"
          ]
        }
      ]
    },
    {
      "cell_type": "code",
      "source": [
        "df\n"
      ],
      "metadata": {
        "colab": {
          "base_uri": "https://localhost:8080/"
        },
        "id": "6WbT08Q2D3T5",
        "outputId": "6d5bf378-b01c-4479-d3a0-cedf87f2a751"
      },
      "execution_count": null,
      "outputs": [
        {
          "output_type": "execute_result",
          "data": {
            "text/plain": [
              "     gender department  weight  height  age\n",
              "0      Male          R      89     172   32\n",
              "1      Male          R      89     180   52\n",
              "2      Male          R      52     158   27\n",
              "3      Male          R      50     157   39\n",
              "4      Male          R      68     174   25\n",
              "..      ...        ...     ...     ...  ...\n",
              "353  Female          J      73     168   38\n",
              "354  Female          J      68     169   59\n",
              "355  Female          J      49     155   33\n",
              "356  Female          J     101     187   60\n",
              "357  Female          J      88     172   38\n",
              "\n",
              "[358 rows x 5 columns]"
            ],
            "text/html": [
              "\n",
              "  <div id=\"df-01f2c6b6-acaa-4505-b0d1-16ccdc8b1a01\">\n",
              "    <div class=\"colab-df-container\">\n",
              "      <div>\n",
              "<style scoped>\n",
              "    .dataframe tbody tr th:only-of-type {\n",
              "        vertical-align: middle;\n",
              "    }\n",
              "\n",
              "    .dataframe tbody tr th {\n",
              "        vertical-align: top;\n",
              "    }\n",
              "\n",
              "    .dataframe thead th {\n",
              "        text-align: right;\n",
              "    }\n",
              "</style>\n",
              "<table border=\"1\" class=\"dataframe\">\n",
              "  <thead>\n",
              "    <tr style=\"text-align: right;\">\n",
              "      <th></th>\n",
              "      <th>gender</th>\n",
              "      <th>department</th>\n",
              "      <th>weight</th>\n",
              "      <th>height</th>\n",
              "      <th>age</th>\n",
              "    </tr>\n",
              "  </thead>\n",
              "  <tbody>\n",
              "    <tr>\n",
              "      <th>0</th>\n",
              "      <td>Male</td>\n",
              "      <td>R</td>\n",
              "      <td>89</td>\n",
              "      <td>172</td>\n",
              "      <td>32</td>\n",
              "    </tr>\n",
              "    <tr>\n",
              "      <th>1</th>\n",
              "      <td>Male</td>\n",
              "      <td>R</td>\n",
              "      <td>89</td>\n",
              "      <td>180</td>\n",
              "      <td>52</td>\n",
              "    </tr>\n",
              "    <tr>\n",
              "      <th>2</th>\n",
              "      <td>Male</td>\n",
              "      <td>R</td>\n",
              "      <td>52</td>\n",
              "      <td>158</td>\n",
              "      <td>27</td>\n",
              "    </tr>\n",
              "    <tr>\n",
              "      <th>3</th>\n",
              "      <td>Male</td>\n",
              "      <td>R</td>\n",
              "      <td>50</td>\n",
              "      <td>157</td>\n",
              "      <td>39</td>\n",
              "    </tr>\n",
              "    <tr>\n",
              "      <th>4</th>\n",
              "      <td>Male</td>\n",
              "      <td>R</td>\n",
              "      <td>68</td>\n",
              "      <td>174</td>\n",
              "      <td>25</td>\n",
              "    </tr>\n",
              "    <tr>\n",
              "      <th>...</th>\n",
              "      <td>...</td>\n",
              "      <td>...</td>\n",
              "      <td>...</td>\n",
              "      <td>...</td>\n",
              "      <td>...</td>\n",
              "    </tr>\n",
              "    <tr>\n",
              "      <th>353</th>\n",
              "      <td>Female</td>\n",
              "      <td>J</td>\n",
              "      <td>73</td>\n",
              "      <td>168</td>\n",
              "      <td>38</td>\n",
              "    </tr>\n",
              "    <tr>\n",
              "      <th>354</th>\n",
              "      <td>Female</td>\n",
              "      <td>J</td>\n",
              "      <td>68</td>\n",
              "      <td>169</td>\n",
              "      <td>59</td>\n",
              "    </tr>\n",
              "    <tr>\n",
              "      <th>355</th>\n",
              "      <td>Female</td>\n",
              "      <td>J</td>\n",
              "      <td>49</td>\n",
              "      <td>155</td>\n",
              "      <td>33</td>\n",
              "    </tr>\n",
              "    <tr>\n",
              "      <th>356</th>\n",
              "      <td>Female</td>\n",
              "      <td>J</td>\n",
              "      <td>101</td>\n",
              "      <td>187</td>\n",
              "      <td>60</td>\n",
              "    </tr>\n",
              "    <tr>\n",
              "      <th>357</th>\n",
              "      <td>Female</td>\n",
              "      <td>J</td>\n",
              "      <td>88</td>\n",
              "      <td>172</td>\n",
              "      <td>38</td>\n",
              "    </tr>\n",
              "  </tbody>\n",
              "</table>\n",
              "<p>358 rows × 5 columns</p>\n",
              "</div>\n",
              "      <button class=\"colab-df-convert\" onclick=\"convertToInteractive('df-01f2c6b6-acaa-4505-b0d1-16ccdc8b1a01')\"\n",
              "              title=\"Convert this dataframe to an interactive table.\"\n",
              "              style=\"display:none;\">\n",
              "        \n",
              "  <svg xmlns=\"http://www.w3.org/2000/svg\" height=\"24px\"viewBox=\"0 0 24 24\"\n",
              "       width=\"24px\">\n",
              "    <path d=\"M0 0h24v24H0V0z\" fill=\"none\"/>\n",
              "    <path d=\"M18.56 5.44l.94 2.06.94-2.06 2.06-.94-2.06-.94-.94-2.06-.94 2.06-2.06.94zm-11 1L8.5 8.5l.94-2.06 2.06-.94-2.06-.94L8.5 2.5l-.94 2.06-2.06.94zm10 10l.94 2.06.94-2.06 2.06-.94-2.06-.94-.94-2.06-.94 2.06-2.06.94z\"/><path d=\"M17.41 7.96l-1.37-1.37c-.4-.4-.92-.59-1.43-.59-.52 0-1.04.2-1.43.59L10.3 9.45l-7.72 7.72c-.78.78-.78 2.05 0 2.83L4 21.41c.39.39.9.59 1.41.59.51 0 1.02-.2 1.41-.59l7.78-7.78 2.81-2.81c.8-.78.8-2.07 0-2.86zM5.41 20L4 18.59l7.72-7.72 1.47 1.35L5.41 20z\"/>\n",
              "  </svg>\n",
              "      </button>\n",
              "      \n",
              "  <style>\n",
              "    .colab-df-container {\n",
              "      display:flex;\n",
              "      flex-wrap:wrap;\n",
              "      gap: 12px;\n",
              "    }\n",
              "\n",
              "    .colab-df-convert {\n",
              "      background-color: #E8F0FE;\n",
              "      border: none;\n",
              "      border-radius: 50%;\n",
              "      cursor: pointer;\n",
              "      display: none;\n",
              "      fill: #1967D2;\n",
              "      height: 32px;\n",
              "      padding: 0 0 0 0;\n",
              "      width: 32px;\n",
              "    }\n",
              "\n",
              "    .colab-df-convert:hover {\n",
              "      background-color: #E2EBFA;\n",
              "      box-shadow: 0px 1px 2px rgba(60, 64, 67, 0.3), 0px 1px 3px 1px rgba(60, 64, 67, 0.15);\n",
              "      fill: #174EA6;\n",
              "    }\n",
              "\n",
              "    [theme=dark] .colab-df-convert {\n",
              "      background-color: #3B4455;\n",
              "      fill: #D2E3FC;\n",
              "    }\n",
              "\n",
              "    [theme=dark] .colab-df-convert:hover {\n",
              "      background-color: #434B5C;\n",
              "      box-shadow: 0px 1px 3px 1px rgba(0, 0, 0, 0.15);\n",
              "      filter: drop-shadow(0px 1px 2px rgba(0, 0, 0, 0.3));\n",
              "      fill: #FFFFFF;\n",
              "    }\n",
              "  </style>\n",
              "\n",
              "      <script>\n",
              "        const buttonEl =\n",
              "          document.querySelector('#df-01f2c6b6-acaa-4505-b0d1-16ccdc8b1a01 button.colab-df-convert');\n",
              "        buttonEl.style.display =\n",
              "          google.colab.kernel.accessAllowed ? 'block' : 'none';\n",
              "\n",
              "        async function convertToInteractive(key) {\n",
              "          const element = document.querySelector('#df-01f2c6b6-acaa-4505-b0d1-16ccdc8b1a01');\n",
              "          const dataTable =\n",
              "            await google.colab.kernel.invokeFunction('convertToInteractive',\n",
              "                                                     [key], {});\n",
              "          if (!dataTable) return;\n",
              "\n",
              "          const docLinkHtml = 'Like what you see? Visit the ' +\n",
              "            '<a target=\"_blank\" href=https://colab.research.google.com/notebooks/data_table.ipynb>data table notebook</a>'\n",
              "            + ' to learn more about interactive tables.';\n",
              "          element.innerHTML = '';\n",
              "          dataTable['output_type'] = 'display_data';\n",
              "          await google.colab.output.renderOutput(dataTable, element);\n",
              "          const docLink = document.createElement('div');\n",
              "          docLink.innerHTML = docLinkHtml;\n",
              "          element.appendChild(docLink);\n",
              "        }\n",
              "      </script>\n",
              "    </div>\n",
              "  </div>\n",
              "  "
            ]
          },
          "metadata": {},
          "execution_count": 299
        }
      ]
    },
    {
      "cell_type": "code",
      "source": [
        "df.describe()"
      ],
      "metadata": {
        "colab": {
          "base_uri": "https://localhost:8080/"
        },
        "id": "3-8wcNtSD_K0",
        "outputId": "6193df35-4d36-4c51-d2a1-fba1ed86d8bc"
      },
      "execution_count": null,
      "outputs": [
        {
          "output_type": "execute_result",
          "data": {
            "text/plain": [
              "           weight      height         age\n",
              "count  358.000000  358.000000  358.000000\n",
              "mean    72.108939  167.918994   41.237430\n",
              "std     14.528707    9.558115   10.983412\n",
              "min     38.000000  142.000000   22.000000\n",
              "25%     61.000000  161.000000   32.000000\n",
              "50%     70.000000  168.000000   41.000000\n",
              "75%     84.000000  175.000000   51.000000\n",
              "max    106.000000  195.000000   60.000000"
            ],
            "text/html": [
              "\n",
              "  <div id=\"df-e9b94f6e-e711-486b-adbf-48c788c630fd\">\n",
              "    <div class=\"colab-df-container\">\n",
              "      <div>\n",
              "<style scoped>\n",
              "    .dataframe tbody tr th:only-of-type {\n",
              "        vertical-align: middle;\n",
              "    }\n",
              "\n",
              "    .dataframe tbody tr th {\n",
              "        vertical-align: top;\n",
              "    }\n",
              "\n",
              "    .dataframe thead th {\n",
              "        text-align: right;\n",
              "    }\n",
              "</style>\n",
              "<table border=\"1\" class=\"dataframe\">\n",
              "  <thead>\n",
              "    <tr style=\"text-align: right;\">\n",
              "      <th></th>\n",
              "      <th>weight</th>\n",
              "      <th>height</th>\n",
              "      <th>age</th>\n",
              "    </tr>\n",
              "  </thead>\n",
              "  <tbody>\n",
              "    <tr>\n",
              "      <th>count</th>\n",
              "      <td>358.000000</td>\n",
              "      <td>358.000000</td>\n",
              "      <td>358.000000</td>\n",
              "    </tr>\n",
              "    <tr>\n",
              "      <th>mean</th>\n",
              "      <td>72.108939</td>\n",
              "      <td>167.918994</td>\n",
              "      <td>41.237430</td>\n",
              "    </tr>\n",
              "    <tr>\n",
              "      <th>std</th>\n",
              "      <td>14.528707</td>\n",
              "      <td>9.558115</td>\n",
              "      <td>10.983412</td>\n",
              "    </tr>\n",
              "    <tr>\n",
              "      <th>min</th>\n",
              "      <td>38.000000</td>\n",
              "      <td>142.000000</td>\n",
              "      <td>22.000000</td>\n",
              "    </tr>\n",
              "    <tr>\n",
              "      <th>25%</th>\n",
              "      <td>61.000000</td>\n",
              "      <td>161.000000</td>\n",
              "      <td>32.000000</td>\n",
              "    </tr>\n",
              "    <tr>\n",
              "      <th>50%</th>\n",
              "      <td>70.000000</td>\n",
              "      <td>168.000000</td>\n",
              "      <td>41.000000</td>\n",
              "    </tr>\n",
              "    <tr>\n",
              "      <th>75%</th>\n",
              "      <td>84.000000</td>\n",
              "      <td>175.000000</td>\n",
              "      <td>51.000000</td>\n",
              "    </tr>\n",
              "    <tr>\n",
              "      <th>max</th>\n",
              "      <td>106.000000</td>\n",
              "      <td>195.000000</td>\n",
              "      <td>60.000000</td>\n",
              "    </tr>\n",
              "  </tbody>\n",
              "</table>\n",
              "</div>\n",
              "      <button class=\"colab-df-convert\" onclick=\"convertToInteractive('df-e9b94f6e-e711-486b-adbf-48c788c630fd')\"\n",
              "              title=\"Convert this dataframe to an interactive table.\"\n",
              "              style=\"display:none;\">\n",
              "        \n",
              "  <svg xmlns=\"http://www.w3.org/2000/svg\" height=\"24px\"viewBox=\"0 0 24 24\"\n",
              "       width=\"24px\">\n",
              "    <path d=\"M0 0h24v24H0V0z\" fill=\"none\"/>\n",
              "    <path d=\"M18.56 5.44l.94 2.06.94-2.06 2.06-.94-2.06-.94-.94-2.06-.94 2.06-2.06.94zm-11 1L8.5 8.5l.94-2.06 2.06-.94-2.06-.94L8.5 2.5l-.94 2.06-2.06.94zm10 10l.94 2.06.94-2.06 2.06-.94-2.06-.94-.94-2.06-.94 2.06-2.06.94z\"/><path d=\"M17.41 7.96l-1.37-1.37c-.4-.4-.92-.59-1.43-.59-.52 0-1.04.2-1.43.59L10.3 9.45l-7.72 7.72c-.78.78-.78 2.05 0 2.83L4 21.41c.39.39.9.59 1.41.59.51 0 1.02-.2 1.41-.59l7.78-7.78 2.81-2.81c.8-.78.8-2.07 0-2.86zM5.41 20L4 18.59l7.72-7.72 1.47 1.35L5.41 20z\"/>\n",
              "  </svg>\n",
              "      </button>\n",
              "      \n",
              "  <style>\n",
              "    .colab-df-container {\n",
              "      display:flex;\n",
              "      flex-wrap:wrap;\n",
              "      gap: 12px;\n",
              "    }\n",
              "\n",
              "    .colab-df-convert {\n",
              "      background-color: #E8F0FE;\n",
              "      border: none;\n",
              "      border-radius: 50%;\n",
              "      cursor: pointer;\n",
              "      display: none;\n",
              "      fill: #1967D2;\n",
              "      height: 32px;\n",
              "      padding: 0 0 0 0;\n",
              "      width: 32px;\n",
              "    }\n",
              "\n",
              "    .colab-df-convert:hover {\n",
              "      background-color: #E2EBFA;\n",
              "      box-shadow: 0px 1px 2px rgba(60, 64, 67, 0.3), 0px 1px 3px 1px rgba(60, 64, 67, 0.15);\n",
              "      fill: #174EA6;\n",
              "    }\n",
              "\n",
              "    [theme=dark] .colab-df-convert {\n",
              "      background-color: #3B4455;\n",
              "      fill: #D2E3FC;\n",
              "    }\n",
              "\n",
              "    [theme=dark] .colab-df-convert:hover {\n",
              "      background-color: #434B5C;\n",
              "      box-shadow: 0px 1px 3px 1px rgba(0, 0, 0, 0.15);\n",
              "      filter: drop-shadow(0px 1px 2px rgba(0, 0, 0, 0.3));\n",
              "      fill: #FFFFFF;\n",
              "    }\n",
              "  </style>\n",
              "\n",
              "      <script>\n",
              "        const buttonEl =\n",
              "          document.querySelector('#df-e9b94f6e-e711-486b-adbf-48c788c630fd button.colab-df-convert');\n",
              "        buttonEl.style.display =\n",
              "          google.colab.kernel.accessAllowed ? 'block' : 'none';\n",
              "\n",
              "        async function convertToInteractive(key) {\n",
              "          const element = document.querySelector('#df-e9b94f6e-e711-486b-adbf-48c788c630fd');\n",
              "          const dataTable =\n",
              "            await google.colab.kernel.invokeFunction('convertToInteractive',\n",
              "                                                     [key], {});\n",
              "          if (!dataTable) return;\n",
              "\n",
              "          const docLinkHtml = 'Like what you see? Visit the ' +\n",
              "            '<a target=\"_blank\" href=https://colab.research.google.com/notebooks/data_table.ipynb>data table notebook</a>'\n",
              "            + ' to learn more about interactive tables.';\n",
              "          element.innerHTML = '';\n",
              "          dataTable['output_type'] = 'display_data';\n",
              "          await google.colab.output.renderOutput(dataTable, element);\n",
              "          const docLink = document.createElement('div');\n",
              "          docLink.innerHTML = docLinkHtml;\n",
              "          element.appendChild(docLink);\n",
              "        }\n",
              "      </script>\n",
              "    </div>\n",
              "  </div>\n",
              "  "
            ]
          },
          "metadata": {},
          "execution_count": 300
        }
      ]
    },
    {
      "cell_type": "code",
      "source": [
        "df.nunique()"
      ],
      "metadata": {
        "colab": {
          "base_uri": "https://localhost:8080/"
        },
        "id": "E699byXrJKkN",
        "outputId": "8298d7d3-0d93-4066-9a02-79e80023cc59"
      },
      "execution_count": null,
      "outputs": [
        {
          "output_type": "execute_result",
          "data": {
            "text/plain": [
              "gender         2\n",
              "department    19\n",
              "weight        63\n",
              "height        47\n",
              "age           39\n",
              "dtype: int64"
            ]
          },
          "metadata": {},
          "execution_count": 301
        }
      ]
    },
    {
      "cell_type": "markdown",
      "source": [
        "- เท่าเทียม อายุ เพศ bmi\n",
        "- สามัคคี\n",
        "- สัมพันธ์ระหว่างแผนก\n",
        "\n",
        "2 สี"
      ],
      "metadata": {
        "id": "x-9J_O4bF-wi"
      }
    },
    {
      "cell_type": "markdown",
      "source": [
        "![picture](https://www.researchgate.net/profile/Rodrigo-Reis-17/publication/340892707/figure/fig2/AS:999789642645506@1615379834179/Steps-of-genetic-algorithm-for-human-resource-allocation.ppm)"
      ],
      "metadata": {
        "id": "v5yYmRp0oRBN"
      }
    },
    {
      "cell_type": "markdown",
      "source": [
        "![picture](https://www.researchgate.net/profile/Stefan-Elfwing-2/publication/267856080/figure/fig6/AS:669423161573389@1536614327688/One-point-crossover-between-two-bit-string-genotypes.png)"
      ],
      "metadata": {
        "id": "bOz85-TyUnXE"
      }
    },
    {
      "cell_type": "markdown",
      "source": [
        "![picture](https://miro.medium.com/max/720/1*zF3DzW57qD_LOGO1jQwdcg.webp)"
      ],
      "metadata": {
        "id": "MXFZTDk9xUa9"
      }
    },
    {
      "cell_type": "markdown",
      "source": [],
      "metadata": {
        "id": "nPmyjnOjxSYK"
      }
    },
    {
      "cell_type": "markdown",
      "source": [
        "ลบ ช่องว่าง"
      ],
      "metadata": {
        "id": "o-FQOIhyXGzV"
      }
    },
    {
      "cell_type": "code",
      "source": [
        "df['department'] = df['department'].str.strip()"
      ],
      "metadata": {
        "id": "xcCfIZAiEDcu"
      },
      "execution_count": null,
      "outputs": []
    },
    {
      "cell_type": "markdown",
      "source": [
        "เพิ่ม col BMI"
      ],
      "metadata": {
        "id": "wNMDdaEFnDmL"
      }
    },
    {
      "cell_type": "code",
      "source": [
        "df[\"BMI\"] = df[\"weight\"] / (df[\"height\"]/100)**2\n",
        "df"
      ],
      "metadata": {
        "colab": {
          "base_uri": "https://localhost:8080/"
        },
        "id": "x7nO0rT0G_Ln",
        "outputId": "3b40abb6-c9c3-489a-ab43-c83fabf8829e"
      },
      "execution_count": null,
      "outputs": [
        {
          "output_type": "execute_result",
          "data": {
            "text/plain": [
              "     gender department  weight  height  age        BMI\n",
              "0      Male          R      89     172   32  30.083829\n",
              "1      Male          R      89     180   52  27.469136\n",
              "2      Male          R      52     158   27  20.829995\n",
              "3      Male          R      50     157   39  20.284799\n",
              "4      Male          R      68     174   25  22.460034\n",
              "..      ...        ...     ...     ...  ...        ...\n",
              "353  Female          J      73     168   38  25.864512\n",
              "354  Female          J      68     169   59  23.808690\n",
              "355  Female          J      49     155   33  20.395421\n",
              "356  Female          J     101     187   60  28.882725\n",
              "357  Female          J      88     172   38  29.745809\n",
              "\n",
              "[358 rows x 6 columns]"
            ],
            "text/html": [
              "\n",
              "  <div id=\"df-fd77f4c0-4b72-47c9-90c9-0aeb32aae40a\">\n",
              "    <div class=\"colab-df-container\">\n",
              "      <div>\n",
              "<style scoped>\n",
              "    .dataframe tbody tr th:only-of-type {\n",
              "        vertical-align: middle;\n",
              "    }\n",
              "\n",
              "    .dataframe tbody tr th {\n",
              "        vertical-align: top;\n",
              "    }\n",
              "\n",
              "    .dataframe thead th {\n",
              "        text-align: right;\n",
              "    }\n",
              "</style>\n",
              "<table border=\"1\" class=\"dataframe\">\n",
              "  <thead>\n",
              "    <tr style=\"text-align: right;\">\n",
              "      <th></th>\n",
              "      <th>gender</th>\n",
              "      <th>department</th>\n",
              "      <th>weight</th>\n",
              "      <th>height</th>\n",
              "      <th>age</th>\n",
              "      <th>BMI</th>\n",
              "    </tr>\n",
              "  </thead>\n",
              "  <tbody>\n",
              "    <tr>\n",
              "      <th>0</th>\n",
              "      <td>Male</td>\n",
              "      <td>R</td>\n",
              "      <td>89</td>\n",
              "      <td>172</td>\n",
              "      <td>32</td>\n",
              "      <td>30.083829</td>\n",
              "    </tr>\n",
              "    <tr>\n",
              "      <th>1</th>\n",
              "      <td>Male</td>\n",
              "      <td>R</td>\n",
              "      <td>89</td>\n",
              "      <td>180</td>\n",
              "      <td>52</td>\n",
              "      <td>27.469136</td>\n",
              "    </tr>\n",
              "    <tr>\n",
              "      <th>2</th>\n",
              "      <td>Male</td>\n",
              "      <td>R</td>\n",
              "      <td>52</td>\n",
              "      <td>158</td>\n",
              "      <td>27</td>\n",
              "      <td>20.829995</td>\n",
              "    </tr>\n",
              "    <tr>\n",
              "      <th>3</th>\n",
              "      <td>Male</td>\n",
              "      <td>R</td>\n",
              "      <td>50</td>\n",
              "      <td>157</td>\n",
              "      <td>39</td>\n",
              "      <td>20.284799</td>\n",
              "    </tr>\n",
              "    <tr>\n",
              "      <th>4</th>\n",
              "      <td>Male</td>\n",
              "      <td>R</td>\n",
              "      <td>68</td>\n",
              "      <td>174</td>\n",
              "      <td>25</td>\n",
              "      <td>22.460034</td>\n",
              "    </tr>\n",
              "    <tr>\n",
              "      <th>...</th>\n",
              "      <td>...</td>\n",
              "      <td>...</td>\n",
              "      <td>...</td>\n",
              "      <td>...</td>\n",
              "      <td>...</td>\n",
              "      <td>...</td>\n",
              "    </tr>\n",
              "    <tr>\n",
              "      <th>353</th>\n",
              "      <td>Female</td>\n",
              "      <td>J</td>\n",
              "      <td>73</td>\n",
              "      <td>168</td>\n",
              "      <td>38</td>\n",
              "      <td>25.864512</td>\n",
              "    </tr>\n",
              "    <tr>\n",
              "      <th>354</th>\n",
              "      <td>Female</td>\n",
              "      <td>J</td>\n",
              "      <td>68</td>\n",
              "      <td>169</td>\n",
              "      <td>59</td>\n",
              "      <td>23.808690</td>\n",
              "    </tr>\n",
              "    <tr>\n",
              "      <th>355</th>\n",
              "      <td>Female</td>\n",
              "      <td>J</td>\n",
              "      <td>49</td>\n",
              "      <td>155</td>\n",
              "      <td>33</td>\n",
              "      <td>20.395421</td>\n",
              "    </tr>\n",
              "    <tr>\n",
              "      <th>356</th>\n",
              "      <td>Female</td>\n",
              "      <td>J</td>\n",
              "      <td>101</td>\n",
              "      <td>187</td>\n",
              "      <td>60</td>\n",
              "      <td>28.882725</td>\n",
              "    </tr>\n",
              "    <tr>\n",
              "      <th>357</th>\n",
              "      <td>Female</td>\n",
              "      <td>J</td>\n",
              "      <td>88</td>\n",
              "      <td>172</td>\n",
              "      <td>38</td>\n",
              "      <td>29.745809</td>\n",
              "    </tr>\n",
              "  </tbody>\n",
              "</table>\n",
              "<p>358 rows × 6 columns</p>\n",
              "</div>\n",
              "      <button class=\"colab-df-convert\" onclick=\"convertToInteractive('df-fd77f4c0-4b72-47c9-90c9-0aeb32aae40a')\"\n",
              "              title=\"Convert this dataframe to an interactive table.\"\n",
              "              style=\"display:none;\">\n",
              "        \n",
              "  <svg xmlns=\"http://www.w3.org/2000/svg\" height=\"24px\"viewBox=\"0 0 24 24\"\n",
              "       width=\"24px\">\n",
              "    <path d=\"M0 0h24v24H0V0z\" fill=\"none\"/>\n",
              "    <path d=\"M18.56 5.44l.94 2.06.94-2.06 2.06-.94-2.06-.94-.94-2.06-.94 2.06-2.06.94zm-11 1L8.5 8.5l.94-2.06 2.06-.94-2.06-.94L8.5 2.5l-.94 2.06-2.06.94zm10 10l.94 2.06.94-2.06 2.06-.94-2.06-.94-.94-2.06-.94 2.06-2.06.94z\"/><path d=\"M17.41 7.96l-1.37-1.37c-.4-.4-.92-.59-1.43-.59-.52 0-1.04.2-1.43.59L10.3 9.45l-7.72 7.72c-.78.78-.78 2.05 0 2.83L4 21.41c.39.39.9.59 1.41.59.51 0 1.02-.2 1.41-.59l7.78-7.78 2.81-2.81c.8-.78.8-2.07 0-2.86zM5.41 20L4 18.59l7.72-7.72 1.47 1.35L5.41 20z\"/>\n",
              "  </svg>\n",
              "      </button>\n",
              "      \n",
              "  <style>\n",
              "    .colab-df-container {\n",
              "      display:flex;\n",
              "      flex-wrap:wrap;\n",
              "      gap: 12px;\n",
              "    }\n",
              "\n",
              "    .colab-df-convert {\n",
              "      background-color: #E8F0FE;\n",
              "      border: none;\n",
              "      border-radius: 50%;\n",
              "      cursor: pointer;\n",
              "      display: none;\n",
              "      fill: #1967D2;\n",
              "      height: 32px;\n",
              "      padding: 0 0 0 0;\n",
              "      width: 32px;\n",
              "    }\n",
              "\n",
              "    .colab-df-convert:hover {\n",
              "      background-color: #E2EBFA;\n",
              "      box-shadow: 0px 1px 2px rgba(60, 64, 67, 0.3), 0px 1px 3px 1px rgba(60, 64, 67, 0.15);\n",
              "      fill: #174EA6;\n",
              "    }\n",
              "\n",
              "    [theme=dark] .colab-df-convert {\n",
              "      background-color: #3B4455;\n",
              "      fill: #D2E3FC;\n",
              "    }\n",
              "\n",
              "    [theme=dark] .colab-df-convert:hover {\n",
              "      background-color: #434B5C;\n",
              "      box-shadow: 0px 1px 3px 1px rgba(0, 0, 0, 0.15);\n",
              "      filter: drop-shadow(0px 1px 2px rgba(0, 0, 0, 0.3));\n",
              "      fill: #FFFFFF;\n",
              "    }\n",
              "  </style>\n",
              "\n",
              "      <script>\n",
              "        const buttonEl =\n",
              "          document.querySelector('#df-fd77f4c0-4b72-47c9-90c9-0aeb32aae40a button.colab-df-convert');\n",
              "        buttonEl.style.display =\n",
              "          google.colab.kernel.accessAllowed ? 'block' : 'none';\n",
              "\n",
              "        async function convertToInteractive(key) {\n",
              "          const element = document.querySelector('#df-fd77f4c0-4b72-47c9-90c9-0aeb32aae40a');\n",
              "          const dataTable =\n",
              "            await google.colab.kernel.invokeFunction('convertToInteractive',\n",
              "                                                     [key], {});\n",
              "          if (!dataTable) return;\n",
              "\n",
              "          const docLinkHtml = 'Like what you see? Visit the ' +\n",
              "            '<a target=\"_blank\" href=https://colab.research.google.com/notebooks/data_table.ipynb>data table notebook</a>'\n",
              "            + ' to learn more about interactive tables.';\n",
              "          element.innerHTML = '';\n",
              "          dataTable['output_type'] = 'display_data';\n",
              "          await google.colab.output.renderOutput(dataTable, element);\n",
              "          const docLink = document.createElement('div');\n",
              "          docLink.innerHTML = docLinkHtml;\n",
              "          element.appendChild(docLink);\n",
              "        }\n",
              "      </script>\n",
              "    </div>\n",
              "  </div>\n",
              "  "
            ]
          },
          "metadata": {},
          "execution_count": 303
        }
      ]
    },
    {
      "cell_type": "markdown",
      "source": [
        "(bmi_mean1 - bmi_mean2)m + (age_mean1 - age_mean2)m + (c1-c2)m + (gender1-gender2)m"
      ],
      "metadata": {
        "id": "jk2EuRb5S-jr"
      }
    },
    {
      "cell_type": "code",
      "source": [
        "def fitness1(groupteam):\n",
        "    group1 = df[groupteam == 1] # select data index groupteam == 1\n",
        "    group2 = df[groupteam == 0]\n",
        "    fitness_score = 0\n",
        "\n",
        "    bmi_mean1, bmi_mean2 = group1['BMI'].mean(), group2['BMI'].mean()\n",
        "    fitness_score += abs(bmi_mean1 - bmi_mean2)\n",
        "\n",
        "    age_mean1, age_mean2 = group1['age'].mean(), group2['age'].mean()\n",
        "    fitness_score += abs(age_mean1 - age_mean2)\n",
        "\n",
        "    c1, c2 = group1['department'].value_counts(), group2['department'].value_counts()\n",
        "    fitness_score += abs(c1-c2).mean()\n",
        "\n",
        "    gender1, gender2 = group1['gender'].value_counts(), group2['gender'].value_counts()\n",
        "    fitness_score += abs(gender1-gender2).mean()\n",
        "\n",
        "    return fitness_score"
      ],
      "metadata": {
        "id": "yHQt2RNRBhIg"
      },
      "execution_count": null,
      "outputs": []
    },
    {
      "cell_type": "markdown",
      "source": [
        "mutation ทำาการ random เปลี่ยน 0 เป็น 1"
      ],
      "metadata": {
        "id": "NlxVaRjQ3LmW"
      }
    },
    {
      "cell_type": "code",
      "source": [
        "def mutation(team_set):\n",
        "  random_index = random.randint(0, len(team_set)-1)\n",
        "  mutated_individual = team_set.copy()\n",
        "  mutated_individual[random_index] = 1 if team_set[random_index] == 0 else 0\n",
        "  return mutated_individual"
      ],
      "metadata": {
        "id": "pUBbnz8-NiIX"
      },
      "execution_count": null,
      "outputs": []
    },
    {
      "cell_type": "code",
      "source": [
        "def crossover(team_set1, team_set2):\n",
        "  random_index = random.randint(0, len(team_set1)-1)\n",
        "  offspring1 = np.concatenate([team_set1[:random_index], team_set2[random_index:]])\n",
        "  offspring2 = np.concatenate([team_set2[:random_index], team_set1[random_index:]])\n",
        "  return offspring1, offspring2"
      ],
      "metadata": {
        "id": "x9jJN8kTdovp"
      },
      "execution_count": null,
      "outputs": []
    },
    {
      "cell_type": "markdown",
      "source": [
        "Select the best group top 10 Rank\n",
        "\n",
        "1.   population เป็น array 100 แบบ ขนาดเท่า จำนวนสมาชิกทั้งหมด \n",
        "2.   fitness_scores เป็นแต้ม ของ array 100 แบบ \n",
        "3.   num_parents จำนวน พ่อพันธ์\n",
        "\n",
        "Return TOP 10\n"
      ],
      "metadata": {
        "id": "I2SaXzPftRRB"
      }
    },
    {
      "cell_type": "code",
      "source": [
        "def selection(population, fitness_scores, num_parents):\n",
        "  parent_indices = np.argsort(fitness_scores)[:num_parents]\n",
        "  parents = [population[i] for i in parent_indices]\n",
        "  return parents"
      ],
      "metadata": {
        "id": "98UJNm9vNr8t"
      },
      "execution_count": null,
      "outputs": []
    },
    {
      "cell_type": "markdown",
      "source": [
        "ทำการสุ่ม 0-1 ตามจำนวนสมาชิกทั้งหมด 100 แบบ"
      ],
      "metadata": {
        "id": "MUiA90V7mh_v"
      }
    },
    {
      "cell_type": "code",
      "source": [
        "population = [np.random.randint(0, 2, size=len(df)) for _ in range(100)]\n",
        "print(len(population))\n",
        "print(len(population[0]))\n",
        "population[0]"
      ],
      "metadata": {
        "colab": {
          "base_uri": "https://localhost:8080/"
        },
        "id": "d3zQMQoZI9u1",
        "outputId": "5635a7ea-eb2f-4367-d9e2-842beccfa64e"
      },
      "execution_count": null,
      "outputs": [
        {
          "output_type": "stream",
          "name": "stdout",
          "text": [
            "100\n",
            "358\n"
          ]
        },
        {
          "output_type": "execute_result",
          "data": {
            "text/plain": [
              "array([1, 0, 1, 0, 0, 0, 1, 0, 1, 1, 1, 1, 0, 0, 1, 1, 1, 1, 0, 0, 0, 1,\n",
              "       0, 1, 1, 1, 1, 1, 1, 1, 0, 1, 1, 1, 0, 1, 1, 1, 1, 0, 1, 0, 1, 0,\n",
              "       1, 0, 1, 0, 1, 1, 0, 1, 1, 0, 0, 0, 0, 1, 0, 1, 1, 0, 0, 0, 1, 0,\n",
              "       1, 0, 1, 1, 1, 0, 1, 1, 1, 1, 1, 0, 1, 1, 1, 1, 1, 1, 1, 0, 0, 1,\n",
              "       0, 0, 1, 1, 0, 0, 1, 0, 1, 0, 1, 1, 1, 1, 1, 0, 0, 1, 0, 1, 0, 1,\n",
              "       1, 1, 1, 0, 0, 1, 1, 0, 0, 1, 0, 0, 1, 0, 1, 1, 0, 1, 1, 1, 0, 0,\n",
              "       1, 1, 0, 0, 1, 1, 1, 1, 0, 0, 0, 0, 0, 1, 0, 0, 0, 1, 0, 0, 1, 1,\n",
              "       0, 1, 1, 0, 1, 0, 0, 1, 1, 0, 1, 1, 0, 1, 0, 0, 1, 1, 1, 1, 0, 0,\n",
              "       0, 0, 0, 0, 0, 1, 0, 0, 1, 0, 1, 0, 1, 0, 1, 0, 1, 0, 1, 0, 1, 1,\n",
              "       0, 0, 0, 1, 1, 1, 0, 1, 1, 0, 0, 0, 1, 0, 0, 1, 1, 0, 1, 0, 0, 0,\n",
              "       1, 0, 1, 0, 1, 1, 1, 1, 0, 0, 1, 0, 0, 0, 1, 0, 0, 0, 1, 1, 0, 1,\n",
              "       0, 0, 0, 0, 0, 0, 1, 0, 1, 0, 0, 0, 1, 0, 1, 0, 0, 1, 1, 1, 0, 0,\n",
              "       1, 1, 1, 0, 0, 1, 1, 1, 1, 1, 0, 0, 1, 1, 0, 0, 1, 1, 1, 0, 0, 0,\n",
              "       1, 1, 1, 1, 0, 1, 0, 1, 1, 0, 1, 1, 1, 1, 1, 0, 1, 1, 0, 0, 0, 0,\n",
              "       1, 1, 1, 1, 1, 1, 1, 0, 1, 1, 0, 1, 0, 1, 1, 0, 1, 1, 0, 0, 1, 0,\n",
              "       1, 0, 0, 1, 0, 1, 1, 1, 1, 1, 1, 1, 0, 1, 0, 1, 0, 1, 1, 1, 0, 1,\n",
              "       1, 0, 0, 0, 1, 0])"
            ]
          },
          "metadata": {},
          "execution_count": 308
        }
      ]
    },
    {
      "cell_type": "code",
      "source": [
        "num_generations = 100\n",
        "num_parents = 20 "
      ],
      "metadata": {
        "id": "GRyRncUVT47j"
      },
      "execution_count": null,
      "outputs": []
    },
    {
      "cell_type": "code",
      "source": [
        "for generation in range(num_generations):\n",
        "  fitness_scores = [fitness1(team_set) for team_set in population] # calculate fitness score\n",
        "  parents = selection(population, fitness_scores, num_parents) # select rank top 10\n",
        "  print(min(fitness_scores))\n",
        "  team_sets = []\n",
        "  for i in range(0, len(parents), 2): # step = 2 , start crossover \n",
        "    if i + 1 < len(parents): # len parents = num_parents\n",
        "      team_set1, team_set2 = crossover(parents[i], parents[i+1]) # (0,1),(2,3),(4,5)\n",
        "      team_sets.append(team_set1)\n",
        "      team_sets.append(team_set2)\n",
        "    else: break # end crossover\n",
        "  team_sets = [mutation(team_set) for team_set in team_sets] # matation\n",
        "  population = parents + team_sets # final data in generation"
      ],
      "metadata": {
        "id": "STZPhYWUrTiv",
        "colab": {
          "base_uri": "https://localhost:8080/"
        },
        "outputId": "32a14c0e-ba36-4f16-d796-58e1bbb9a438"
      },
      "execution_count": null,
      "outputs": [
        {
          "output_type": "stream",
          "name": "stdout",
          "text": [
            "4.259857840142335\n",
            "4.259857840142335\n",
            "4.259857840142335\n",
            "3.2484038508896917\n",
            "3.2484038508896917\n",
            "3.2484038508896917\n",
            "3.2484038508896917\n",
            "2.820450746605419\n",
            "2.820450746605419\n",
            "2.820450746605419\n",
            "2.356926831616147\n",
            "2.356926831616147\n",
            "2.3435218224060836\n",
            "2.3435218224060836\n",
            "1.971658762215719\n",
            "1.971658762215719\n",
            "1.6942198017456853\n",
            "1.6942198017456853\n",
            "1.6942198017456853\n",
            "1.6942198017456853\n",
            "1.6942198017456853\n",
            "1.6942198017456853\n",
            "1.6942198017456853\n",
            "1.6942198017456853\n",
            "1.6942198017456853\n",
            "1.6942198017456853\n",
            "1.6942198017456853\n",
            "1.6942198017456853\n",
            "1.4951060835612142\n",
            "1.4951060835612142\n",
            "1.4951060835612142\n",
            "1.4951060835612142\n",
            "1.4951060835612142\n",
            "1.4951060835612142\n",
            "1.4951060835612142\n",
            "1.4951060835612142\n",
            "1.4951060835612142\n",
            "1.4951060835612142\n",
            "1.4951060835612142\n",
            "1.4951060835612142\n",
            "1.4530231040762507\n",
            "1.4530231040762507\n",
            "1.4530231040762507\n",
            "1.4530231040762507\n",
            "1.4530231040762507\n",
            "1.4530231040762507\n",
            "1.3825424543345715\n",
            "1.3825424543345715\n",
            "1.3825424543345715\n",
            "1.3825424543345715\n",
            "1.3825424543345715\n",
            "1.3825424543345715\n",
            "1.3106442465991952\n",
            "1.3106442465991952\n",
            "1.3106442465991952\n",
            "1.3106442465991952\n",
            "1.3106442465991952\n",
            "1.3106442465991952\n",
            "1.3106442465991952\n",
            "1.3106442465991952\n",
            "1.3106442465991952\n",
            "1.3106442465991952\n",
            "1.3106442465991952\n",
            "1.3106442465991952\n",
            "1.3106442465991952\n",
            "1.2740580361764822\n",
            "1.1322424510326365\n",
            "1.1322424510326365\n",
            "1.1322424510326365\n",
            "1.1300479751418544\n",
            "1.1300479751418544\n",
            "1.1300479751418544\n",
            "1.1300479751418544\n",
            "1.1300479751418544\n",
            "1.1300479751418544\n",
            "1.1300479751418544\n",
            "1.1300479751418544\n",
            "1.1300479751418544\n",
            "1.1300479751418544\n",
            "1.1300479751418544\n",
            "1.1300479751418544\n",
            "1.1042013162761124\n",
            "1.1042013162761124\n",
            "1.1042013162761124\n",
            "1.1042013162761124\n",
            "1.1042013162761124\n",
            "1.1041740827632525\n",
            "1.1041740827632525\n",
            "1.1041740827632525\n",
            "1.1041740827632525\n",
            "1.1041740827632525\n",
            "1.1041740827632525\n",
            "1.1041740827632525\n",
            "1.1041740827632525\n",
            "1.1041740827632525\n",
            "1.0007848773430807\n",
            "1.0007848773430807\n",
            "1.0007848773430807\n",
            "0.9559570516414068\n",
            "0.9559570516414068\n"
          ]
        }
      ]
    },
    {
      "cell_type": "markdown",
      "source": [],
      "metadata": {
        "id": "siqStGsqT4tM"
      }
    },
    {
      "cell_type": "code",
      "source": [
        "fitness_scores = [fitness1(team_set) for team_set in population]\n",
        "best_team_set = population[np.argmin(fitness_scores)]\n",
        "np.min(fitness_scores)\n"
      ],
      "metadata": {
        "colab": {
          "base_uri": "https://localhost:8080/"
        },
        "id": "8kTv9ttVTypm",
        "outputId": "bfbb99a3-358f-40a1-ab86-9704f586313b"
      },
      "execution_count": null,
      "outputs": [
        {
          "output_type": "execute_result",
          "data": {
            "text/plain": [
              "0.9559570516414068"
            ]
          },
          "metadata": {},
          "execution_count": 311
        }
      ]
    },
    {
      "cell_type": "code",
      "source": [
        "plt.plot(fitness_scores)"
      ],
      "metadata": {
        "colab": {
          "base_uri": "https://localhost:8080/"
        },
        "id": "QJrMy6KY9osf",
        "outputId": "82583e53-0f88-482a-d36c-9fabb96a50b6"
      },
      "execution_count": null,
      "outputs": [
        {
          "output_type": "execute_result",
          "data": {
            "text/plain": [
              "[<matplotlib.lines.Line2D at 0x7f25a0702ee0>]"
            ]
          },
          "metadata": {},
          "execution_count": 312
        },
        {
          "output_type": "display_data",
          "data": {
            "text/plain": [
              "<Figure size 432x288 with 1 Axes>"
            ],
            "image/png": "[encoded data removed]"
          },
          "metadata": {}
        }
      ]
    },
    {
      "cell_type": "code",
      "source": [
        "df[\"group\"] = best_team_set"
      ],
      "metadata": {
        "id": "yg2cgVeCeMnA"
      },
      "execution_count": null,
      "outputs": []
    },
    {
      "cell_type": "code",
      "source": [
        "df.groupby(\"group\").mean().plot(kind=\"bar\")"
      ],
      "metadata": {
        "colab": {
          "base_uri": "https://localhost:8080/"
        },
        "id": "bQ_UoQjNeRjk",
        "outputId": "3deab938-23ee-48b5-8904-b7785ce7a53b"
      },
      "execution_count": null,
      "outputs": [
        {
          "output_type": "execute_result",
          "data": {
            "text/plain": [
              "<matplotlib.axes._subplots.AxesSubplot at 0x7f25a0702d00>"
            ]
          },
          "metadata": {},
          "execution_count": 314
        },
        {
          "output_type": "display_data",
          "data": {
            "text/plain": [
              "<Figure size 432x288 with 1 Axes>"
            ],
            "image/png": "[encoded data removed]"
          },
          "metadata": {}
        }
      ]
    },
    {
      "cell_type": "code",
      "source": [
        "df[df['group'] == 1].mean()"
      ],
      "metadata": {
        "colab": {
          "base_uri": "https://localhost:8080/"
        },
        "id": "wON9Sbz3jxD2",
        "outputId": "777758fe-19d5-4bc5-b5b4-9d0708f3ce7b"
      },
      "execution_count": null,
      "outputs": [
        {
          "output_type": "stream",
          "name": "stderr",
          "text": [
            "<ipython-input-315-592df3c06ae4>:1: FutureWarning: Dropping of nuisance columns in DataFrame reductions (with 'numeric_only=None') is deprecated; in a future version this will raise TypeError.  Select only valid columns before calling the reduction.\n",
            "  df[df['group'] == 1].mean()\n"
          ]
        },
        {
          "output_type": "execute_result",
          "data": {
            "text/plain": [
              "weight     72.631285\n",
              "height    168.430168\n",
              "age        41.206704\n",
              "BMI        25.313313\n",
              "group       1.000000\n",
              "dtype: float64"
            ]
          },
          "metadata": {},
          "execution_count": 315
        }
      ]
    },
    {
      "cell_type": "code",
      "source": [
        "df[df['group'] == 0].mean()"
      ],
      "metadata": {
        "colab": {
          "base_uri": "https://localhost:8080/"
        },
        "id": "D9Nn5_WEeUCP",
        "outputId": "9712850e-7f8b-47a0-9255-05ec46b8c1fc"
      },
      "execution_count": null,
      "outputs": [
        {
          "output_type": "stream",
          "name": "stderr",
          "text": [
            "<ipython-input-316-71df49d2b1ac>:1: FutureWarning: Dropping of nuisance columns in DataFrame reductions (with 'numeric_only=None') is deprecated; in a future version this will raise TypeError.  Select only valid columns before calling the reduction.\n",
            "  df[df['group'] == 0].mean()\n"
          ]
        },
        {
          "output_type": "execute_result",
          "data": {
            "text/plain": [
              "weight     71.586592\n",
              "height    167.407821\n",
              "age        41.268156\n",
              "BMI        25.252142\n",
              "group       0.000000\n",
              "dtype: float64"
            ]
          },
          "metadata": {},
          "execution_count": 316
        }
      ]
    },
    {
      "cell_type": "code",
      "source": [
        "df.groupby(['group', 'gender']).size().reset_index(name='counts')"
      ],
      "metadata": {
        "colab": {
          "base_uri": "https://localhost:8080/"
        },
        "id": "okAz3omJkLAM",
        "outputId": "5bff2ae8-aaff-4f8a-aa66-daeb6f52b37e"
      },
      "execution_count": null,
      "outputs": [
        {
          "output_type": "execute_result",
          "data": {
            "text/plain": [
              "   group  gender  counts\n",
              "0      0  Female     118\n",
              "1      0    Male      61\n",
              "2      1  Female     118\n",
              "3      1    Male      61"
            ],
            "text/html": [
              "\n",
              "  <div id=\"df-cbdc5906-6658-4836-a967-545e071ae5ea\">\n",
              "    <div class=\"colab-df-container\">\n",
              "      <div>\n",
              "<style scoped>\n",
              "    .dataframe tbody tr th:only-of-type {\n",
              "        vertical-align: middle;\n",
              "    }\n",
              "\n",
              "    .dataframe tbody tr th {\n",
              "        vertical-align: top;\n",
              "    }\n",
              "\n",
              "    .dataframe thead th {\n",
              "        text-align: right;\n",
              "    }\n",
              "</style>\n",
              "<table border=\"1\" class=\"dataframe\">\n",
              "  <thead>\n",
              "    <tr style=\"text-align: right;\">\n",
              "      <th></th>\n",
              "      <th>group</th>\n",
              "      <th>gender</th>\n",
              "      <th>counts</th>\n",
              "    </tr>\n",
              "  </thead>\n",
              "  <tbody>\n",
              "    <tr>\n",
              "      <th>0</th>\n",
              "      <td>0</td>\n",
              "      <td>Female</td>\n",
              "      <td>118</td>\n",
              "    </tr>\n",
              "    <tr>\n",
              "      <th>1</th>\n",
              "      <td>0</td>\n",
              "      <td>Male</td>\n",
              "      <td>61</td>\n",
              "    </tr>\n",
              "    <tr>\n",
              "      <th>2</th>\n",
              "      <td>1</td>\n",
              "      <td>Female</td>\n",
              "      <td>118</td>\n",
              "    </tr>\n",
              "    <tr>\n",
              "      <th>3</th>\n",
              "      <td>1</td>\n",
              "      <td>Male</td>\n",
              "      <td>61</td>\n",
              "    </tr>\n",
              "  </tbody>\n",
              "</table>\n",
              "</div>\n",
              "      <button class=\"colab-df-convert\" onclick=\"convertToInteractive('df-cbdc5906-6658-4836-a967-545e071ae5ea')\"\n",
              "              title=\"Convert this dataframe to an interactive table.\"\n",
              "              style=\"display:none;\">\n",
              "        \n",
              "  <svg xmlns=\"http://www.w3.org/2000/svg\" height=\"24px\"viewBox=\"0 0 24 24\"\n",
              "       width=\"24px\">\n",
              "    <path d=\"M0 0h24v24H0V0z\" fill=\"none\"/>\n",
              "    <path d=\"M18.56 5.44l.94 2.06.94-2.06 2.06-.94-2.06-.94-.94-2.06-.94 2.06-2.06.94zm-11 1L8.5 8.5l.94-2.06 2.06-.94-2.06-.94L8.5 2.5l-.94 2.06-2.06.94zm10 10l.94 2.06.94-2.06 2.06-.94-2.06-.94-.94-2.06-.94 2.06-2.06.94z\"/><path d=\"M17.41 7.96l-1.37-1.37c-.4-.4-.92-.59-1.43-.59-.52 0-1.04.2-1.43.59L10.3 9.45l-7.72 7.72c-.78.78-.78 2.05 0 2.83L4 21.41c.39.39.9.59 1.41.59.51 0 1.02-.2 1.41-.59l7.78-7.78 2.81-2.81c.8-.78.8-2.07 0-2.86zM5.41 20L4 18.59l7.72-7.72 1.47 1.35L5.41 20z\"/>\n",
              "  </svg>\n",
              "      </button>\n",
              "      \n",
              "  <style>\n",
              "    .colab-df-container {\n",
              "      display:flex;\n",
              "      flex-wrap:wrap;\n",
              "      gap: 12px;\n",
              "    }\n",
              "\n",
              "    .colab-df-convert {\n",
              "      background-color: #E8F0FE;\n",
              "      border: none;\n",
              "      border-radius: 50%;\n",
              "      cursor: pointer;\n",
              "      display: none;\n",
              "      fill: #1967D2;\n",
              "      height: 32px;\n",
              "      padding: 0 0 0 0;\n",
              "      width: 32px;\n",
              "    }\n",
              "\n",
              "    .colab-df-convert:hover {\n",
              "      background-color: #E2EBFA;\n",
              "      box-shadow: 0px 1px 2px rgba(60, 64, 67, 0.3), 0px 1px 3px 1px rgba(60, 64, 67, 0.15);\n",
              "      fill: #174EA6;\n",
              "    }\n",
              "\n",
              "    [theme=dark] .colab-df-convert {\n",
              "      background-color: #3B4455;\n",
              "      fill: #D2E3FC;\n",
              "    }\n",
              "\n",
              "    [theme=dark] .colab-df-convert:hover {\n",
              "      background-color: #434B5C;\n",
              "      box-shadow: 0px 1px 3px 1px rgba(0, 0, 0, 0.15);\n",
              "      filter: drop-shadow(0px 1px 2px rgba(0, 0, 0, 0.3));\n",
              "      fill: #FFFFFF;\n",
              "    }\n",
              "  </style>\n",
              "\n",
              "      <script>\n",
              "        const buttonEl =\n",
              "          document.querySelector('#df-cbdc5906-6658-4836-a967-545e071ae5ea button.colab-df-convert');\n",
              "        buttonEl.style.display =\n",
              "          google.colab.kernel.accessAllowed ? 'block' : 'none';\n",
              "\n",
              "        async function convertToInteractive(key) {\n",
              "          const element = document.querySelector('#df-cbdc5906-6658-4836-a967-545e071ae5ea');\n",
              "          const dataTable =\n",
              "            await google.colab.kernel.invokeFunction('convertToInteractive',\n",
              "                                                     [key], {});\n",
              "          if (!dataTable) return;\n",
              "\n",
              "          const docLinkHtml = 'Like what you see? Visit the ' +\n",
              "            '<a target=\"_blank\" href=https://colab.research.google.com/notebooks/data_table.ipynb>data table notebook</a>'\n",
              "            + ' to learn more about interactive tables.';\n",
              "          element.innerHTML = '';\n",
              "          dataTable['output_type'] = 'display_data';\n",
              "          await google.colab.output.renderOutput(dataTable, element);\n",
              "          const docLink = document.createElement('div');\n",
              "          docLink.innerHTML = docLinkHtml;\n",
              "          element.appendChild(docLink);\n",
              "        }\n",
              "      </script>\n",
              "    </div>\n",
              "  </div>\n",
              "  "
            ]
          },
          "metadata": {},
          "execution_count": 317
        }
      ]
    },
    {
      "cell_type": "code",
      "source": [
        "df['gender'].value_counts()"
      ],
      "metadata": {
        "colab": {
          "base_uri": "https://localhost:8080/"
        },
        "id": "9Yg2591-nnrE",
        "outputId": "74c77b33-4d52-4f7d-afe7-6bf95ddc0261"
      },
      "execution_count": null,
      "outputs": [
        {
          "output_type": "execute_result",
          "data": {
            "text/plain": [
              "Female    236\n",
              "Male      122\n",
              "Name: gender, dtype: int64"
            ]
          },
          "metadata": {},
          "execution_count": 318
        }
      ]
    },
    {
      "cell_type": "code",
      "source": [
        "a = df[df['group']== 0].groupby(['department']).size()\n",
        "b = df[df['group']== 1].groupby(['department']).size()\n",
        "c =  pd.concat([a, b], axis=1)\n",
        "print(c)\n",
        "\n",
        "dif =  abs( a - b ).reset_index(name='dif')\n",
        "print(dif)\n",
        "\n",
        "plt.plot(c)"
      ],
      "metadata": {
        "colab": {
          "base_uri": "https://localhost:8080/"
        },
        "id": "tYyEY7zl1Ta4",
        "outputId": "0e46c8f9-d2e4-4823-f169-e95a4166ec32"
      },
      "execution_count": null,
      "outputs": [
        {
          "output_type": "stream",
          "name": "stdout",
          "text": [
            "               0   1\n",
            "department          \n",
            "A            4.0   2\n",
            "C            3.0   3\n",
            "D           36.0  36\n",
            "E            7.0   7\n",
            "F           14.0  14\n",
            "G           20.0  20\n",
            "H            5.0   5\n",
            "I            3.0   4\n",
            "J           15.0  14\n",
            "K            7.0  12\n",
            "L            5.0   5\n",
            "M            8.0   6\n",
            "N            4.0   4\n",
            "O           17.0  15\n",
            "P           11.0  11\n",
            "Q            2.0   3\n",
            "R           12.0  11\n",
            "S            6.0   6\n",
            "B            NaN   1\n",
            "   department  dif\n",
            "0           A  2.0\n",
            "1           B  NaN\n",
            "2           C  0.0\n",
            "3           D  0.0\n",
            "4           E  0.0\n",
            "5           F  0.0\n",
            "6           G  0.0\n",
            "7           H  0.0\n",
            "8           I  1.0\n",
            "9           J  1.0\n",
            "10          K  5.0\n",
            "11          L  0.0\n",
            "12          M  2.0\n",
            "13          N  0.0\n",
            "14          O  2.0\n",
            "15          P  0.0\n",
            "16          Q  1.0\n",
            "17          R  1.0\n",
            "18          S  0.0\n"
          ]
        },
        {
          "output_type": "execute_result",
          "data": {
            "text/plain": [
              "[<matplotlib.lines.Line2D at 0x7f25a02a1af0>,\n",
              " <matplotlib.lines.Line2D at 0x7f25a030b880>]"
            ]
          },
          "metadata": {},
          "execution_count": 319
        },
        {
          "output_type": "display_data",
          "data": {
            "text/plain": [
              "<Figure size 432x288 with 1 Axes>"
            ],
            "image/png": "[encoded data removed]"
          },
          "metadata": {}
        }
      ]
    },
    {
      "cell_type": "code",
      "source": [
        " "
      ],
      "metadata": {
        "id": "s24rmICmP98w"
      },
      "execution_count": null,
      "outputs": []
    },
    {
      "cell_type": "markdown",
      "source": [
        "#Basic Narual Network"
      ],
      "metadata": {
        "id": "h1tqbAzDWDAD"
      }
    },
    {
      "cell_type": "markdown",
      "source": [
        "##Multilayer Perceptron from Scratch"
      ],
      "metadata": {
        "id": "GI_LITPWZKad"
      }
    },
    {
      "cell_type": "markdown",
      "source": [
        "https://colab.research.google.com/drive/1ebvDCrmLGA70yoqFaWSeihf7AoV1hiez?usp=sharing"
      ],
      "metadata": {
        "id": "czVWNx2wZHEd"
      }
    },
    {
      "cell_type": "code",
      "source": [],
      "metadata": {
        "id": "-NhQyufVWIM3"
      },
      "execution_count": null,
      "outputs": []
    },
    {
      "cell_type": "markdown",
      "source": [
        "##Perceptron"
      ],
      "metadata": {
        "id": "WD7SLFodJf3q"
      }
    },
    {
      "cell_type": "code",
      "source": [
        "import numpy as np"
      ],
      "metadata": {
        "id": "1K0h9bceo-Sm"
      },
      "execution_count": null,
      "outputs": []
    },
    {
      "cell_type": "code",
      "source": [
        "# AND\n",
        "X = np.array([[1, 1], [1, -1], [-1, 1], [-1, -1]])\n",
        "Y = np.array([1, -1, -1, -1])"
      ],
      "metadata": {
        "id": "O_XK35EKIMOU"
      },
      "execution_count": null,
      "outputs": []
    },
    {
      "cell_type": "code",
      "source": [
        "# OR\n",
        "X = np.array([[1, 1], [1, -1], [-1, 1], [-1, -1]])\n",
        "Y = np.array([1, 1, 1, -1])"
      ],
      "metadata": {
        "id": "F9ErSBSkIKuM"
      },
      "execution_count": null,
      "outputs": []
    },
    {
      "cell_type": "code",
      "source": [
        "X_ = np.hstack((X, np.ones((len(X), 1), dtype=int)))\n",
        "X_"
      ],
      "metadata": {
        "colab": {
          "base_uri": "https://localhost:8080/"
        },
        "id": "dEjBsuU7CeYN",
        "outputId": "53da7355-e777-46b0-8f28-568c938d401e"
      },
      "execution_count": null,
      "outputs": [
        {
          "output_type": "execute_result",
          "data": {
            "text/plain": [
              "array([[ 1,  1,  1],\n",
              "       [ 1, -1,  1],\n",
              "       [-1,  1,  1],\n",
              "       [-1, -1,  1]])"
            ]
          },
          "metadata": {},
          "execution_count": 395
        }
      ]
    },
    {
      "cell_type": "code",
      "source": [
        "for i in range(len(Y)):\n",
        "  print(X_[i] * Y[i])"
      ],
      "metadata": {
        "colab": {
          "base_uri": "https://localhost:8080/"
        },
        "id": "bmQJPSkdAZeH",
        "outputId": "9d53ff14-d206-441c-9204-78d457fb38f7"
      },
      "execution_count": null,
      "outputs": [
        {
          "output_type": "stream",
          "name": "stdout",
          "text": [
            "[1 1 1]\n",
            "[ 1 -1  1]\n",
            "[-1  1  1]\n",
            "[ 1  1 -1]\n"
          ]
        }
      ]
    },
    {
      "cell_type": "code",
      "source": [
        "i = np.random.randint(len(X))\n",
        "W = X_[i] * Y[i]\n",
        "print(W)"
      ],
      "metadata": {
        "colab": {
          "base_uri": "https://localhost:8080/"
        },
        "id": "HeZgKnMFA50c",
        "outputId": "06cd2294-dced-40a1-80dd-de627660a55d"
      },
      "execution_count": null,
      "outputs": [
        {
          "output_type": "stream",
          "name": "stdout",
          "text": [
            "[-1  1  1]\n"
          ]
        }
      ]
    },
    {
      "cell_type": "code",
      "source": [
        "all_pass = False\n",
        "while not all_pass:\n",
        "  all_pass = True\n",
        "  for i in range(len(X_)):\n",
        "    x = X_[i] * Y[i]\n",
        "    p = np.dot(W, x)\n",
        "    print(p)\n",
        "    if p < 0:\n",
        "      all_pass = False\n",
        "      W = W + x\n",
        "      print(W)\n",
        "      break"
      ],
      "metadata": {
        "colab": {
          "base_uri": "https://localhost:8080/"
        },
        "id": "gbPeWX3oDlxC",
        "outputId": "c89d6778-1b34-4399-d510-d8fc008fd5b8"
      },
      "execution_count": null,
      "outputs": [
        {
          "output_type": "stream",
          "name": "stdout",
          "text": [
            "1\n",
            "-1\n",
            "[0 0 2]\n",
            "2\n",
            "2\n",
            "2\n",
            "-2\n",
            "[1 1 1]\n",
            "3\n",
            "1\n",
            "1\n",
            "1\n"
          ]
        }
      ]
    },
    {
      "cell_type": "code",
      "source": [
        "z = np.sign(X_ @ W[:, None]).flatten()"
      ],
      "metadata": {
        "id": "7gnLdywfEWBk"
      },
      "execution_count": null,
      "outputs": []
    },
    {
      "cell_type": "code",
      "source": [
        "np.sum(z == Y) / len(Y) * 100"
      ],
      "metadata": {
        "colab": {
          "base_uri": "https://localhost:8080/"
        },
        "id": "xpZF10H5G8En",
        "outputId": "e1f30b5a-e1c2-4746-958a-931dc2ef09ef"
      },
      "execution_count": null,
      "outputs": [
        {
          "output_type": "execute_result",
          "data": {
            "text/plain": [
              "100.0"
            ]
          },
          "metadata": {},
          "execution_count": 400
        }
      ]
    },
    {
      "cell_type": "markdown",
      "source": [
        "##MLP - Multi Layer Perceptron"
      ],
      "metadata": {
        "id": "mUghSvbBKhjX"
      }
    },
    {
      "cell_type": "code",
      "source": [],
      "metadata": {
        "id": "1GpRGCQHKhKP"
      },
      "execution_count": null,
      "outputs": []
    },
    {
      "cell_type": "markdown",
      "source": [],
      "metadata": {
        "id": "YlEDIvK4LDq2"
      }
    },
    {
      "cell_type": "markdown",
      "source": [
        "![](https://drive.google.com/uc?id=11AAw5QZZSU8ha5r-m4LBHi4uAq2-iLrX)"
      ],
      "metadata": {
        "id": "MjHdyilULVPt"
      }
    },
    {
      "cell_type": "markdown",
      "source": [
        "![]()"
      ],
      "metadata": {
        "id": "kVRuxLRALwKl"
      }
    },
    {
      "cell_type": "markdown",
      "source": [
        "![](https://drive.google.com/uc?id=1D3N68l6OXqNBE5hRxW2PUFlxtIMa3Ig9)"
      ],
      "metadata": {
        "id": "ySw2v_1ML0Nq"
      }
    },
    {
      "cell_type": "code",
      "source": [
        "import seaborn as sns\n",
        "df = sns.load_dataset('iris')"
      ],
      "metadata": {
        "id": "FbLzv0HoMMpt"
      },
      "execution_count": null,
      "outputs": []
    },
    {
      "cell_type": "code",
      "source": [
        "df"
      ],
      "metadata": {
        "colab": {
          "base_uri": "https://localhost:8080/"
        },
        "id": "IL62A6SLLXCy",
        "outputId": "fd5857a4-a10b-45f5-deea-c7ab2e1193c2"
      },
      "execution_count": null,
      "outputs": [
        {
          "output_type": "execute_result",
          "data": {
            "text/plain": [
              "     sepal_length  sepal_width  petal_length  petal_width    species\n",
              "0             5.1          3.5           1.4          0.2     setosa\n",
              "1             4.9          3.0           1.4          0.2     setosa\n",
              "2             4.7          3.2           1.3          0.2     setosa\n",
              "3             4.6          3.1           1.5          0.2     setosa\n",
              "4             5.0          3.6           1.4          0.2     setosa\n",
              "..            ...          ...           ...          ...        ...\n",
              "145           6.7          3.0           5.2          2.3  virginica\n",
              "146           6.3          2.5           5.0          1.9  virginica\n",
              "147           6.5          3.0           5.2          2.0  virginica\n",
              "148           6.2          3.4           5.4          2.3  virginica\n",
              "149           5.9          3.0           5.1          1.8  virginica\n",
              "\n",
              "[150 rows x 5 columns]"
            ],
            "text/html": [
              "\n",
              "  <div id=\"df-c23c1e2b-9a62-4778-93ba-51ca0f97f373\">\n",
              "    <div class=\"colab-df-container\">\n",
              "      <div>\n",
              "<style scoped>\n",
              "    .dataframe tbody tr th:only-of-type {\n",
              "        vertical-align: middle;\n",
              "    }\n",
              "\n",
              "    .dataframe tbody tr th {\n",
              "        vertical-align: top;\n",
              "    }\n",
              "\n",
              "    .dataframe thead th {\n",
              "        text-align: right;\n",
              "    }\n",
              "</style>\n",
              "<table border=\"1\" class=\"dataframe\">\n",
              "  <thead>\n",
              "    <tr style=\"text-align: right;\">\n",
              "      <th></th>\n",
              "      <th>sepal_length</th>\n",
              "      <th>sepal_width</th>\n",
              "      <th>petal_length</th>\n",
              "      <th>petal_width</th>\n",
              "      <th>species</th>\n",
              "    </tr>\n",
              "  </thead>\n",
              "  <tbody>\n",
              "    <tr>\n",
              "      <th>0</th>\n",
              "      <td>5.1</td>\n",
              "      <td>3.5</td>\n",
              "      <td>1.4</td>\n",
              "      <td>0.2</td>\n",
              "      <td>setosa</td>\n",
              "    </tr>\n",
              "    <tr>\n",
              "      <th>1</th>\n",
              "      <td>4.9</td>\n",
              "      <td>3.0</td>\n",
              "      <td>1.4</td>\n",
              "      <td>0.2</td>\n",
              "      <td>setosa</td>\n",
              "    </tr>\n",
              "    <tr>\n",
              "      <th>2</th>\n",
              "      <td>4.7</td>\n",
              "      <td>3.2</td>\n",
              "      <td>1.3</td>\n",
              "      <td>0.2</td>\n",
              "      <td>setosa</td>\n",
              "    </tr>\n",
              "    <tr>\n",
              "      <th>3</th>\n",
              "      <td>4.6</td>\n",
              "      <td>3.1</td>\n",
              "      <td>1.5</td>\n",
              "      <td>0.2</td>\n",
              "      <td>setosa</td>\n",
              "    </tr>\n",
              "    <tr>\n",
              "      <th>4</th>\n",
              "      <td>5.0</td>\n",
              "      <td>3.6</td>\n",
              "      <td>1.4</td>\n",
              "      <td>0.2</td>\n",
              "      <td>setosa</td>\n",
              "    </tr>\n",
              "    <tr>\n",
              "      <th>...</th>\n",
              "      <td>...</td>\n",
              "      <td>...</td>\n",
              "      <td>...</td>\n",
              "      <td>...</td>\n",
              "      <td>...</td>\n",
              "    </tr>\n",
              "    <tr>\n",
              "      <th>145</th>\n",
              "      <td>6.7</td>\n",
              "      <td>3.0</td>\n",
              "      <td>5.2</td>\n",
              "      <td>2.3</td>\n",
              "      <td>virginica</td>\n",
              "    </tr>\n",
              "    <tr>\n",
              "      <th>146</th>\n",
              "      <td>6.3</td>\n",
              "      <td>2.5</td>\n",
              "      <td>5.0</td>\n",
              "      <td>1.9</td>\n",
              "      <td>virginica</td>\n",
              "    </tr>\n",
              "    <tr>\n",
              "      <th>147</th>\n",
              "      <td>6.5</td>\n",
              "      <td>3.0</td>\n",
              "      <td>5.2</td>\n",
              "      <td>2.0</td>\n",
              "      <td>virginica</td>\n",
              "    </tr>\n",
              "    <tr>\n",
              "      <th>148</th>\n",
              "      <td>6.2</td>\n",
              "      <td>3.4</td>\n",
              "      <td>5.4</td>\n",
              "      <td>2.3</td>\n",
              "      <td>virginica</td>\n",
              "    </tr>\n",
              "    <tr>\n",
              "      <th>149</th>\n",
              "      <td>5.9</td>\n",
              "      <td>3.0</td>\n",
              "      <td>5.1</td>\n",
              "      <td>1.8</td>\n",
              "      <td>virginica</td>\n",
              "    </tr>\n",
              "  </tbody>\n",
              "</table>\n",
              "<p>150 rows × 5 columns</p>\n",
              "</div>\n",
              "      <button class=\"colab-df-convert\" onclick=\"convertToInteractive('df-c23c1e2b-9a62-4778-93ba-51ca0f97f373')\"\n",
              "              title=\"Convert this dataframe to an interactive table.\"\n",
              "              style=\"display:none;\">\n",
              "        \n",
              "  <svg xmlns=\"http://www.w3.org/2000/svg\" height=\"24px\"viewBox=\"0 0 24 24\"\n",
              "       width=\"24px\">\n",
              "    <path d=\"M0 0h24v24H0V0z\" fill=\"none\"/>\n",
              "    <path d=\"M18.56 5.44l.94 2.06.94-2.06 2.06-.94-2.06-.94-.94-2.06-.94 2.06-2.06.94zm-11 1L8.5 8.5l.94-2.06 2.06-.94-2.06-.94L8.5 2.5l-.94 2.06-2.06.94zm10 10l.94 2.06.94-2.06 2.06-.94-2.06-.94-.94-2.06-.94 2.06-2.06.94z\"/><path d=\"M17.41 7.96l-1.37-1.37c-.4-.4-.92-.59-1.43-.59-.52 0-1.04.2-1.43.59L10.3 9.45l-7.72 7.72c-.78.78-.78 2.05 0 2.83L4 21.41c.39.39.9.59 1.41.59.51 0 1.02-.2 1.41-.59l7.78-7.78 2.81-2.81c.8-.78.8-2.07 0-2.86zM5.41 20L4 18.59l7.72-7.72 1.47 1.35L5.41 20z\"/>\n",
              "  </svg>\n",
              "      </button>\n",
              "      \n",
              "  <style>\n",
              "    .colab-df-container {\n",
              "      display:flex;\n",
              "      flex-wrap:wrap;\n",
              "      gap: 12px;\n",
              "    }\n",
              "\n",
              "    .colab-df-convert {\n",
              "      background-color: #E8F0FE;\n",
              "      border: none;\n",
              "      border-radius: 50%;\n",
              "      cursor: pointer;\n",
              "      display: none;\n",
              "      fill: #1967D2;\n",
              "      height: 32px;\n",
              "      padding: 0 0 0 0;\n",
              "      width: 32px;\n",
              "    }\n",
              "\n",
              "    .colab-df-convert:hover {\n",
              "      background-color: #E2EBFA;\n",
              "      box-shadow: 0px 1px 2px rgba(60, 64, 67, 0.3), 0px 1px 3px 1px rgba(60, 64, 67, 0.15);\n",
              "      fill: #174EA6;\n",
              "    }\n",
              "\n",
              "    [theme=dark] .colab-df-convert {\n",
              "      background-color: #3B4455;\n",
              "      fill: #D2E3FC;\n",
              "    }\n",
              "\n",
              "    [theme=dark] .colab-df-convert:hover {\n",
              "      background-color: #434B5C;\n",
              "      box-shadow: 0px 1px 3px 1px rgba(0, 0, 0, 0.15);\n",
              "      filter: drop-shadow(0px 1px 2px rgba(0, 0, 0, 0.3));\n",
              "      fill: #FFFFFF;\n",
              "    }\n",
              "  </style>\n",
              "\n",
              "      <script>\n",
              "        const buttonEl =\n",
              "          document.querySelector('#df-c23c1e2b-9a62-4778-93ba-51ca0f97f373 button.colab-df-convert');\n",
              "        buttonEl.style.display =\n",
              "          google.colab.kernel.accessAllowed ? 'block' : 'none';\n",
              "\n",
              "        async function convertToInteractive(key) {\n",
              "          const element = document.querySelector('#df-c23c1e2b-9a62-4778-93ba-51ca0f97f373');\n",
              "          const dataTable =\n",
              "            await google.colab.kernel.invokeFunction('convertToInteractive',\n",
              "                                                     [key], {});\n",
              "          if (!dataTable) return;\n",
              "\n",
              "          const docLinkHtml = 'Like what you see? Visit the ' +\n",
              "            '<a target=\"_blank\" href=https://colab.research.google.com/notebooks/data_table.ipynb>data table notebook</a>'\n",
              "            + ' to learn more about interactive tables.';\n",
              "          element.innerHTML = '';\n",
              "          dataTable['output_type'] = 'display_data';\n",
              "          await google.colab.output.renderOutput(dataTable, element);\n",
              "          const docLink = document.createElement('div');\n",
              "          docLink.innerHTML = docLinkHtml;\n",
              "          element.appendChild(docLink);\n",
              "        }\n",
              "      </script>\n",
              "    </div>\n",
              "  </div>\n",
              "  "
            ]
          },
          "metadata": {},
          "execution_count": 402
        }
      ]
    },
    {
      "cell_type": "code",
      "source": [
        "X = df.iloc[:, :-1].values"
      ],
      "metadata": {
        "id": "RzHm1yWuLXd6"
      },
      "execution_count": null,
      "outputs": []
    },
    {
      "cell_type": "code",
      "source": [
        "X.shape"
      ],
      "metadata": {
        "colab": {
          "base_uri": "https://localhost:8080/"
        },
        "id": "9IXmqzSOLk-S",
        "outputId": "46dae5a5-57c8-4115-ecb1-84315089d930"
      },
      "execution_count": null,
      "outputs": [
        {
          "output_type": "execute_result",
          "data": {
            "text/plain": [
              "(150, 4)"
            ]
          },
          "metadata": {},
          "execution_count": 404
        }
      ]
    },
    {
      "cell_type": "code",
      "source": [
        "y = df.iloc[:, -1].values"
      ],
      "metadata": {
        "id": "yL_ivEI_Llix"
      },
      "execution_count": null,
      "outputs": []
    },
    {
      "cell_type": "code",
      "source": [
        "np.unique(y)"
      ],
      "metadata": {
        "colab": {
          "base_uri": "https://localhost:8080/"
        },
        "id": "9rx7GyGELu06",
        "outputId": "9ca69de8-5cd3-406c-fec5-b171b3c88c2b"
      },
      "execution_count": null,
      "outputs": [
        {
          "output_type": "execute_result",
          "data": {
            "text/plain": [
              "array(['setosa', 'versicolor', 'virginica'], dtype=object)"
            ]
          },
          "metadata": {},
          "execution_count": 406
        }
      ]
    },
    {
      "cell_type": "code",
      "source": [
        "def onehotencoder(y):\n",
        "  labels = list(np.unique(y))\n",
        "  Y = np.zeros((len(y), len(labels)))\n",
        "  for i in range(len(y)):\n",
        "    Y[i, labels.index(y[i])] = 1\n",
        "  return Y, labels"
      ],
      "metadata": {
        "id": "adz4MO3RLzdp"
      },
      "execution_count": null,
      "outputs": []
    },
    {
      "cell_type": "code",
      "source": [
        "Y, labels = onehotencoder(y)\n",
        "Y"
      ],
      "metadata": {
        "colab": {
          "base_uri": "https://localhost:8080/"
        },
        "id": "G0FcwTxbNgRD",
        "outputId": "dff8a246-5187-47f2-cbe5-2399f1768a2d"
      },
      "execution_count": null,
      "outputs": [
        {
          "output_type": "execute_result",
          "data": {
            "text/plain": [
              "array([[1., 0., 0.],\n",
              "       [1., 0., 0.],\n",
              "       [1., 0., 0.],\n",
              "       [1., 0., 0.],\n",
              "       [1., 0., 0.],\n",
              "       [1., 0., 0.],\n",
              "       [1., 0., 0.],\n",
              "       [1., 0., 0.],\n",
              "       [1., 0., 0.],\n",
              "       [1., 0., 0.],\n",
              "       [1., 0., 0.],\n",
              "       [1., 0., 0.],\n",
              "       [1., 0., 0.],\n",
              "       [1., 0., 0.],\n",
              "       [1., 0., 0.],\n",
              "       [1., 0., 0.],\n",
              "       [1., 0., 0.],\n",
              "       [1., 0., 0.],\n",
              "       [1., 0., 0.],\n",
              "       [1., 0., 0.],\n",
              "       [1., 0., 0.],\n",
              "       [1., 0., 0.],\n",
              "       [1., 0., 0.],\n",
              "       [1., 0., 0.],\n",
              "       [1., 0., 0.],\n",
              "       [1., 0., 0.],\n",
              "       [1., 0., 0.],\n",
              "       [1., 0., 0.],\n",
              "       [1., 0., 0.],\n",
              "       [1., 0., 0.],\n",
              "       [1., 0., 0.],\n",
              "       [1., 0., 0.],\n",
              "       [1., 0., 0.],\n",
              "       [1., 0., 0.],\n",
              "       [1., 0., 0.],\n",
              "       [1., 0., 0.],\n",
              "       [1., 0., 0.],\n",
              "       [1., 0., 0.],\n",
              "       [1., 0., 0.],\n",
              "       [1., 0., 0.],\n",
              "       [1., 0., 0.],\n",
              "       [1., 0., 0.],\n",
              "       [1., 0., 0.],\n",
              "       [1., 0., 0.],\n",
              "       [1., 0., 0.],\n",
              "       [1., 0., 0.],\n",
              "       [1., 0., 0.],\n",
              "       [1., 0., 0.],\n",
              "       [1., 0., 0.],\n",
              "       [1., 0., 0.],\n",
              "       [0., 1., 0.],\n",
              "       [0., 1., 0.],\n",
              "       [0., 1., 0.],\n",
              "       [0., 1., 0.],\n",
              "       [0., 1., 0.],\n",
              "       [0., 1., 0.],\n",
              "       [0., 1., 0.],\n",
              "       [0., 1., 0.],\n",
              "       [0., 1., 0.],\n",
              "       [0., 1., 0.],\n",
              "       [0., 1., 0.],\n",
              "       [0., 1., 0.],\n",
              "       [0., 1., 0.],\n",
              "       [0., 1., 0.],\n",
              "       [0., 1., 0.],\n",
              "       [0., 1., 0.],\n",
              "       [0., 1., 0.],\n",
              "       [0., 1., 0.],\n",
              "       [0., 1., 0.],\n",
              "       [0., 1., 0.],\n",
              "       [0., 1., 0.],\n",
              "       [0., 1., 0.],\n",
              "       [0., 1., 0.],\n",
              "       [0., 1., 0.],\n",
              "       [0., 1., 0.],\n",
              "       [0., 1., 0.],\n",
              "       [0., 1., 0.],\n",
              "       [0., 1., 0.],\n",
              "       [0., 1., 0.],\n",
              "       [0., 1., 0.],\n",
              "       [0., 1., 0.],\n",
              "       [0., 1., 0.],\n",
              "       [0., 1., 0.],\n",
              "       [0., 1., 0.],\n",
              "       [0., 1., 0.],\n",
              "       [0., 1., 0.],\n",
              "       [0., 1., 0.],\n",
              "       [0., 1., 0.],\n",
              "       [0., 1., 0.],\n",
              "       [0., 1., 0.],\n",
              "       [0., 1., 0.],\n",
              "       [0., 1., 0.],\n",
              "       [0., 1., 0.],\n",
              "       [0., 1., 0.],\n",
              "       [0., 1., 0.],\n",
              "       [0., 1., 0.],\n",
              "       [0., 1., 0.],\n",
              "       [0., 1., 0.],\n",
              "       [0., 1., 0.],\n",
              "       [0., 1., 0.],\n",
              "       [0., 0., 1.],\n",
              "       [0., 0., 1.],\n",
              "       [0., 0., 1.],\n",
              "       [0., 0., 1.],\n",
              "       [0., 0., 1.],\n",
              "       [0., 0., 1.],\n",
              "       [0., 0., 1.],\n",
              "       [0., 0., 1.],\n",
              "       [0., 0., 1.],\n",
              "       [0., 0., 1.],\n",
              "       [0., 0., 1.],\n",
              "       [0., 0., 1.],\n",
              "       [0., 0., 1.],\n",
              "       [0., 0., 1.],\n",
              "       [0., 0., 1.],\n",
              "       [0., 0., 1.],\n",
              "       [0., 0., 1.],\n",
              "       [0., 0., 1.],\n",
              "       [0., 0., 1.],\n",
              "       [0., 0., 1.],\n",
              "       [0., 0., 1.],\n",
              "       [0., 0., 1.],\n",
              "       [0., 0., 1.],\n",
              "       [0., 0., 1.],\n",
              "       [0., 0., 1.],\n",
              "       [0., 0., 1.],\n",
              "       [0., 0., 1.],\n",
              "       [0., 0., 1.],\n",
              "       [0., 0., 1.],\n",
              "       [0., 0., 1.],\n",
              "       [0., 0., 1.],\n",
              "       [0., 0., 1.],\n",
              "       [0., 0., 1.],\n",
              "       [0., 0., 1.],\n",
              "       [0., 0., 1.],\n",
              "       [0., 0., 1.],\n",
              "       [0., 0., 1.],\n",
              "       [0., 0., 1.],\n",
              "       [0., 0., 1.],\n",
              "       [0., 0., 1.],\n",
              "       [0., 0., 1.],\n",
              "       [0., 0., 1.],\n",
              "       [0., 0., 1.],\n",
              "       [0., 0., 1.],\n",
              "       [0., 0., 1.],\n",
              "       [0., 0., 1.],\n",
              "       [0., 0., 1.],\n",
              "       [0., 0., 1.],\n",
              "       [0., 0., 1.],\n",
              "       [0., 0., 1.]])"
            ]
          },
          "metadata": {},
          "execution_count": 408
        }
      ]
    },
    {
      "cell_type": "markdown",
      "source": [
        "![](https://drive.google.com/uc?id=10rvU8J0gcDF6KFty054g4Y8iaivqCw8Y)"
      ],
      "metadata": {
        "id": "zvtu2-ENQn3F"
      }
    },
    {
      "cell_type": "code",
      "source": [],
      "metadata": {
        "id": "OIfPy_eXQ5w7"
      },
      "execution_count": null,
      "outputs": []
    },
    {
      "cell_type": "markdown",
      "source": [
        "(4) -> 10 -> 20 -> 10 -> (3)\n",
        "* W1 = 4+1 -> 10\n",
        "* W2 = 10+1 -> 20\n",
        "* W3 = 20+1 -> 10\n",
        "* W4 = 10+1 -> 3"
      ],
      "metadata": {
        "id": "LXe5Km2KM6qB"
      }
    },
    {
      "cell_type": "code",
      "source": [
        "h = [10, 20, 10]\n",
        "h = [X.shape[1]] + h + [len(labels)]\n",
        "h"
      ],
      "metadata": {
        "colab": {
          "base_uri": "https://localhost:8080/"
        },
        "id": "Jn2gQq5wMqHh",
        "outputId": "f5e4a806-c7f2-40ae-e215-3845797c6c98"
      },
      "execution_count": null,
      "outputs": [
        {
          "output_type": "execute_result",
          "data": {
            "text/plain": [
              "[4, 10, 20, 10, 3]"
            ]
          },
          "metadata": {},
          "execution_count": 409
        }
      ]
    },
    {
      "cell_type": "code",
      "source": [
        "W = []\n",
        "for i in range(len(h) - 1):\n",
        "  W.append(np.random.rand(h[i]+1, h[i+1]))\n",
        "print(len(W))\n",
        "print(len(W[0]))"
      ],
      "metadata": {
        "id": "iWb3AbbgN8Yh",
        "colab": {
          "base_uri": "https://localhost:8080/"
        },
        "outputId": "e9c58be9-263f-4301-b694-2d1c877ef6ba"
      },
      "execution_count": null,
      "outputs": [
        {
          "output_type": "stream",
          "name": "stdout",
          "text": [
            "4\n",
            "5\n"
          ]
        }
      ]
    },
    {
      "cell_type": "code",
      "source": [
        "for w in W:\n",
        "  print(w.shape)"
      ],
      "metadata": {
        "colab": {
          "base_uri": "https://localhost:8080/"
        },
        "id": "46wjZgJqOcxw",
        "outputId": "21889727-b907-4e55-d8cd-cd9aa984aaef"
      },
      "execution_count": null,
      "outputs": [
        {
          "output_type": "stream",
          "name": "stdout",
          "text": [
            "(5, 10)\n",
            "(11, 20)\n",
            "(21, 10)\n",
            "(11, 3)\n"
          ]
        }
      ]
    },
    {
      "cell_type": "code",
      "source": [
        "def sigmoid(x):\n",
        "  return 1 / (1 + np.exp(-x))"
      ],
      "metadata": {
        "id": "IDAPqRdwOf8h"
      },
      "execution_count": null,
      "outputs": []
    },
    {
      "cell_type": "markdown",
      "source": [
        "###forward"
      ],
      "metadata": {
        "id": "MXLJyPYTPrVj"
      }
    },
    {
      "cell_type": "code",
      "source": [
        "def aug_one(X):\n",
        "  return np.hstack((X, np.ones((len(X), 1))))"
      ],
      "metadata": {
        "id": "_2u9E8DsPxNb"
      },
      "execution_count": null,
      "outputs": []
    },
    {
      "cell_type": "code",
      "source": [
        "h1 = sigmoid(aug_one(X) @ W[0])"
      ],
      "metadata": {
        "id": "9H34rFRtPq_M"
      },
      "execution_count": null,
      "outputs": []
    },
    {
      "cell_type": "code",
      "source": [
        "h2 = sigmoid(aug_one(h1) @ W[1])\n",
        "h2.shape"
      ],
      "metadata": {
        "colab": {
          "base_uri": "https://localhost:8080/"
        },
        "id": "4Cw0Du58PuUr",
        "outputId": "3e76f881-2f17-4626-e8a1-ba1c8fef5c21"
      },
      "execution_count": null,
      "outputs": [
        {
          "output_type": "execute_result",
          "data": {
            "text/plain": [
              "(150, 20)"
            ]
          },
          "metadata": {},
          "execution_count": 415
        }
      ]
    },
    {
      "cell_type": "code",
      "source": [
        "h3 = sigmoid(aug_one(h2) @ W[2])\n",
        "h3.shape"
      ],
      "metadata": {
        "colab": {
          "base_uri": "https://localhost:8080/"
        },
        "id": "7zHMYeO0QCUj",
        "outputId": "e5bf6948-e4e3-4e3a-af2d-0f7a220087b1"
      },
      "execution_count": null,
      "outputs": [
        {
          "output_type": "execute_result",
          "data": {
            "text/plain": [
              "(150, 10)"
            ]
          },
          "metadata": {},
          "execution_count": 416
        }
      ]
    },
    {
      "cell_type": "code",
      "source": [
        "h4 = sigmoid(aug_one(h3) @ W[3])\n",
        "h4.shape"
      ],
      "metadata": {
        "colab": {
          "base_uri": "https://localhost:8080/"
        },
        "id": "AxRWret_WuM9",
        "outputId": "ea70f722-d747-476c-a703-ce58eda094c1"
      },
      "execution_count": null,
      "outputs": [
        {
          "output_type": "execute_result",
          "data": {
            "text/plain": [
              "(150, 3)"
            ]
          },
          "metadata": {},
          "execution_count": 417
        }
      ]
    },
    {
      "cell_type": "code",
      "source": [
        "X_ = X.copy()"
      ],
      "metadata": {
        "id": "-zPO-v1dXHzm"
      },
      "execution_count": null,
      "outputs": []
    },
    {
      "cell_type": "code",
      "source": [
        "X = X_.copy()\n",
        "input = [X]\n",
        "for i in range(len(W)):\n",
        "  input.append(sigmoid(aug_one(input[i]) @ W[i]))"
      ],
      "metadata": {
        "id": "ouMLeC7GXCsC"
      },
      "execution_count": null,
      "outputs": []
    },
    {
      "cell_type": "code",
      "source": [
        "len(input)"
      ],
      "metadata": {
        "colab": {
          "base_uri": "https://localhost:8080/"
        },
        "id": "ljPBTuYoXhnV",
        "outputId": "cf389624-6751-49ed-eef8-b7cc9657ed97"
      },
      "execution_count": null,
      "outputs": [
        {
          "output_type": "execute_result",
          "data": {
            "text/plain": [
              "5"
            ]
          },
          "metadata": {},
          "execution_count": 420
        }
      ]
    },
    {
      "cell_type": "code",
      "source": [
        "labels"
      ],
      "metadata": {
        "colab": {
          "base_uri": "https://localhost:8080/"
        },
        "id": "SXe3xGmQXtr6",
        "outputId": "4739cdf9-80f2-4bbc-c51c-672ba2fa59c6"
      },
      "execution_count": null,
      "outputs": [
        {
          "output_type": "execute_result",
          "data": {
            "text/plain": [
              "['setosa', 'versicolor', 'virginica']"
            ]
          },
          "metadata": {},
          "execution_count": 421
        }
      ]
    },
    {
      "cell_type": "code",
      "source": [
        "[labels[i] for i in X.argmax(axis=1)]"
      ],
      "metadata": {
        "colab": {
          "base_uri": "https://localhost:8080/"
        },
        "id": "_bHt2VmlYEKR",
        "outputId": "e198ec26-23e3-4f74-b407-ecb12b855998"
      },
      "execution_count": null,
      "outputs": [
        {
          "output_type": "execute_result",
          "data": {
            "text/plain": [
              "['setosa',\n",
              " 'setosa',\n",
              " 'setosa',\n",
              " 'setosa',\n",
              " 'setosa',\n",
              " 'setosa',\n",
              " 'setosa',\n",
              " 'setosa',\n",
              " 'setosa',\n",
              " 'setosa',\n",
              " 'setosa',\n",
              " 'setosa',\n",
              " 'setosa',\n",
              " 'setosa',\n",
              " 'setosa',\n",
              " 'setosa',\n",
              " 'setosa',\n",
              " 'setosa',\n",
              " 'setosa',\n",
              " 'setosa',\n",
              " 'setosa',\n",
              " 'setosa',\n",
              " 'setosa',\n",
              " 'setosa',\n",
              " 'setosa',\n",
              " 'setosa',\n",
              " 'setosa',\n",
              " 'setosa',\n",
              " 'setosa',\n",
              " 'setosa',\n",
              " 'setosa',\n",
              " 'setosa',\n",
              " 'setosa',\n",
              " 'setosa',\n",
              " 'setosa',\n",
              " 'setosa',\n",
              " 'setosa',\n",
              " 'setosa',\n",
              " 'setosa',\n",
              " 'setosa',\n",
              " 'setosa',\n",
              " 'setosa',\n",
              " 'setosa',\n",
              " 'setosa',\n",
              " 'setosa',\n",
              " 'setosa',\n",
              " 'setosa',\n",
              " 'setosa',\n",
              " 'setosa',\n",
              " 'setosa',\n",
              " 'setosa',\n",
              " 'setosa',\n",
              " 'setosa',\n",
              " 'setosa',\n",
              " 'setosa',\n",
              " 'setosa',\n",
              " 'setosa',\n",
              " 'setosa',\n",
              " 'setosa',\n",
              " 'setosa',\n",
              " 'setosa',\n",
              " 'setosa',\n",
              " 'setosa',\n",
              " 'setosa',\n",
              " 'setosa',\n",
              " 'setosa',\n",
              " 'setosa',\n",
              " 'setosa',\n",
              " 'setosa',\n",
              " 'setosa',\n",
              " 'setosa',\n",
              " 'setosa',\n",
              " 'setosa',\n",
              " 'setosa',\n",
              " 'setosa',\n",
              " 'setosa',\n",
              " 'setosa',\n",
              " 'setosa',\n",
              " 'setosa',\n",
              " 'setosa',\n",
              " 'setosa',\n",
              " 'setosa',\n",
              " 'setosa',\n",
              " 'setosa',\n",
              " 'setosa',\n",
              " 'setosa',\n",
              " 'setosa',\n",
              " 'setosa',\n",
              " 'setosa',\n",
              " 'setosa',\n",
              " 'setosa',\n",
              " 'setosa',\n",
              " 'setosa',\n",
              " 'setosa',\n",
              " 'setosa',\n",
              " 'setosa',\n",
              " 'setosa',\n",
              " 'setosa',\n",
              " 'setosa',\n",
              " 'setosa',\n",
              " 'setosa',\n",
              " 'setosa',\n",
              " 'setosa',\n",
              " 'setosa',\n",
              " 'setosa',\n",
              " 'setosa',\n",
              " 'setosa',\n",
              " 'setosa',\n",
              " 'setosa',\n",
              " 'setosa',\n",
              " 'setosa',\n",
              " 'setosa',\n",
              " 'setosa',\n",
              " 'setosa',\n",
              " 'setosa',\n",
              " 'setosa',\n",
              " 'setosa',\n",
              " 'setosa',\n",
              " 'setosa',\n",
              " 'setosa',\n",
              " 'setosa',\n",
              " 'setosa',\n",
              " 'setosa',\n",
              " 'setosa',\n",
              " 'setosa',\n",
              " 'setosa',\n",
              " 'setosa',\n",
              " 'setosa',\n",
              " 'setosa',\n",
              " 'setosa',\n",
              " 'setosa',\n",
              " 'setosa',\n",
              " 'setosa',\n",
              " 'setosa',\n",
              " 'setosa',\n",
              " 'setosa',\n",
              " 'setosa',\n",
              " 'setosa',\n",
              " 'setosa',\n",
              " 'setosa',\n",
              " 'setosa',\n",
              " 'setosa',\n",
              " 'setosa',\n",
              " 'setosa',\n",
              " 'setosa',\n",
              " 'setosa',\n",
              " 'setosa',\n",
              " 'setosa',\n",
              " 'setosa',\n",
              " 'setosa']"
            ]
          },
          "metadata": {},
          "execution_count": 422
        }
      ]
    },
    {
      "cell_type": "markdown",
      "source": [
        "### backward"
      ],
      "metadata": {
        "id": "dHrrJ8nIcoBF"
      }
    },
    {
      "cell_type": "markdown",
      "source": [
        "![ข้อความลิงก์](https://drive.google.com/uc?id=1Pj7yz1seM8NR4oh3x8-JnQKhaWq60Er1)"
      ],
      "metadata": {
        "id": "LRwykJL2e48P"
      }
    },
    {
      "cell_type": "markdown",
      "source": [
        "![ข้อความลิงก์](https://drive.google.com/uc?id=1X2IFwu5alIKeWSgizl4f82otOiOwtpLu)"
      ],
      "metadata": {
        "id": "R-ZXaA1FfNLO"
      }
    },
    {
      "cell_type": "markdown",
      "source": [
        "(4) -> 10 -> 20 -> 10 -> (3)\n",
        "* W1 = 4+1 -> 10\n",
        "* W2 = 10+1 -> 20\n",
        "* W3 = 20+1 -> 10\n",
        "* W4 = 10+1 -> 3"
      ],
      "metadata": {
        "id": "3goNY-M8pKNr"
      }
    },
    {
      "cell_type": "code",
      "source": [
        "lr = 0.1 # Learning Rate"
      ],
      "metadata": {
        "id": "EAq548vXr49J"
      },
      "execution_count": null,
      "outputs": []
    },
    {
      "cell_type": "code",
      "source": [
        "e = Y - input[-1]"
      ],
      "metadata": {
        "id": "qojwDkZqXasj"
      },
      "execution_count": null,
      "outputs": []
    },
    {
      "cell_type": "code",
      "source": [
        "e.shape"
      ],
      "metadata": {
        "colab": {
          "base_uri": "https://localhost:8080/"
        },
        "id": "Dl8enznbc0Aq",
        "outputId": "be0f882d-98c2-44d7-fdd1-87ee86e7e8ee"
      },
      "execution_count": null,
      "outputs": [
        {
          "output_type": "execute_result",
          "data": {
            "text/plain": [
              "(150, 3)"
            ]
          },
          "metadata": {},
          "execution_count": 425
        }
      ]
    },
    {
      "cell_type": "markdown",
      "source": [
        "delta"
      ],
      "metadata": {
        "id": "SWudn7i0sLJA"
      }
    },
    {
      "cell_type": "code",
      "source": [
        "delta = input[-1] * (1 - input[-1]) * (Y - input[-1]) #delta Output layer Ok"
      ],
      "metadata": {
        "id": "HOKEoG78c-4S"
      },
      "execution_count": null,
      "outputs": []
    },
    {
      "cell_type": "code",
      "source": [
        "delta.shape"
      ],
      "metadata": {
        "id": "--43l_1NdLdy",
        "outputId": "6bc0e788-9bb6-40fd-bcfa-f70db06a7aa0",
        "colab": {
          "base_uri": "https://localhost:8080/"
        }
      },
      "execution_count": null,
      "outputs": [
        {
          "output_type": "execute_result",
          "data": {
            "text/plain": [
              "(150, 3)"
            ]
          },
          "metadata": {},
          "execution_count": 427
        }
      ]
    },
    {
      "cell_type": "code",
      "source": [
        "input[-2].shape"
      ],
      "metadata": {
        "colab": {
          "base_uri": "https://localhost:8080/"
        },
        "id": "-Ro2itGCdMcK",
        "outputId": "25166b59-575d-4899-c206-09028f263c00"
      },
      "execution_count": null,
      "outputs": [
        {
          "output_type": "execute_result",
          "data": {
            "text/plain": [
              "(150, 10)"
            ]
          },
          "metadata": {},
          "execution_count": 428
        }
      ]
    },
    {
      "cell_type": "code",
      "source": [
        "W[-1].shape # want"
      ],
      "metadata": {
        "colab": {
          "base_uri": "https://localhost:8080/"
        },
        "id": "H0p_3hwRiP8F",
        "outputId": "64f4a9ef-0f79-478e-eec6-dd40e722180b"
      },
      "execution_count": null,
      "outputs": [
        {
          "output_type": "execute_result",
          "data": {
            "text/plain": [
              "(11, 3)"
            ]
          },
          "metadata": {},
          "execution_count": 429
        }
      ]
    },
    {
      "cell_type": "markdown",
      "source": [
        "update weight 1"
      ],
      "metadata": {
        "id": "LNm4K1v0sQN_"
      }
    },
    {
      "cell_type": "code",
      "source": [
        "dW = lr * aug_one(input[-2]).T @ delta # (11, 150) @ (150, 3)"
      ],
      "metadata": {
        "id": "qa43qP_hsEGH"
      },
      "execution_count": null,
      "outputs": []
    },
    {
      "cell_type": "code",
      "source": [
        "dW.shape"
      ],
      "metadata": {
        "colab": {
          "base_uri": "https://localhost:8080/"
        },
        "id": "ISQmNRmUsuYG",
        "outputId": "3afef30c-49bb-459f-9129-467f051c3465"
      },
      "execution_count": null,
      "outputs": [
        {
          "output_type": "execute_result",
          "data": {
            "text/plain": [
              "(11, 3)"
            ]
          },
          "metadata": {},
          "execution_count": 431
        }
      ]
    },
    {
      "cell_type": "code",
      "source": [
        "W[-1] = W[-1] + dW"
      ],
      "metadata": {
        "id": "RU6zMXs9sxC2"
      },
      "execution_count": null,
      "outputs": []
    },
    {
      "cell_type": "markdown",
      "source": [
        "delta"
      ],
      "metadata": {
        "id": "OT_sChLmtIl9"
      }
    },
    {
      "cell_type": "code",
      "source": [
        "Oh = aug_one(input[-2])\n",
        "delta_h = Oh * (1 - Oh) * (delta @ W[-1].T) #delta h  Output layer Oh 1"
      ],
      "metadata": {
        "id": "nQNJkJrEiX8E"
      },
      "execution_count": null,
      "outputs": []
    },
    {
      "cell_type": "code",
      "source": [
        "delta_h.shape"
      ],
      "metadata": {
        "colab": {
          "base_uri": "https://localhost:8080/"
        },
        "id": "E6iPktqei3cU",
        "outputId": "8020478f-1b96-4428-8e0f-cab782105946"
      },
      "execution_count": null,
      "outputs": [
        {
          "output_type": "execute_result",
          "data": {
            "text/plain": [
              "(150, 11)"
            ]
          },
          "metadata": {},
          "execution_count": 434
        }
      ]
    },
    {
      "cell_type": "code",
      "source": [
        "W[-2].shape # want (21, 10)"
      ],
      "metadata": {
        "colab": {
          "base_uri": "https://localhost:8080/"
        },
        "id": "i6c2FpU_jUhz",
        "outputId": "4b8a13db-5cf8-4b40-f6b5-533c9eb417eb"
      },
      "execution_count": null,
      "outputs": [
        {
          "output_type": "execute_result",
          "data": {
            "text/plain": [
              "(21, 10)"
            ]
          },
          "metadata": {},
          "execution_count": 435
        }
      ]
    },
    {
      "cell_type": "code",
      "source": [
        "input[-3].shape"
      ],
      "metadata": {
        "colab": {
          "base_uri": "https://localhost:8080/"
        },
        "id": "VGxZmHqytZJN",
        "outputId": "8431be23-30d9-4811-e935-2b1ecdf7f832"
      },
      "execution_count": null,
      "outputs": [
        {
          "output_type": "execute_result",
          "data": {
            "text/plain": [
              "(150, 20)"
            ]
          },
          "metadata": {},
          "execution_count": 436
        }
      ]
    },
    {
      "cell_type": "code",
      "source": [
        "delta_h[:, :-1].shape"
      ],
      "metadata": {
        "colab": {
          "base_uri": "https://localhost:8080/"
        },
        "id": "UbMHQVlGk5MT",
        "outputId": "d3c55f77-a810-4b94-b9e4-fd3633c4113b"
      },
      "execution_count": null,
      "outputs": [
        {
          "output_type": "execute_result",
          "data": {
            "text/plain": [
              "(150, 10)"
            ]
          },
          "metadata": {},
          "execution_count": 437
        }
      ]
    },
    {
      "cell_type": "markdown",
      "source": [
        "update weight 2"
      ],
      "metadata": {
        "id": "xT3Y6LedurhD"
      }
    },
    {
      "cell_type": "code",
      "source": [
        "dW = lr * aug_one(input[-3]).T @ delta_h[:, :-1]"
      ],
      "metadata": {
        "id": "crUTXV44uqkC"
      },
      "execution_count": null,
      "outputs": []
    },
    {
      "cell_type": "code",
      "source": [
        "dW.shape"
      ],
      "metadata": {
        "colab": {
          "base_uri": "https://localhost:8080/"
        },
        "id": "J_ByCgdaux5y",
        "outputId": "5410c754-0a45-4a23-f81d-9e62de737256"
      },
      "execution_count": null,
      "outputs": [
        {
          "output_type": "execute_result",
          "data": {
            "text/plain": [
              "(21, 10)"
            ]
          },
          "metadata": {},
          "execution_count": 439
        }
      ]
    },
    {
      "cell_type": "code",
      "source": [
        "W[-2] = W[-2] + dW"
      ],
      "metadata": {
        "id": "YczoHmNyvItR"
      },
      "execution_count": null,
      "outputs": []
    },
    {
      "cell_type": "markdown",
      "source": [
        "delta"
      ],
      "metadata": {
        "id": "GBhhthzMuFB7"
      }
    },
    {
      "cell_type": "code",
      "source": [
        "Oh = aug_one(input[-3])\n",
        "delta = delta_h[:, :-1]\n",
        "delta_h = Oh * (1 - Oh) * (delta @ W[-2].T) #delta h  Output layer Oh 2"
      ],
      "metadata": {
        "id": "1iF_5ZZVmWo5"
      },
      "execution_count": null,
      "outputs": []
    },
    {
      "cell_type": "code",
      "source": [
        "delta_h.shape"
      ],
      "metadata": {
        "colab": {
          "base_uri": "https://localhost:8080/"
        },
        "id": "JFQ7QfkmnVm3",
        "outputId": "9f9e36f9-ae42-4e58-ed89-63f1cb21c487"
      },
      "execution_count": null,
      "outputs": [
        {
          "output_type": "execute_result",
          "data": {
            "text/plain": [
              "(150, 21)"
            ]
          },
          "metadata": {},
          "execution_count": 442
        }
      ]
    },
    {
      "cell_type": "code",
      "source": [
        "W[-3].shape #want"
      ],
      "metadata": {
        "colab": {
          "base_uri": "https://localhost:8080/"
        },
        "id": "meKhsr08nZ-_",
        "outputId": "8df9fd17-964e-4204-d150-996c97c395d3"
      },
      "execution_count": null,
      "outputs": [
        {
          "output_type": "execute_result",
          "data": {
            "text/plain": [
              "(11, 20)"
            ]
          },
          "metadata": {},
          "execution_count": 443
        }
      ]
    },
    {
      "cell_type": "markdown",
      "source": [
        "update weight 3"
      ],
      "metadata": {
        "id": "5fqt0iIlxKTG"
      }
    },
    {
      "cell_type": "code",
      "source": [
        "dW = lr * aug_one(input[-4]).T @ delta_h[:, :-1]"
      ],
      "metadata": {
        "id": "lZqjQ-u_xfic"
      },
      "execution_count": null,
      "outputs": []
    },
    {
      "cell_type": "code",
      "source": [
        "dW.shape"
      ],
      "metadata": {
        "colab": {
          "base_uri": "https://localhost:8080/"
        },
        "outputId": "71de2354-bd09-49cf-fab6-05f87cdb07ef",
        "id": "vrR6_VN4xfid"
      },
      "execution_count": null,
      "outputs": [
        {
          "output_type": "execute_result",
          "data": {
            "text/plain": [
              "(11, 20)"
            ]
          },
          "metadata": {},
          "execution_count": 445
        }
      ]
    },
    {
      "cell_type": "code",
      "source": [
        "W[-3] = W[-3] + dW"
      ],
      "metadata": {
        "id": "GKfUdpfjxfid"
      },
      "execution_count": null,
      "outputs": []
    },
    {
      "cell_type": "markdown",
      "source": [
        "delta"
      ],
      "metadata": {
        "id": "jlOqQez4uGvT"
      }
    },
    {
      "cell_type": "code",
      "source": [
        "Oh = aug_one(input[-4])\n",
        "delta = delta_h[:, :-1]\n",
        "delta_h = Oh * (1 - Oh) * (delta @ W[-3].T) #delta h  Output layer Oh 3"
      ],
      "metadata": {
        "id": "Ta-IOkACnkdX"
      },
      "execution_count": null,
      "outputs": []
    },
    {
      "cell_type": "code",
      "source": [
        "delta_h.shape"
      ],
      "metadata": {
        "colab": {
          "base_uri": "https://localhost:8080/"
        },
        "id": "UXvj801Ynygg",
        "outputId": "3f52f665-29aa-4971-dc17-57f154ff277b"
      },
      "execution_count": null,
      "outputs": [
        {
          "output_type": "execute_result",
          "data": {
            "text/plain": [
              "(150, 11)"
            ]
          },
          "metadata": {},
          "execution_count": 448
        }
      ]
    },
    {
      "cell_type": "code",
      "source": [
        "W[-4].shape # want"
      ],
      "metadata": {
        "colab": {
          "base_uri": "https://localhost:8080/"
        },
        "id": "O0IH-N7Sn1J2",
        "outputId": "cc92f37e-3769-4813-f29c-8c43918eb6d3"
      },
      "execution_count": null,
      "outputs": [
        {
          "output_type": "execute_result",
          "data": {
            "text/plain": [
              "(5, 10)"
            ]
          },
          "metadata": {},
          "execution_count": 449
        }
      ]
    },
    {
      "cell_type": "markdown",
      "source": [
        "update w 4"
      ],
      "metadata": {
        "id": "3e2GVi3wxzLl"
      }
    },
    {
      "cell_type": "code",
      "source": [
        "dW = lr * aug_one(input[-5]).T @ delta_h[:, :-1]"
      ],
      "metadata": {
        "id": "4XdPPPvnw9Uc"
      },
      "execution_count": null,
      "outputs": []
    },
    {
      "cell_type": "code",
      "source": [
        "dW.shape"
      ],
      "metadata": {
        "colab": {
          "base_uri": "https://localhost:8080/"
        },
        "id": "nA6MikC-xPd7",
        "outputId": "28eb54e7-3c0b-468f-8511-ee2333bcfe4d"
      },
      "execution_count": null,
      "outputs": [
        {
          "output_type": "execute_result",
          "data": {
            "text/plain": [
              "(5, 10)"
            ]
          },
          "metadata": {},
          "execution_count": 451
        }
      ]
    },
    {
      "cell_type": "code",
      "source": [
        "W[-4] = W[-4] + dW"
      ],
      "metadata": {
        "id": "3wP4lwqlxTDk"
      },
      "execution_count": null,
      "outputs": []
    },
    {
      "cell_type": "markdown",
      "source": [
        "delta"
      ],
      "metadata": {
        "id": "LCpWlZLKuIay"
      }
    },
    {
      "cell_type": "code",
      "source": [
        "Oh = aug_one(input[-5])\n",
        "delta = delta_h[:, :-1]\n",
        "delta_h = Oh * (1 - Oh) * (delta @ W[-4].T) #delta h  Output layer Oh 4"
      ],
      "metadata": {
        "id": "1yu8C4NIoHdl"
      },
      "execution_count": null,
      "outputs": []
    },
    {
      "cell_type": "code",
      "source": [
        "delta_h.shape"
      ],
      "metadata": {
        "colab": {
          "base_uri": "https://localhost:8080/"
        },
        "id": "IPvrJhNvoTB1",
        "outputId": "7aca0e1b-bcdd-414d-f4dc-b7d4dfcf12bd"
      },
      "execution_count": null,
      "outputs": [
        {
          "output_type": "execute_result",
          "data": {
            "text/plain": [
              "(150, 5)"
            ]
          },
          "metadata": {},
          "execution_count": 454
        }
      ]
    },
    {
      "cell_type": "markdown",
      "source": [
        "![ข้อความลิงก์](https://drive.google.com/uc?id=1HoBvYyA4GXeUcjHTHKajkyhYXRsgyBkM)"
      ],
      "metadata": {
        "id": "8IJDd3gSq7KS"
      }
    },
    {
      "cell_type": "code",
      "source": [
        "sum([w.size for w in W])"
      ],
      "metadata": {
        "colab": {
          "base_uri": "https://localhost:8080/"
        },
        "id": "YiaOS9xmrDSr",
        "outputId": "3201af28-4cf0-4976-b029-045abc87a090"
      },
      "execution_count": null,
      "outputs": [
        {
          "output_type": "execute_result",
          "data": {
            "text/plain": [
              "513"
            ]
          },
          "metadata": {},
          "execution_count": 455
        }
      ]
    },
    {
      "cell_type": "markdown",
      "source": [
        "### Backward loop"
      ],
      "metadata": {
        "id": "_tTEzoMLzlds"
      }
    },
    {
      "cell_type": "code",
      "source": [
        "def MLP(X, Y, lr=0.1, epochs=100, h=[10, 20, 10]):\n",
        "  # initial weights\n",
        "  h = [X.shape[1]] + h + [len(labels)]\n",
        "  W = []\n",
        "  for i in range(len(h) - 1):\n",
        "    W.append(np.random.rand(h[i]+1, h[i+1]))\n",
        "\n",
        "  for epoch in range(epochs):\n",
        "\n",
        "    #===== forward\n",
        "    input = [X]\n",
        "    for i in range(len(W)):\n",
        "      input.append(sigmoid(aug_one(input[i]) @ W[i]))\n",
        "\n",
        "    #===== backward\n",
        "    # output layer\n",
        "    e = Y - input[-1]\n",
        "    if epoch % 100 == 0:\n",
        "      print(f'{epoch}: loss = {np.mean(e ** 2)}')\n",
        "    delta = input[-1] * (1 - input[-1]) * (Y - input[-1])\n",
        "\n",
        "    # update w\n",
        "    dW = lr * aug_one(input[-2]).T @ delta\n",
        "    W[-1] = W[-1] + dW\n",
        "    #print(f'update w[{-1}]')\n",
        "\n",
        "    for i in range(-1, 1 - len(h), -1):\n",
        "      # hidden layers\n",
        "      Oh = aug_one(input[i - 1]) # -2..-4\n",
        "      delta = Oh * (1 - Oh) * (delta @ W[i].T)  # -1..-3\n",
        "      delta = delta[:, :-1]\n",
        "      # update w\n",
        "      dW = lr * aug_one(input[i - 2]).T @ delta # -3..-5\n",
        "      W[i - 1] = W[i - 1] + dW #-2..-4\n",
        "      #print(f'update w[{i-1}]')\n",
        "  return W"
      ],
      "metadata": {
        "id": "M5192kYJ1cPH"
      },
      "execution_count": null,
      "outputs": []
    },
    {
      "cell_type": "code",
      "source": [
        "def forward(W, X):\n",
        "  input = X.copy()\n",
        "  for i in range(len(W)):\n",
        "    input = sigmoid(aug_one(input) @ W[i])\n",
        "  return input"
      ],
      "metadata": {
        "id": "MxpVC1ME40qE"
      },
      "execution_count": null,
      "outputs": []
    },
    {
      "cell_type": "code",
      "source": [
        "itrain = np.r_[:25, 50:75, 100:125]\n",
        "itest = np.r_[25:50, 75:100, 125:150]\n",
        "\n",
        "Xtrain = X_[itrain]\n",
        "Xtest = X_[itest]\n",
        "Ytrain = Y[itrain]\n",
        "Ytest = Y[itest]"
      ],
      "metadata": {
        "id": "lwHZQvQv36Ie"
      },
      "execution_count": null,
      "outputs": []
    },
    {
      "cell_type": "code",
      "source": [
        "W = MLP(Xtrain, Ytrain, lr=0.01, epochs=1500)"
      ],
      "metadata": {
        "colab": {
          "base_uri": "https://localhost:8080/"
        },
        "id": "8BKRznjA4Kg1",
        "outputId": "2d10964c-c9e1-49ea-f28e-dedb1179353e"
      },
      "execution_count": null,
      "outputs": [
        {
          "output_type": "stream",
          "name": "stdout",
          "text": [
            "0: loss = 0.6584505998650093\n",
            "100: loss = 0.2222227750943674\n",
            "200: loss = 0.22222222048817497\n",
            "300: loss = 0.22222222048646853\n",
            "400: loss = 0.22222222048476215\n",
            "500: loss = 0.22222222048305582\n",
            "600: loss = 0.22222222048134954\n",
            "700: loss = 0.22222222047964332\n",
            "800: loss = 0.22222222047793708\n",
            "900: loss = 0.22222222047623094\n",
            "1000: loss = 0.2222222204745249\n",
            "1100: loss = 0.22222222047281884\n",
            "1200: loss = 0.22222222047111284\n",
            "1300: loss = 0.22222222046940687\n",
            "1400: loss = 0.22222222046770096\n"
          ]
        }
      ]
    },
    {
      "cell_type": "code",
      "source": [
        "Ztest = forward(W, Xtest)"
      ],
      "metadata": {
        "id": "IEX4ITBj4UNk"
      },
      "execution_count": null,
      "outputs": []
    },
    {
      "cell_type": "code",
      "source": [
        "Ztest.shape"
      ],
      "metadata": {
        "colab": {
          "base_uri": "https://localhost:8080/"
        },
        "id": "P6_QvUad5M1z",
        "outputId": "1e6c27e4-f651-433d-9b15-21bf03fb0963"
      },
      "execution_count": null,
      "outputs": [
        {
          "output_type": "execute_result",
          "data": {
            "text/plain": [
              "(75, 3)"
            ]
          },
          "metadata": {},
          "execution_count": 461
        }
      ]
    },
    {
      "cell_type": "code",
      "source": [
        "Ytest.shape"
      ],
      "metadata": {
        "id": "D4z1DvaJ5N5j",
        "outputId": "5ea79db1-e49f-496c-9173-6f1ac01a4abd",
        "colab": {
          "base_uri": "https://localhost:8080/"
        }
      },
      "execution_count": null,
      "outputs": [
        {
          "output_type": "execute_result",
          "data": {
            "text/plain": [
              "(75, 3)"
            ]
          },
          "metadata": {},
          "execution_count": 462
        }
      ]
    },
    {
      "cell_type": "code",
      "source": [
        "np.sum(Ztest.argmax(axis=1) == Ytest.argmax(axis=1)) / len(Ztest)"
      ],
      "metadata": {
        "id": "N3V5i6jT5Pjj",
        "colab": {
          "base_uri": "https://localhost:8080/"
        },
        "outputId": "c826eeac-fd52-4ae0-960e-6d925fea1b50"
      },
      "execution_count": null,
      "outputs": [
        {
          "output_type": "execute_result",
          "data": {
            "text/plain": [
              "0.3333333333333333"
            ]
          },
          "metadata": {},
          "execution_count": 463
        }
      ]
    }
  ]
}